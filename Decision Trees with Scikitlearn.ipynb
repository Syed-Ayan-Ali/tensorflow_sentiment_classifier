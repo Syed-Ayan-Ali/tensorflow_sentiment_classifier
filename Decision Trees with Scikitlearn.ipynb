{
  "cells": [
    {
      "cell_type": "code",
      "execution_count": 90,
      "metadata": {
        "id": "B_OBHnehTEnm"
      },
      "outputs": [],
      "source": [
        "import pandas as pd"
      ]
    },
    {
      "cell_type": "code",
      "source": [
        "# Load CSV file\n",
        "train = pd.read_csv(\"/training.csv\")\n",
        "test = pd.read_csv(\"/training.csv\")"
      ],
      "metadata": {
        "id": "80vNT3eiU9zB"
      },
      "execution_count": 91,
      "outputs": []
    },
    {
      "cell_type": "code",
      "source": [
        "train"
      ],
      "metadata": {
        "id": "iIO-LCsAXJBI",
        "outputId": "44a61e16-ee30-463c-b9e7-c4554f2d72b8",
        "colab": {
          "base_uri": "https://localhost:8080/",
          "height": 444
        }
      },
      "execution_count": 92,
      "outputs": [
        {
          "output_type": "execute_result",
          "data": {
            "text/plain": [
              "    class  b1  b2  b3   b4  b5   b6   b7  b8  b9  ...  pred_minus_obs_H_b9  \\\n",
              "0      d   39  36  57   91  59  101   93  27  60  ...                -2.36   \n",
              "1      h   84  30  57  112  51   98   92  26  62  ...                -2.26   \n",
              "2      s   53  25  49   99  51   93   84  26  58  ...                -1.46   \n",
              "3      s   59  26  49  103  47   92   82  25  56  ...                 2.68   \n",
              "4      d   57  49  66  103  64  106  114  28  59  ...                -2.94   \n",
              "..    ...  ..  ..  ..  ...  ..  ...  ...  ..  ..  ...                  ...   \n",
              "193    d   55  61  90   75  55   91   84  24  54  ...                 1.28   \n",
              "194    d   66  69  93   90  63  100   99  25  57  ...                -1.50   \n",
              "195    h   79  30  55  115  51   96  109  25  59  ...                -3.66   \n",
              "196    h   69  27  53  106  47   90   87  24  55  ...                -0.88   \n",
              "197    h   80  29  55  116  50   95  102  25  59  ...                -4.19   \n",
              "\n",
              "     pred_minus_obs_S_b1  pred_minus_obs_S_b2  pred_minus_obs_S_b3  \\\n",
              "0                 -18.41                -1.88                -6.43   \n",
              "1                 -16.27                -1.95                -6.25   \n",
              "2                 -15.92                -1.79                -4.64   \n",
              "3                 -13.77                -2.53                -6.34   \n",
              "4                 -21.74                -1.64                -4.62   \n",
              "..                   ...                  ...                  ...   \n",
              "193               -20.84                -1.47                -5.72   \n",
              "194               -19.64                -1.45                -5.60   \n",
              "195               -22.40                -3.91                -6.61   \n",
              "196               -13.32                 0.16                -2.39   \n",
              "197               -21.98                -2.12                -6.03   \n",
              "\n",
              "     pred_minus_obs_S_b4  pred_minus_obs_S_b5  pred_minus_obs_S_b6  \\\n",
              "0                 -21.03                -1.60                -6.18   \n",
              "1                 -18.79                -1.99                -6.18   \n",
              "2                 -17.73                -0.48                -4.69   \n",
              "3                 -22.03                -2.34                -6.60   \n",
              "4                 -23.74                -0.85                -5.50   \n",
              "..                   ...                  ...                  ...   \n",
              "193               -18.73                -1.18                -5.22   \n",
              "194               -17.03                -1.08                -5.15   \n",
              "195               -36.29                -2.13                -5.77   \n",
              "196                -7.12                 0.02                -2.06   \n",
              "197               -26.08                -1.67                -5.82   \n",
              "\n",
              "     pred_minus_obs_S_b7  pred_minus_obs_S_b8  pred_minus_obs_S_b9  \n",
              "0                 -22.50                -5.20                -7.86  \n",
              "1                 -23.41                -8.87               -10.83  \n",
              "2                 -19.97                -4.10                -7.07  \n",
              "3                 -27.10                -7.99               -10.81  \n",
              "4                 -22.83                -2.74                -5.84  \n",
              "..                   ...                  ...                  ...  \n",
              "193               -17.81                -1.28                -3.87  \n",
              "194               -16.77                -1.46                -4.03  \n",
              "195               -23.32                -2.09                -4.13  \n",
              "196               -10.04                -0.74                -2.88  \n",
              "197               -20.91                -0.90                -3.70  \n",
              "\n",
              "[198 rows x 28 columns]"
            ],
            "text/html": [
              "\n",
              "  <div id=\"df-56422daa-5c47-420c-9100-519b01a7363d\" class=\"colab-df-container\">\n",
              "    <div>\n",
              "<style scoped>\n",
              "    .dataframe tbody tr th:only-of-type {\n",
              "        vertical-align: middle;\n",
              "    }\n",
              "\n",
              "    .dataframe tbody tr th {\n",
              "        vertical-align: top;\n",
              "    }\n",
              "\n",
              "    .dataframe thead th {\n",
              "        text-align: right;\n",
              "    }\n",
              "</style>\n",
              "<table border=\"1\" class=\"dataframe\">\n",
              "  <thead>\n",
              "    <tr style=\"text-align: right;\">\n",
              "      <th></th>\n",
              "      <th>class</th>\n",
              "      <th>b1</th>\n",
              "      <th>b2</th>\n",
              "      <th>b3</th>\n",
              "      <th>b4</th>\n",
              "      <th>b5</th>\n",
              "      <th>b6</th>\n",
              "      <th>b7</th>\n",
              "      <th>b8</th>\n",
              "      <th>b9</th>\n",
              "      <th>...</th>\n",
              "      <th>pred_minus_obs_H_b9</th>\n",
              "      <th>pred_minus_obs_S_b1</th>\n",
              "      <th>pred_minus_obs_S_b2</th>\n",
              "      <th>pred_minus_obs_S_b3</th>\n",
              "      <th>pred_minus_obs_S_b4</th>\n",
              "      <th>pred_minus_obs_S_b5</th>\n",
              "      <th>pred_minus_obs_S_b6</th>\n",
              "      <th>pred_minus_obs_S_b7</th>\n",
              "      <th>pred_minus_obs_S_b8</th>\n",
              "      <th>pred_minus_obs_S_b9</th>\n",
              "    </tr>\n",
              "  </thead>\n",
              "  <tbody>\n",
              "    <tr>\n",
              "      <th>0</th>\n",
              "      <td>d</td>\n",
              "      <td>39</td>\n",
              "      <td>36</td>\n",
              "      <td>57</td>\n",
              "      <td>91</td>\n",
              "      <td>59</td>\n",
              "      <td>101</td>\n",
              "      <td>93</td>\n",
              "      <td>27</td>\n",
              "      <td>60</td>\n",
              "      <td>...</td>\n",
              "      <td>-2.36</td>\n",
              "      <td>-18.41</td>\n",
              "      <td>-1.88</td>\n",
              "      <td>-6.43</td>\n",
              "      <td>-21.03</td>\n",
              "      <td>-1.60</td>\n",
              "      <td>-6.18</td>\n",
              "      <td>-22.50</td>\n",
              "      <td>-5.20</td>\n",
              "      <td>-7.86</td>\n",
              "    </tr>\n",
              "    <tr>\n",
              "      <th>1</th>\n",
              "      <td>h</td>\n",
              "      <td>84</td>\n",
              "      <td>30</td>\n",
              "      <td>57</td>\n",
              "      <td>112</td>\n",
              "      <td>51</td>\n",
              "      <td>98</td>\n",
              "      <td>92</td>\n",
              "      <td>26</td>\n",
              "      <td>62</td>\n",
              "      <td>...</td>\n",
              "      <td>-2.26</td>\n",
              "      <td>-16.27</td>\n",
              "      <td>-1.95</td>\n",
              "      <td>-6.25</td>\n",
              "      <td>-18.79</td>\n",
              "      <td>-1.99</td>\n",
              "      <td>-6.18</td>\n",
              "      <td>-23.41</td>\n",
              "      <td>-8.87</td>\n",
              "      <td>-10.83</td>\n",
              "    </tr>\n",
              "    <tr>\n",
              "      <th>2</th>\n",
              "      <td>s</td>\n",
              "      <td>53</td>\n",
              "      <td>25</td>\n",
              "      <td>49</td>\n",
              "      <td>99</td>\n",
              "      <td>51</td>\n",
              "      <td>93</td>\n",
              "      <td>84</td>\n",
              "      <td>26</td>\n",
              "      <td>58</td>\n",
              "      <td>...</td>\n",
              "      <td>-1.46</td>\n",
              "      <td>-15.92</td>\n",
              "      <td>-1.79</td>\n",
              "      <td>-4.64</td>\n",
              "      <td>-17.73</td>\n",
              "      <td>-0.48</td>\n",
              "      <td>-4.69</td>\n",
              "      <td>-19.97</td>\n",
              "      <td>-4.10</td>\n",
              "      <td>-7.07</td>\n",
              "    </tr>\n",
              "    <tr>\n",
              "      <th>3</th>\n",
              "      <td>s</td>\n",
              "      <td>59</td>\n",
              "      <td>26</td>\n",
              "      <td>49</td>\n",
              "      <td>103</td>\n",
              "      <td>47</td>\n",
              "      <td>92</td>\n",
              "      <td>82</td>\n",
              "      <td>25</td>\n",
              "      <td>56</td>\n",
              "      <td>...</td>\n",
              "      <td>2.68</td>\n",
              "      <td>-13.77</td>\n",
              "      <td>-2.53</td>\n",
              "      <td>-6.34</td>\n",
              "      <td>-22.03</td>\n",
              "      <td>-2.34</td>\n",
              "      <td>-6.60</td>\n",
              "      <td>-27.10</td>\n",
              "      <td>-7.99</td>\n",
              "      <td>-10.81</td>\n",
              "    </tr>\n",
              "    <tr>\n",
              "      <th>4</th>\n",
              "      <td>d</td>\n",
              "      <td>57</td>\n",
              "      <td>49</td>\n",
              "      <td>66</td>\n",
              "      <td>103</td>\n",
              "      <td>64</td>\n",
              "      <td>106</td>\n",
              "      <td>114</td>\n",
              "      <td>28</td>\n",
              "      <td>59</td>\n",
              "      <td>...</td>\n",
              "      <td>-2.94</td>\n",
              "      <td>-21.74</td>\n",
              "      <td>-1.64</td>\n",
              "      <td>-4.62</td>\n",
              "      <td>-23.74</td>\n",
              "      <td>-0.85</td>\n",
              "      <td>-5.50</td>\n",
              "      <td>-22.83</td>\n",
              "      <td>-2.74</td>\n",
              "      <td>-5.84</td>\n",
              "    </tr>\n",
              "    <tr>\n",
              "      <th>...</th>\n",
              "      <td>...</td>\n",
              "      <td>...</td>\n",
              "      <td>...</td>\n",
              "      <td>...</td>\n",
              "      <td>...</td>\n",
              "      <td>...</td>\n",
              "      <td>...</td>\n",
              "      <td>...</td>\n",
              "      <td>...</td>\n",
              "      <td>...</td>\n",
              "      <td>...</td>\n",
              "      <td>...</td>\n",
              "      <td>...</td>\n",
              "      <td>...</td>\n",
              "      <td>...</td>\n",
              "      <td>...</td>\n",
              "      <td>...</td>\n",
              "      <td>...</td>\n",
              "      <td>...</td>\n",
              "      <td>...</td>\n",
              "      <td>...</td>\n",
              "    </tr>\n",
              "    <tr>\n",
              "      <th>193</th>\n",
              "      <td>d</td>\n",
              "      <td>55</td>\n",
              "      <td>61</td>\n",
              "      <td>90</td>\n",
              "      <td>75</td>\n",
              "      <td>55</td>\n",
              "      <td>91</td>\n",
              "      <td>84</td>\n",
              "      <td>24</td>\n",
              "      <td>54</td>\n",
              "      <td>...</td>\n",
              "      <td>1.28</td>\n",
              "      <td>-20.84</td>\n",
              "      <td>-1.47</td>\n",
              "      <td>-5.72</td>\n",
              "      <td>-18.73</td>\n",
              "      <td>-1.18</td>\n",
              "      <td>-5.22</td>\n",
              "      <td>-17.81</td>\n",
              "      <td>-1.28</td>\n",
              "      <td>-3.87</td>\n",
              "    </tr>\n",
              "    <tr>\n",
              "      <th>194</th>\n",
              "      <td>d</td>\n",
              "      <td>66</td>\n",
              "      <td>69</td>\n",
              "      <td>93</td>\n",
              "      <td>90</td>\n",
              "      <td>63</td>\n",
              "      <td>100</td>\n",
              "      <td>99</td>\n",
              "      <td>25</td>\n",
              "      <td>57</td>\n",
              "      <td>...</td>\n",
              "      <td>-1.50</td>\n",
              "      <td>-19.64</td>\n",
              "      <td>-1.45</td>\n",
              "      <td>-5.60</td>\n",
              "      <td>-17.03</td>\n",
              "      <td>-1.08</td>\n",
              "      <td>-5.15</td>\n",
              "      <td>-16.77</td>\n",
              "      <td>-1.46</td>\n",
              "      <td>-4.03</td>\n",
              "    </tr>\n",
              "    <tr>\n",
              "      <th>195</th>\n",
              "      <td>h</td>\n",
              "      <td>79</td>\n",
              "      <td>30</td>\n",
              "      <td>55</td>\n",
              "      <td>115</td>\n",
              "      <td>51</td>\n",
              "      <td>96</td>\n",
              "      <td>109</td>\n",
              "      <td>25</td>\n",
              "      <td>59</td>\n",
              "      <td>...</td>\n",
              "      <td>-3.66</td>\n",
              "      <td>-22.40</td>\n",
              "      <td>-3.91</td>\n",
              "      <td>-6.61</td>\n",
              "      <td>-36.29</td>\n",
              "      <td>-2.13</td>\n",
              "      <td>-5.77</td>\n",
              "      <td>-23.32</td>\n",
              "      <td>-2.09</td>\n",
              "      <td>-4.13</td>\n",
              "    </tr>\n",
              "    <tr>\n",
              "      <th>196</th>\n",
              "      <td>h</td>\n",
              "      <td>69</td>\n",
              "      <td>27</td>\n",
              "      <td>53</td>\n",
              "      <td>106</td>\n",
              "      <td>47</td>\n",
              "      <td>90</td>\n",
              "      <td>87</td>\n",
              "      <td>24</td>\n",
              "      <td>55</td>\n",
              "      <td>...</td>\n",
              "      <td>-0.88</td>\n",
              "      <td>-13.32</td>\n",
              "      <td>0.16</td>\n",
              "      <td>-2.39</td>\n",
              "      <td>-7.12</td>\n",
              "      <td>0.02</td>\n",
              "      <td>-2.06</td>\n",
              "      <td>-10.04</td>\n",
              "      <td>-0.74</td>\n",
              "      <td>-2.88</td>\n",
              "    </tr>\n",
              "    <tr>\n",
              "      <th>197</th>\n",
              "      <td>h</td>\n",
              "      <td>80</td>\n",
              "      <td>29</td>\n",
              "      <td>55</td>\n",
              "      <td>116</td>\n",
              "      <td>50</td>\n",
              "      <td>95</td>\n",
              "      <td>102</td>\n",
              "      <td>25</td>\n",
              "      <td>59</td>\n",
              "      <td>...</td>\n",
              "      <td>-4.19</td>\n",
              "      <td>-21.98</td>\n",
              "      <td>-2.12</td>\n",
              "      <td>-6.03</td>\n",
              "      <td>-26.08</td>\n",
              "      <td>-1.67</td>\n",
              "      <td>-5.82</td>\n",
              "      <td>-20.91</td>\n",
              "      <td>-0.90</td>\n",
              "      <td>-3.70</td>\n",
              "    </tr>\n",
              "  </tbody>\n",
              "</table>\n",
              "<p>198 rows × 28 columns</p>\n",
              "</div>\n",
              "    <div class=\"colab-df-buttons\">\n",
              "\n",
              "  <div class=\"colab-df-container\">\n",
              "    <button class=\"colab-df-convert\" onclick=\"convertToInteractive('df-56422daa-5c47-420c-9100-519b01a7363d')\"\n",
              "            title=\"Convert this dataframe to an interactive table.\"\n",
              "            style=\"display:none;\">\n",
              "\n",
              "  <svg xmlns=\"http://www.w3.org/2000/svg\" height=\"24px\" viewBox=\"0 -960 960 960\">\n",
              "    <path d=\"M120-120v-720h720v720H120Zm60-500h600v-160H180v160Zm220 220h160v-160H400v160Zm0 220h160v-160H400v160ZM180-400h160v-160H180v160Zm440 0h160v-160H620v160ZM180-180h160v-160H180v160Zm440 0h160v-160H620v160Z\"/>\n",
              "  </svg>\n",
              "    </button>\n",
              "\n",
              "  <style>\n",
              "    .colab-df-container {\n",
              "      display:flex;\n",
              "      gap: 12px;\n",
              "    }\n",
              "\n",
              "    .colab-df-convert {\n",
              "      background-color: #E8F0FE;\n",
              "      border: none;\n",
              "      border-radius: 50%;\n",
              "      cursor: pointer;\n",
              "      display: none;\n",
              "      fill: #1967D2;\n",
              "      height: 32px;\n",
              "      padding: 0 0 0 0;\n",
              "      width: 32px;\n",
              "    }\n",
              "\n",
              "    .colab-df-convert:hover {\n",
              "      background-color: #E2EBFA;\n",
              "      box-shadow: 0px 1px 2px rgba(60, 64, 67, 0.3), 0px 1px 3px 1px rgba(60, 64, 67, 0.15);\n",
              "      fill: #174EA6;\n",
              "    }\n",
              "\n",
              "    .colab-df-buttons div {\n",
              "      margin-bottom: 4px;\n",
              "    }\n",
              "\n",
              "    [theme=dark] .colab-df-convert {\n",
              "      background-color: #3B4455;\n",
              "      fill: #D2E3FC;\n",
              "    }\n",
              "\n",
              "    [theme=dark] .colab-df-convert:hover {\n",
              "      background-color: #434B5C;\n",
              "      box-shadow: 0px 1px 3px 1px rgba(0, 0, 0, 0.15);\n",
              "      filter: drop-shadow(0px 1px 2px rgba(0, 0, 0, 0.3));\n",
              "      fill: #FFFFFF;\n",
              "    }\n",
              "  </style>\n",
              "\n",
              "    <script>\n",
              "      const buttonEl =\n",
              "        document.querySelector('#df-56422daa-5c47-420c-9100-519b01a7363d button.colab-df-convert');\n",
              "      buttonEl.style.display =\n",
              "        google.colab.kernel.accessAllowed ? 'block' : 'none';\n",
              "\n",
              "      async function convertToInteractive(key) {\n",
              "        const element = document.querySelector('#df-56422daa-5c47-420c-9100-519b01a7363d');\n",
              "        const dataTable =\n",
              "          await google.colab.kernel.invokeFunction('convertToInteractive',\n",
              "                                                    [key], {});\n",
              "        if (!dataTable) return;\n",
              "\n",
              "        const docLinkHtml = 'Like what you see? Visit the ' +\n",
              "          '<a target=\"_blank\" href=https://colab.research.google.com/notebooks/data_table.ipynb>data table notebook</a>'\n",
              "          + ' to learn more about interactive tables.';\n",
              "        element.innerHTML = '';\n",
              "        dataTable['output_type'] = 'display_data';\n",
              "        await google.colab.output.renderOutput(dataTable, element);\n",
              "        const docLink = document.createElement('div');\n",
              "        docLink.innerHTML = docLinkHtml;\n",
              "        element.appendChild(docLink);\n",
              "      }\n",
              "    </script>\n",
              "  </div>\n",
              "\n",
              "\n",
              "<div id=\"df-8cac0cbb-12f4-4648-853d-f1e6a526bdb7\">\n",
              "  <button class=\"colab-df-quickchart\" onclick=\"quickchart('df-8cac0cbb-12f4-4648-853d-f1e6a526bdb7')\"\n",
              "            title=\"Suggest charts\"\n",
              "            style=\"display:none;\">\n",
              "\n",
              "<svg xmlns=\"http://www.w3.org/2000/svg\" height=\"24px\"viewBox=\"0 0 24 24\"\n",
              "     width=\"24px\">\n",
              "    <g>\n",
              "        <path d=\"M19 3H5c-1.1 0-2 .9-2 2v14c0 1.1.9 2 2 2h14c1.1 0 2-.9 2-2V5c0-1.1-.9-2-2-2zM9 17H7v-7h2v7zm4 0h-2V7h2v10zm4 0h-2v-4h2v4z\"/>\n",
              "    </g>\n",
              "</svg>\n",
              "  </button>\n",
              "\n",
              "<style>\n",
              "  .colab-df-quickchart {\n",
              "      --bg-color: #E8F0FE;\n",
              "      --fill-color: #1967D2;\n",
              "      --hover-bg-color: #E2EBFA;\n",
              "      --hover-fill-color: #174EA6;\n",
              "      --disabled-fill-color: #AAA;\n",
              "      --disabled-bg-color: #DDD;\n",
              "  }\n",
              "\n",
              "  [theme=dark] .colab-df-quickchart {\n",
              "      --bg-color: #3B4455;\n",
              "      --fill-color: #D2E3FC;\n",
              "      --hover-bg-color: #434B5C;\n",
              "      --hover-fill-color: #FFFFFF;\n",
              "      --disabled-bg-color: #3B4455;\n",
              "      --disabled-fill-color: #666;\n",
              "  }\n",
              "\n",
              "  .colab-df-quickchart {\n",
              "    background-color: var(--bg-color);\n",
              "    border: none;\n",
              "    border-radius: 50%;\n",
              "    cursor: pointer;\n",
              "    display: none;\n",
              "    fill: var(--fill-color);\n",
              "    height: 32px;\n",
              "    padding: 0;\n",
              "    width: 32px;\n",
              "  }\n",
              "\n",
              "  .colab-df-quickchart:hover {\n",
              "    background-color: var(--hover-bg-color);\n",
              "    box-shadow: 0 1px 2px rgba(60, 64, 67, 0.3), 0 1px 3px 1px rgba(60, 64, 67, 0.15);\n",
              "    fill: var(--button-hover-fill-color);\n",
              "  }\n",
              "\n",
              "  .colab-df-quickchart-complete:disabled,\n",
              "  .colab-df-quickchart-complete:disabled:hover {\n",
              "    background-color: var(--disabled-bg-color);\n",
              "    fill: var(--disabled-fill-color);\n",
              "    box-shadow: none;\n",
              "  }\n",
              "\n",
              "  .colab-df-spinner {\n",
              "    border: 2px solid var(--fill-color);\n",
              "    border-color: transparent;\n",
              "    border-bottom-color: var(--fill-color);\n",
              "    animation:\n",
              "      spin 1s steps(1) infinite;\n",
              "  }\n",
              "\n",
              "  @keyframes spin {\n",
              "    0% {\n",
              "      border-color: transparent;\n",
              "      border-bottom-color: var(--fill-color);\n",
              "      border-left-color: var(--fill-color);\n",
              "    }\n",
              "    20% {\n",
              "      border-color: transparent;\n",
              "      border-left-color: var(--fill-color);\n",
              "      border-top-color: var(--fill-color);\n",
              "    }\n",
              "    30% {\n",
              "      border-color: transparent;\n",
              "      border-left-color: var(--fill-color);\n",
              "      border-top-color: var(--fill-color);\n",
              "      border-right-color: var(--fill-color);\n",
              "    }\n",
              "    40% {\n",
              "      border-color: transparent;\n",
              "      border-right-color: var(--fill-color);\n",
              "      border-top-color: var(--fill-color);\n",
              "    }\n",
              "    60% {\n",
              "      border-color: transparent;\n",
              "      border-right-color: var(--fill-color);\n",
              "    }\n",
              "    80% {\n",
              "      border-color: transparent;\n",
              "      border-right-color: var(--fill-color);\n",
              "      border-bottom-color: var(--fill-color);\n",
              "    }\n",
              "    90% {\n",
              "      border-color: transparent;\n",
              "      border-bottom-color: var(--fill-color);\n",
              "    }\n",
              "  }\n",
              "</style>\n",
              "\n",
              "  <script>\n",
              "    async function quickchart(key) {\n",
              "      const quickchartButtonEl =\n",
              "        document.querySelector('#' + key + ' button');\n",
              "      quickchartButtonEl.disabled = true;  // To prevent multiple clicks.\n",
              "      quickchartButtonEl.classList.add('colab-df-spinner');\n",
              "      try {\n",
              "        const charts = await google.colab.kernel.invokeFunction(\n",
              "            'suggestCharts', [key], {});\n",
              "      } catch (error) {\n",
              "        console.error('Error during call to suggestCharts:', error);\n",
              "      }\n",
              "      quickchartButtonEl.classList.remove('colab-df-spinner');\n",
              "      quickchartButtonEl.classList.add('colab-df-quickchart-complete');\n",
              "    }\n",
              "    (() => {\n",
              "      let quickchartButtonEl =\n",
              "        document.querySelector('#df-8cac0cbb-12f4-4648-853d-f1e6a526bdb7 button');\n",
              "      quickchartButtonEl.style.display =\n",
              "        google.colab.kernel.accessAllowed ? 'block' : 'none';\n",
              "    })();\n",
              "  </script>\n",
              "</div>\n",
              "    </div>\n",
              "  </div>\n"
            ],
            "application/vnd.google.colaboratory.intrinsic+json": {
              "type": "dataframe",
              "variable_name": "train"
            }
          },
          "metadata": {},
          "execution_count": 92
        }
      ]
    },
    {
      "cell_type": "markdown",
      "source": [],
      "metadata": {
        "id": "1m-KAehjW9VD"
      }
    },
    {
      "cell_type": "code",
      "execution_count": 102,
      "metadata": {
        "id": "VB4ETPzoTEnp",
        "outputId": "e27eb316-51ee-4337-fc56-e90af200122f",
        "colab": {
          "base_uri": "https://localhost:8080/"
        }
      },
      "outputs": [
        {
          "output_type": "stream",
          "name": "stdout",
          "text": [
            "0      d \n",
            "1      h \n",
            "2      s \n",
            "3      s \n",
            "4      d \n",
            "       ..\n",
            "193    d \n",
            "194    d \n",
            "195    h \n",
            "196    h \n",
            "197    h \n",
            "Name: class, Length: 198, dtype: object\n"
          ]
        }
      ],
      "source": [
        "#from sklearn.model_selection import train_test_split\n",
        "X = train.copy()\n",
        "y = X.pop('class')\n",
        "Xt = test.copy()\n",
        "yt = Xt.pop('class')\n",
        "# y = dataset['class']\n",
        "# X_train, X_test, y_train, y_test = train_test_split(X, y, test_size=0.33)\n"
      ]
    },
    {
      "cell_type": "code",
      "execution_count": 94,
      "metadata": {
        "id": "yseE95dsTEnq",
        "outputId": "817c9936-fa7c-4d64-e19e-09ee949e778c",
        "colab": {
          "base_uri": "https://localhost:8080/",
          "height": 236
        }
      },
      "outputs": [
        {
          "output_type": "execute_result",
          "data": {
            "image/svg+xml": "<?xml version=\"1.0\" encoding=\"UTF-8\" standalone=\"no\"?>\n<!DOCTYPE svg PUBLIC \"-//W3C//DTD SVG 1.1//EN\"\n \"http://www.w3.org/Graphics/SVG/1.1/DTD/svg11.dtd\">\n<!-- Generated by graphviz version 2.43.0 (0)\n -->\n<!-- Title: Tree Pages: 1 -->\n<svg width=\"306pt\" height=\"161pt\"\n viewBox=\"0.00 0.00 306.00 161.00\" xmlns=\"http://www.w3.org/2000/svg\" xmlns:xlink=\"http://www.w3.org/1999/xlink\">\n<g id=\"graph0\" class=\"graph\" transform=\"scale(1 1) rotate(0) translate(4 157)\">\n<title>Tree</title>\n<polygon fill=\"white\" stroke=\"transparent\" points=\"-4,4 -4,-157 302,-157 302,4 -4,4\"/>\n<!-- 0 -->\n<g id=\"node1\" class=\"node\">\n<title>0</title>\n<path fill=\"#fef8fe\" stroke=\"black\" d=\"M214.5,-153C214.5,-153 83.5,-153 83.5,-153 77.5,-153 71.5,-147 71.5,-141 71.5,-141 71.5,-101 71.5,-101 71.5,-95 77.5,-89 83.5,-89 83.5,-89 214.5,-89 214.5,-89 220.5,-89 226.5,-95 226.5,-101 226.5,-101 226.5,-141 226.5,-141 226.5,-147 220.5,-153 214.5,-153\"/>\n<text text-anchor=\"start\" x=\"121\" y=\"-138.8\" font-family=\"Helvetica,sans-Serif\" font-size=\"14.00\">x</text>\n<text text-anchor=\"start\" x=\"128\" y=\"-138.8\" font-family=\"Helvetica,sans-Serif\" baseline-shift=\"sub\" font-size=\"14.00\">1</text>\n<text text-anchor=\"start\" x=\"135\" y=\"-138.8\" font-family=\"Helvetica,sans-Serif\" font-size=\"14.00\"> ≤ 35.5</text>\n<text text-anchor=\"start\" x=\"113.5\" y=\"-124.8\" font-family=\"Helvetica,sans-Serif\" font-size=\"14.00\">gini = 0.743</text>\n<text text-anchor=\"start\" x=\"104\" y=\"-110.8\" font-family=\"Helvetica,sans-Serif\" font-size=\"14.00\">samples = 198</text>\n<text text-anchor=\"start\" x=\"79.5\" y=\"-96.8\" font-family=\"Helvetica,sans-Serif\" font-size=\"14.00\">value = [54, 48, 37, 59]</text>\n</g>\n<!-- 1 -->\n<g id=\"node2\" class=\"node\">\n<title>1</title>\n<path fill=\"#f8dbfa\" stroke=\"black\" d=\"M128,-53C128,-53 12,-53 12,-53 6,-53 0,-47 0,-41 0,-41 0,-12 0,-12 0,-6 6,0 12,0 12,0 128,0 128,0 134,0 140,-6 140,-12 140,-12 140,-41 140,-41 140,-47 134,-53 128,-53\"/>\n<text text-anchor=\"start\" x=\"34.5\" y=\"-37.8\" font-family=\"Helvetica,sans-Serif\" font-size=\"14.00\">gini = 0.504</text>\n<text text-anchor=\"start\" x=\"25\" y=\"-22.8\" font-family=\"Helvetica,sans-Serif\" font-size=\"14.00\">samples = 108</text>\n<text text-anchor=\"start\" x=\"8\" y=\"-7.8\" font-family=\"Helvetica,sans-Serif\" font-size=\"14.00\">value = [1, 48, 0, 59]</text>\n</g>\n<!-- 0&#45;&gt;1 -->\n<g id=\"edge1\" class=\"edge\">\n<title>0&#45;&gt;1</title>\n<path fill=\"none\" stroke=\"black\" d=\"M122.47,-88.94C114.78,-79.93 106.34,-70.05 98.53,-60.9\"/>\n<polygon fill=\"black\" stroke=\"black\" points=\"101.01,-58.42 91.86,-53.09 95.69,-62.97 101.01,-58.42\"/>\n<text text-anchor=\"middle\" x=\"89.89\" y=\"-74.31\" font-family=\"Helvetica,sans-Serif\" font-size=\"14.00\">True</text>\n</g>\n<!-- 2 -->\n<g id=\"node3\" class=\"node\">\n<title>2</title>\n<path fill=\"#f7d9c3\" stroke=\"black\" d=\"M286,-53C286,-53 170,-53 170,-53 164,-53 158,-47 158,-41 158,-41 158,-12 158,-12 158,-6 164,0 170,0 170,0 286,0 286,0 292,0 298,-6 298,-12 298,-12 298,-41 298,-41 298,-47 292,-53 286,-53\"/>\n<text text-anchor=\"start\" x=\"192.5\" y=\"-37.8\" font-family=\"Helvetica,sans-Serif\" font-size=\"14.00\">gini = 0.484</text>\n<text text-anchor=\"start\" x=\"187\" y=\"-22.8\" font-family=\"Helvetica,sans-Serif\" font-size=\"14.00\">samples = 90</text>\n<text text-anchor=\"start\" x=\"166\" y=\"-7.8\" font-family=\"Helvetica,sans-Serif\" font-size=\"14.00\">value = [53, 0, 37, 0]</text>\n</g>\n<!-- 0&#45;&gt;2 -->\n<g id=\"edge2\" class=\"edge\">\n<title>0&#45;&gt;2</title>\n<path fill=\"none\" stroke=\"black\" d=\"M175.53,-88.94C183.22,-79.93 191.66,-70.05 199.47,-60.9\"/>\n<polygon fill=\"black\" stroke=\"black\" points=\"202.31,-62.97 206.14,-53.09 196.99,-58.42 202.31,-62.97\"/>\n<text text-anchor=\"middle\" x=\"208.11\" y=\"-74.31\" font-family=\"Helvetica,sans-Serif\" font-size=\"14.00\">False</text>\n</g>\n</g>\n</svg>\n",
            "text/plain": [
              "<graphviz.sources.Source at 0x7d404d0fec80>"
            ]
          },
          "metadata": {},
          "execution_count": 94
        }
      ],
      "source": [
        "from sklearn import tree\n",
        "import graphviz\n",
        "clf = tree.DecisionTreeClassifier(max_depth=1)\n",
        "clf = clf.fit(X, y)\n",
        "dot_data = tree.export_graphviz(clf, out_file=None, filled=True, rounded=True, special_characters=True)\n",
        "graph = graphviz.Source(dot_data)\n",
        "graph.render('Forest Type Mapping', view=True)\n",
        "graph"
      ]
    },
    {
      "cell_type": "code",
      "source": [
        "yp = clf.predict(Xt)"
      ],
      "metadata": {
        "id": "P15wBTWOh9GX"
      },
      "execution_count": 95,
      "outputs": []
    },
    {
      "cell_type": "code",
      "source": [
        "from sklearn.metrics import accuracy_score, precision_score, recall_score, f1_score\n",
        "\n",
        "# Calculate accuracy\n",
        "accuracy = accuracy_score(yt, yp)\n",
        "\n",
        "# Calculate precision\n",
        "precision = precision_score(yt, yp, average='micro')\n",
        "\n",
        "# Calculate recall\n",
        "recall = recall_score(yt, yp, average='micro')\n",
        "\n",
        "# Calculate F1-score\n",
        "f1 = f1_score(yt, yp, average='micro')"
      ],
      "metadata": {
        "id": "MYslRjdfipwa"
      },
      "execution_count": 103,
      "outputs": []
    },
    {
      "cell_type": "code",
      "source": [
        "report = classification_report(yt, yp)\n",
        "print(report)"
      ],
      "metadata": {
        "id": "iht2wQrkjlxX",
        "outputId": "0161bf33-52f8-4a5a-94f7-ae1c44e803ee",
        "colab": {
          "base_uri": "https://localhost:8080/"
        }
      },
      "execution_count": 104,
      "outputs": [
        {
          "output_type": "stream",
          "name": "stdout",
          "text": [
            "              precision    recall  f1-score   support\n",
            "\n",
            "          d        0.59      0.98      0.74        54\n",
            "          h        0.00      0.00      0.00        48\n",
            "          o        0.00      0.00      0.00        37\n",
            "          s        0.55      1.00      0.71        59\n",
            "\n",
            "    accuracy                           0.57       198\n",
            "   macro avg       0.28      0.50      0.36       198\n",
            "weighted avg       0.32      0.57      0.41       198\n",
            "\n"
          ]
        },
        {
          "output_type": "stream",
          "name": "stderr",
          "text": [
            "/usr/local/lib/python3.10/dist-packages/sklearn/metrics/_classification.py:1344: UndefinedMetricWarning: Precision and F-score are ill-defined and being set to 0.0 in labels with no predicted samples. Use `zero_division` parameter to control this behavior.\n",
            "  _warn_prf(average, modifier, msg_start, len(result))\n",
            "/usr/local/lib/python3.10/dist-packages/sklearn/metrics/_classification.py:1344: UndefinedMetricWarning: Precision and F-score are ill-defined and being set to 0.0 in labels with no predicted samples. Use `zero_division` parameter to control this behavior.\n",
            "  _warn_prf(average, modifier, msg_start, len(result))\n",
            "/usr/local/lib/python3.10/dist-packages/sklearn/metrics/_classification.py:1344: UndefinedMetricWarning: Precision and F-score are ill-defined and being set to 0.0 in labels with no predicted samples. Use `zero_division` parameter to control this behavior.\n",
            "  _warn_prf(average, modifier, msg_start, len(result))\n"
          ]
        }
      ]
    },
    {
      "cell_type": "code",
      "source": [
        "import matplotlib.pyplot as plt\n",
        "import seaborn as sns\n",
        "from sklearn.metrics import confusion_matrix\n",
        "\n",
        "# Get the predicted labels\n",
        "y_pred = clf.predict(X)\n",
        "\n",
        "# Create a confusion matrix\n",
        "cm = confusion_matrix(y, yp)\n",
        "\n",
        "# Create a heatmap for visualization\n",
        "plt.figure(figsize=(8, 6))\n",
        "sns.heatmap(cm, annot=True, fmt=\"d\", cmap=\"Blues\")\n",
        "plt.xlabel(\"Predicted Labels\")\n",
        "plt.ylabel(\"True Labels\")\n",
        "plt.title(\"Confusion Matrix\")\n",
        "plt.show()"
      ],
      "metadata": {
        "id": "yNronsXRho_5",
        "outputId": "2b73f1d3-9236-49db-9b05-52f105b55d18",
        "colab": {
          "base_uri": "https://localhost:8080/",
          "height": 564
        }
      },
      "execution_count": 105,
      "outputs": [
        {
          "output_type": "display_data",
          "data": {
            "text/plain": [
              "<Figure size 800x600 with 2 Axes>"
            ],
            "image/png": "[encoded data removed]"
          },
          "metadata": {}
        }
      ]
    },
    {
      "cell_type": "code",
      "source": [],
      "metadata": {
        "id": "5GblC2AEho8i"
      },
      "execution_count": 105,
      "outputs": []
    },
    {
      "cell_type": "code",
      "execution_count": 38,
      "metadata": {
        "id": "TpBWRjGxTEnq",
        "outputId": "bb690701-299a-4b09-aa3c-5a6be3039fa8",
        "colab": {
          "base_uri": "https://localhost:8080/",
          "height": 503
        }
      },
      "outputs": [
        {
          "output_type": "execute_result",
          "data": {
            "image/svg+xml": "<?xml version=\"1.0\" encoding=\"UTF-8\" standalone=\"no\"?>\n<!DOCTYPE svg PUBLIC \"-//W3C//DTD SVG 1.1//EN\"\n \"http://www.w3.org/Graphics/SVG/1.1/DTD/svg11.dtd\">\n<!-- Generated by graphviz version 2.43.0 (0)\n -->\n<!-- Title: Tree Pages: 1 -->\n<svg width=\"877pt\" height=\"361pt\"\n viewBox=\"0.00 0.00 877.00 361.00\" xmlns=\"http://www.w3.org/2000/svg\" xmlns:xlink=\"http://www.w3.org/1999/xlink\">\n<g id=\"graph0\" class=\"graph\" transform=\"scale(1 1) rotate(0) translate(4 357)\">\n<title>Tree</title>\n<polygon fill=\"white\" stroke=\"transparent\" points=\"-4,4 -4,-357 873,-357 873,4 -4,4\"/>\n<!-- 0 -->\n<g id=\"node1\" class=\"node\">\n<title>0</title>\n<path fill=\"#fef8fe\" stroke=\"black\" d=\"M639.5,-353C639.5,-353 508.5,-353 508.5,-353 502.5,-353 496.5,-347 496.5,-341 496.5,-341 496.5,-301 496.5,-301 496.5,-295 502.5,-289 508.5,-289 508.5,-289 639.5,-289 639.5,-289 645.5,-289 651.5,-295 651.5,-301 651.5,-301 651.5,-341 651.5,-341 651.5,-347 645.5,-353 639.5,-353\"/>\n<text text-anchor=\"start\" x=\"546\" y=\"-338.8\" font-family=\"Helvetica,sans-Serif\" font-size=\"14.00\">x</text>\n<text text-anchor=\"start\" x=\"553\" y=\"-338.8\" font-family=\"Helvetica,sans-Serif\" baseline-shift=\"sub\" font-size=\"14.00\">1</text>\n<text text-anchor=\"start\" x=\"560\" y=\"-338.8\" font-family=\"Helvetica,sans-Serif\" font-size=\"14.00\"> ≤ 35.5</text>\n<text text-anchor=\"start\" x=\"538.5\" y=\"-324.8\" font-family=\"Helvetica,sans-Serif\" font-size=\"14.00\">gini = 0.743</text>\n<text text-anchor=\"start\" x=\"529\" y=\"-310.8\" font-family=\"Helvetica,sans-Serif\" font-size=\"14.00\">samples = 198</text>\n<text text-anchor=\"start\" x=\"504.5\" y=\"-296.8\" font-family=\"Helvetica,sans-Serif\" font-size=\"14.00\">value = [54, 48, 37, 59]</text>\n</g>\n<!-- 1 -->\n<g id=\"node2\" class=\"node\">\n<title>1</title>\n<path fill=\"#f8dbfa\" stroke=\"black\" d=\"M487,-253C487,-253 371,-253 371,-253 365,-253 359,-247 359,-241 359,-241 359,-201 359,-201 359,-195 365,-189 371,-189 371,-189 487,-189 487,-189 493,-189 499,-195 499,-201 499,-201 499,-241 499,-241 499,-247 493,-253 487,-253\"/>\n<text text-anchor=\"start\" x=\"397.5\" y=\"-238.8\" font-family=\"Helvetica,sans-Serif\" font-size=\"14.00\">x</text>\n<text text-anchor=\"start\" x=\"404.5\" y=\"-238.8\" font-family=\"Helvetica,sans-Serif\" baseline-shift=\"sub\" font-size=\"14.00\">9</text>\n<text text-anchor=\"start\" x=\"411.5\" y=\"-238.8\" font-family=\"Helvetica,sans-Serif\" font-size=\"14.00\"> ≤ 41.39</text>\n<text text-anchor=\"start\" x=\"393.5\" y=\"-224.8\" font-family=\"Helvetica,sans-Serif\" font-size=\"14.00\">gini = 0.504</text>\n<text text-anchor=\"start\" x=\"384\" y=\"-210.8\" font-family=\"Helvetica,sans-Serif\" font-size=\"14.00\">samples = 108</text>\n<text text-anchor=\"start\" x=\"367\" y=\"-196.8\" font-family=\"Helvetica,sans-Serif\" font-size=\"14.00\">value = [1, 48, 0, 59]</text>\n</g>\n<!-- 0&#45;&gt;1 -->\n<g id=\"edge1\" class=\"edge\">\n<title>0&#45;&gt;1</title>\n<path fill=\"none\" stroke=\"black\" d=\"M528.12,-288.99C513.97,-279.43 498.25,-268.81 483.58,-258.89\"/>\n<polygon fill=\"black\" stroke=\"black\" points=\"485.32,-255.84 475.08,-253.14 481.4,-261.64 485.32,-255.84\"/>\n<text text-anchor=\"middle\" x=\"479.83\" y=\"-273.99\" font-family=\"Helvetica,sans-Serif\" font-size=\"14.00\">True</text>\n</g>\n<!-- 8 -->\n<g id=\"node9\" class=\"node\">\n<title>8</title>\n<path fill=\"#f7d9c3\" stroke=\"black\" d=\"M711,-253C711,-253 595,-253 595,-253 589,-253 583,-247 583,-241 583,-241 583,-201 583,-201 583,-195 589,-189 595,-189 595,-189 711,-189 711,-189 717,-189 723,-195 723,-201 723,-201 723,-241 723,-241 723,-247 717,-253 711,-253\"/>\n<text text-anchor=\"start\" x=\"615.5\" y=\"-238.8\" font-family=\"Helvetica,sans-Serif\" font-size=\"14.00\">x</text>\n<text text-anchor=\"start\" x=\"622.5\" y=\"-238.8\" font-family=\"Helvetica,sans-Serif\" baseline-shift=\"sub\" font-size=\"14.00\">17</text>\n<text text-anchor=\"start\" x=\"636.5\" y=\"-238.8\" font-family=\"Helvetica,sans-Serif\" font-size=\"14.00\"> ≤ &#45;7.525</text>\n<text text-anchor=\"start\" x=\"617.5\" y=\"-224.8\" font-family=\"Helvetica,sans-Serif\" font-size=\"14.00\">gini = 0.484</text>\n<text text-anchor=\"start\" x=\"612\" y=\"-210.8\" font-family=\"Helvetica,sans-Serif\" font-size=\"14.00\">samples = 90</text>\n<text text-anchor=\"start\" x=\"591\" y=\"-196.8\" font-family=\"Helvetica,sans-Serif\" font-size=\"14.00\">value = [53, 0, 37, 0]</text>\n</g>\n<!-- 0&#45;&gt;8 -->\n<g id=\"edge8\" class=\"edge\">\n<title>0&#45;&gt;8</title>\n<path fill=\"none\" stroke=\"black\" d=\"M599,-288.99C606.13,-280.14 613.99,-270.39 621.46,-261.12\"/>\n<polygon fill=\"black\" stroke=\"black\" points=\"624.34,-263.12 627.9,-253.14 618.89,-258.73 624.34,-263.12\"/>\n<text text-anchor=\"middle\" x=\"630.56\" y=\"-274.3\" font-family=\"Helvetica,sans-Serif\" font-size=\"14.00\">False</text>\n</g>\n<!-- 2 -->\n<g id=\"node3\" class=\"node\">\n<title>2</title>\n<path fill=\"#4be63d\" stroke=\"black\" d=\"M267,-153C267,-153 159,-153 159,-153 153,-153 147,-147 147,-141 147,-141 147,-101 147,-101 147,-95 153,-89 159,-89 159,-89 267,-89 267,-89 273,-89 279,-95 279,-101 279,-101 279,-141 279,-141 279,-147 273,-153 267,-153\"/>\n<text text-anchor=\"start\" x=\"175.5\" y=\"-138.8\" font-family=\"Helvetica,sans-Serif\" font-size=\"14.00\">x</text>\n<text text-anchor=\"start\" x=\"182.5\" y=\"-138.8\" font-family=\"Helvetica,sans-Serif\" baseline-shift=\"sub\" font-size=\"14.00\">21</text>\n<text text-anchor=\"start\" x=\"196.5\" y=\"-138.8\" font-family=\"Helvetica,sans-Serif\" font-size=\"14.00\"> ≤ &#45;0.815</text>\n<text text-anchor=\"start\" x=\"177.5\" y=\"-124.8\" font-family=\"Helvetica,sans-Serif\" font-size=\"14.00\">gini = 0.042</text>\n<text text-anchor=\"start\" x=\"172\" y=\"-110.8\" font-family=\"Helvetica,sans-Serif\" font-size=\"14.00\">samples = 47</text>\n<text text-anchor=\"start\" x=\"155\" y=\"-96.8\" font-family=\"Helvetica,sans-Serif\" font-size=\"14.00\">value = [0, 46, 0, 1]</text>\n</g>\n<!-- 1&#45;&gt;2 -->\n<g id=\"edge2\" class=\"edge\">\n<title>1&#45;&gt;2</title>\n<path fill=\"none\" stroke=\"black\" d=\"M360.66,-188.99C337.63,-178.55 311.82,-166.83 288.29,-156.16\"/>\n<polygon fill=\"black\" stroke=\"black\" points=\"289.61,-152.91 279.05,-151.97 286.71,-159.29 289.61,-152.91\"/>\n</g>\n<!-- 5 -->\n<g id=\"node6\" class=\"node\">\n<title>5</title>\n<path fill=\"#d943e6\" stroke=\"black\" d=\"M483,-153C483,-153 375,-153 375,-153 369,-153 363,-147 363,-141 363,-141 363,-101 363,-101 363,-95 369,-89 375,-89 375,-89 483,-89 483,-89 489,-89 495,-95 495,-101 495,-101 495,-141 495,-141 495,-147 489,-153 483,-153\"/>\n<text text-anchor=\"start\" x=\"388\" y=\"-138.8\" font-family=\"Helvetica,sans-Serif\" font-size=\"14.00\">x</text>\n<text text-anchor=\"start\" x=\"395\" y=\"-138.8\" font-family=\"Helvetica,sans-Serif\" baseline-shift=\"sub\" font-size=\"14.00\">15</text>\n<text text-anchor=\"start\" x=\"409\" y=\"-138.8\" font-family=\"Helvetica,sans-Serif\" font-size=\"14.00\"> ≤ &#45;17.815</text>\n<text text-anchor=\"start\" x=\"393.5\" y=\"-124.8\" font-family=\"Helvetica,sans-Serif\" font-size=\"14.00\">gini = 0.095</text>\n<text text-anchor=\"start\" x=\"388\" y=\"-110.8\" font-family=\"Helvetica,sans-Serif\" font-size=\"14.00\">samples = 61</text>\n<text text-anchor=\"start\" x=\"371\" y=\"-96.8\" font-family=\"Helvetica,sans-Serif\" font-size=\"14.00\">value = [1, 2, 0, 58]</text>\n</g>\n<!-- 1&#45;&gt;5 -->\n<g id=\"edge5\" class=\"edge\">\n<title>1&#45;&gt;5</title>\n<path fill=\"none\" stroke=\"black\" d=\"M429,-188.99C429,-180.86 429,-171.96 429,-163.38\"/>\n<polygon fill=\"black\" stroke=\"black\" points=\"432.5,-163.14 429,-153.14 425.5,-163.14 432.5,-163.14\"/>\n</g>\n<!-- 3 -->\n<g id=\"node4\" class=\"node\">\n<title>3</title>\n<path fill=\"#47e539\" stroke=\"black\" d=\"M120,-53C120,-53 12,-53 12,-53 6,-53 0,-47 0,-41 0,-41 0,-12 0,-12 0,-6 6,0 12,0 12,0 120,0 120,0 126,0 132,-6 132,-12 132,-12 132,-41 132,-41 132,-47 126,-53 120,-53\"/>\n<text text-anchor=\"start\" x=\"38\" y=\"-37.8\" font-family=\"Helvetica,sans-Serif\" font-size=\"14.00\">gini = 0.0</text>\n<text text-anchor=\"start\" x=\"25\" y=\"-22.8\" font-family=\"Helvetica,sans-Serif\" font-size=\"14.00\">samples = 46</text>\n<text text-anchor=\"start\" x=\"8\" y=\"-7.8\" font-family=\"Helvetica,sans-Serif\" font-size=\"14.00\">value = [0, 46, 0, 0]</text>\n</g>\n<!-- 2&#45;&gt;3 -->\n<g id=\"edge3\" class=\"edge\">\n<title>2&#45;&gt;3</title>\n<path fill=\"none\" stroke=\"black\" d=\"M163.64,-88.94C148.02,-79.11 130.76,-68.25 115.15,-58.43\"/>\n<polygon fill=\"black\" stroke=\"black\" points=\"117,-55.45 106.67,-53.09 113.27,-61.38 117,-55.45\"/>\n</g>\n<!-- 4 -->\n<g id=\"node5\" class=\"node\">\n<title>4</title>\n<path fill=\"#d739e5\" stroke=\"black\" d=\"M263.5,-53C263.5,-53 162.5,-53 162.5,-53 156.5,-53 150.5,-47 150.5,-41 150.5,-41 150.5,-12 150.5,-12 150.5,-6 156.5,0 162.5,0 162.5,0 263.5,0 263.5,0 269.5,0 275.5,-6 275.5,-12 275.5,-12 275.5,-41 275.5,-41 275.5,-47 269.5,-53 263.5,-53\"/>\n<text text-anchor=\"start\" x=\"185\" y=\"-37.8\" font-family=\"Helvetica,sans-Serif\" font-size=\"14.00\">gini = 0.0</text>\n<text text-anchor=\"start\" x=\"175.5\" y=\"-22.8\" font-family=\"Helvetica,sans-Serif\" font-size=\"14.00\">samples = 1</text>\n<text text-anchor=\"start\" x=\"158.5\" y=\"-7.8\" font-family=\"Helvetica,sans-Serif\" font-size=\"14.00\">value = [0, 0, 0, 1]</text>\n</g>\n<!-- 2&#45;&gt;4 -->\n<g id=\"edge4\" class=\"edge\">\n<title>2&#45;&gt;4</title>\n<path fill=\"none\" stroke=\"black\" d=\"M213,-88.94C213,-80.66 213,-71.64 213,-63.13\"/>\n<polygon fill=\"black\" stroke=\"black\" points=\"216.5,-63.09 213,-53.09 209.5,-63.09 216.5,-63.09\"/>\n</g>\n<!-- 6 -->\n<g id=\"node7\" class=\"node\">\n<title>6</title>\n<path fill=\"#47e539\" stroke=\"black\" d=\"M406.5,-53C406.5,-53 305.5,-53 305.5,-53 299.5,-53 293.5,-47 293.5,-41 293.5,-41 293.5,-12 293.5,-12 293.5,-6 299.5,0 305.5,0 305.5,0 406.5,0 406.5,0 412.5,0 418.5,-6 418.5,-12 418.5,-12 418.5,-41 418.5,-41 418.5,-47 412.5,-53 406.5,-53\"/>\n<text text-anchor=\"start\" x=\"328\" y=\"-37.8\" font-family=\"Helvetica,sans-Serif\" font-size=\"14.00\">gini = 0.0</text>\n<text text-anchor=\"start\" x=\"318.5\" y=\"-22.8\" font-family=\"Helvetica,sans-Serif\" font-size=\"14.00\">samples = 2</text>\n<text text-anchor=\"start\" x=\"301.5\" y=\"-7.8\" font-family=\"Helvetica,sans-Serif\" font-size=\"14.00\">value = [0, 2, 0, 0]</text>\n</g>\n<!-- 5&#45;&gt;6 -->\n<g id=\"edge6\" class=\"edge\">\n<title>5&#45;&gt;6</title>\n<path fill=\"none\" stroke=\"black\" d=\"M404.49,-88.94C397.45,-80.02 389.74,-70.25 382.58,-61.18\"/>\n<polygon fill=\"black\" stroke=\"black\" points=\"385.14,-58.77 376.2,-53.09 379.64,-63.11 385.14,-58.77\"/>\n</g>\n<!-- 7 -->\n<g id=\"node8\" class=\"node\">\n<title>7</title>\n<path fill=\"#d83ce5\" stroke=\"black\" d=\"M557,-53C557,-53 449,-53 449,-53 443,-53 437,-47 437,-41 437,-41 437,-12 437,-12 437,-6 443,0 449,0 449,0 557,0 557,0 563,0 569,-6 569,-12 569,-12 569,-41 569,-41 569,-47 563,-53 557,-53\"/>\n<text text-anchor=\"start\" x=\"467.5\" y=\"-37.8\" font-family=\"Helvetica,sans-Serif\" font-size=\"14.00\">gini = 0.033</text>\n<text text-anchor=\"start\" x=\"462\" y=\"-22.8\" font-family=\"Helvetica,sans-Serif\" font-size=\"14.00\">samples = 59</text>\n<text text-anchor=\"start\" x=\"445\" y=\"-7.8\" font-family=\"Helvetica,sans-Serif\" font-size=\"14.00\">value = [1, 0, 0, 58]</text>\n</g>\n<!-- 5&#45;&gt;7 -->\n<g id=\"edge7\" class=\"edge\">\n<title>5&#45;&gt;7</title>\n<path fill=\"none\" stroke=\"black\" d=\"M453.85,-88.94C461.06,-79.93 468.96,-70.05 476.28,-60.9\"/>\n<polygon fill=\"black\" stroke=\"black\" points=\"479.01,-63.09 482.53,-53.09 473.55,-58.71 479.01,-63.09\"/>\n</g>\n<!-- 9 -->\n<g id=\"node10\" class=\"node\">\n<title>9</title>\n<path fill=\"#3ea0e6\" stroke=\"black\" d=\"M707,-153C707,-153 599,-153 599,-153 593,-153 587,-147 587,-141 587,-141 587,-101 587,-101 587,-95 593,-89 599,-89 599,-89 707,-89 707,-89 713,-89 719,-95 719,-101 719,-101 719,-141 719,-141 719,-147 713,-153 707,-153\"/>\n<text text-anchor=\"start\" x=\"619.5\" y=\"-138.8\" font-family=\"Helvetica,sans-Serif\" font-size=\"14.00\">x</text>\n<text text-anchor=\"start\" x=\"626.5\" y=\"-138.8\" font-family=\"Helvetica,sans-Serif\" baseline-shift=\"sub\" font-size=\"14.00\">20</text>\n<text text-anchor=\"start\" x=\"640.5\" y=\"-138.8\" font-family=\"Helvetica,sans-Serif\" font-size=\"14.00\"> ≤ &#45;1.83</text>\n<text text-anchor=\"start\" x=\"617.5\" y=\"-124.8\" font-family=\"Helvetica,sans-Serif\" font-size=\"14.00\">gini = 0.051</text>\n<text text-anchor=\"start\" x=\"612\" y=\"-110.8\" font-family=\"Helvetica,sans-Serif\" font-size=\"14.00\">samples = 38</text>\n<text text-anchor=\"start\" x=\"595\" y=\"-96.8\" font-family=\"Helvetica,sans-Serif\" font-size=\"14.00\">value = [1, 0, 37, 0]</text>\n</g>\n<!-- 8&#45;&gt;9 -->\n<g id=\"edge9\" class=\"edge\">\n<title>8&#45;&gt;9</title>\n<path fill=\"none\" stroke=\"black\" d=\"M653,-188.99C653,-180.86 653,-171.96 653,-163.38\"/>\n<polygon fill=\"black\" stroke=\"black\" points=\"656.5,-163.14 653,-153.14 649.5,-163.14 656.5,-163.14\"/>\n</g>\n<!-- 12 -->\n<g id=\"node13\" class=\"node\">\n<title>12</title>\n<path fill=\"#e58139\" stroke=\"black\" d=\"M857,-147.5C857,-147.5 749,-147.5 749,-147.5 743,-147.5 737,-141.5 737,-135.5 737,-135.5 737,-106.5 737,-106.5 737,-100.5 743,-94.5 749,-94.5 749,-94.5 857,-94.5 857,-94.5 863,-94.5 869,-100.5 869,-106.5 869,-106.5 869,-135.5 869,-135.5 869,-141.5 863,-147.5 857,-147.5\"/>\n<text text-anchor=\"start\" x=\"775\" y=\"-132.3\" font-family=\"Helvetica,sans-Serif\" font-size=\"14.00\">gini = 0.0</text>\n<text text-anchor=\"start\" x=\"762\" y=\"-117.3\" font-family=\"Helvetica,sans-Serif\" font-size=\"14.00\">samples = 52</text>\n<text text-anchor=\"start\" x=\"745\" y=\"-102.3\" font-family=\"Helvetica,sans-Serif\" font-size=\"14.00\">value = [52, 0, 0, 0]</text>\n</g>\n<!-- 8&#45;&gt;12 -->\n<g id=\"edge12\" class=\"edge\">\n<title>8&#45;&gt;12</title>\n<path fill=\"none\" stroke=\"black\" d=\"M700.46,-188.99C718.02,-177.52 737.91,-164.53 755.47,-153.05\"/>\n<polygon fill=\"black\" stroke=\"black\" points=\"757.43,-155.96 763.88,-147.56 753.6,-150.1 757.43,-155.96\"/>\n</g>\n<!-- 10 -->\n<g id=\"node11\" class=\"node\">\n<title>10</title>\n<path fill=\"#399de5\" stroke=\"black\" d=\"M707,-53C707,-53 599,-53 599,-53 593,-53 587,-47 587,-41 587,-41 587,-12 587,-12 587,-6 593,0 599,0 599,0 707,0 707,0 713,0 719,-6 719,-12 719,-12 719,-41 719,-41 719,-47 713,-53 707,-53\"/>\n<text text-anchor=\"start\" x=\"625\" y=\"-37.8\" font-family=\"Helvetica,sans-Serif\" font-size=\"14.00\">gini = 0.0</text>\n<text text-anchor=\"start\" x=\"612\" y=\"-22.8\" font-family=\"Helvetica,sans-Serif\" font-size=\"14.00\">samples = 37</text>\n<text text-anchor=\"start\" x=\"595\" y=\"-7.8\" font-family=\"Helvetica,sans-Serif\" font-size=\"14.00\">value = [0, 0, 37, 0]</text>\n</g>\n<!-- 9&#45;&gt;10 -->\n<g id=\"edge10\" class=\"edge\">\n<title>9&#45;&gt;10</title>\n<path fill=\"none\" stroke=\"black\" d=\"M653,-88.94C653,-80.66 653,-71.64 653,-63.13\"/>\n<polygon fill=\"black\" stroke=\"black\" points=\"656.5,-63.09 653,-53.09 649.5,-63.09 656.5,-63.09\"/>\n</g>\n<!-- 11 -->\n<g id=\"node12\" class=\"node\">\n<title>11</title>\n<path fill=\"#e58139\" stroke=\"black\" d=\"M850.5,-53C850.5,-53 749.5,-53 749.5,-53 743.5,-53 737.5,-47 737.5,-41 737.5,-41 737.5,-12 737.5,-12 737.5,-6 743.5,0 749.5,0 749.5,0 850.5,0 850.5,0 856.5,0 862.5,-6 862.5,-12 862.5,-12 862.5,-41 862.5,-41 862.5,-47 856.5,-53 850.5,-53\"/>\n<text text-anchor=\"start\" x=\"772\" y=\"-37.8\" font-family=\"Helvetica,sans-Serif\" font-size=\"14.00\">gini = 0.0</text>\n<text text-anchor=\"start\" x=\"762.5\" y=\"-22.8\" font-family=\"Helvetica,sans-Serif\" font-size=\"14.00\">samples = 1</text>\n<text text-anchor=\"start\" x=\"745.5\" y=\"-7.8\" font-family=\"Helvetica,sans-Serif\" font-size=\"14.00\">value = [1, 0, 0, 0]</text>\n</g>\n<!-- 9&#45;&gt;11 -->\n<g id=\"edge11\" class=\"edge\">\n<title>9&#45;&gt;11</title>\n<path fill=\"none\" stroke=\"black\" d=\"M702.36,-88.94C717.98,-79.11 735.24,-68.25 750.85,-58.43\"/>\n<polygon fill=\"black\" stroke=\"black\" points=\"752.73,-61.38 759.33,-53.09 749,-55.45 752.73,-61.38\"/>\n</g>\n</g>\n</svg>\n",
            "text/plain": [
              "<graphviz.sources.Source at 0x7d404f8f9120>"
            ]
          },
          "metadata": {},
          "execution_count": 38
        }
      ],
      "source": [
        "\n"
      ]
    },
    {
      "cell_type": "code",
      "source": [
        "clf = tree.DecisionTreeClassifier(max_depth=3,criterion='entropy')\n",
        "clf = clf.fit(X, y)\n",
        "dot_data = tree.export_graphviz(clf, out_file=None, filled=True, rounded=True, special_characters=True)\n",
        "graph = graphviz.Source(dot_data)\n",
        "graph.render('Forest Type Mapping', view=True)\n",
        "graph"
      ],
      "metadata": {
        "id": "mZ_otoBDe2Gh",
        "outputId": "cc834d18-b774-4006-d5c9-6c0c835db097",
        "colab": {
          "base_uri": "https://localhost:8080/",
          "height": 503
        }
      },
      "execution_count": 42,
      "outputs": [
        {
          "output_type": "execute_result",
          "data": {
            "image/svg+xml": "<?xml version=\"1.0\" encoding=\"UTF-8\" standalone=\"no\"?>\n<!DOCTYPE svg PUBLIC \"-//W3C//DTD SVG 1.1//EN\"\n \"http://www.w3.org/Graphics/SVG/1.1/DTD/svg11.dtd\">\n<!-- Generated by graphviz version 2.43.0 (0)\n -->\n<!-- Title: Tree Pages: 1 -->\n<svg width=\"879pt\" height=\"361pt\"\n viewBox=\"0.00 0.00 878.50 361.00\" xmlns=\"http://www.w3.org/2000/svg\" xmlns:xlink=\"http://www.w3.org/1999/xlink\">\n<g id=\"graph0\" class=\"graph\" transform=\"scale(1 1) rotate(0) translate(4 357)\">\n<title>Tree</title>\n<polygon fill=\"white\" stroke=\"transparent\" points=\"-4,4 -4,-357 874.5,-357 874.5,4 -4,4\"/>\n<!-- 0 -->\n<g id=\"node1\" class=\"node\">\n<title>0</title>\n<path fill=\"#fef8fe\" stroke=\"black\" d=\"M503.5,-353C503.5,-353 372.5,-353 372.5,-353 366.5,-353 360.5,-347 360.5,-341 360.5,-341 360.5,-301 360.5,-301 360.5,-295 366.5,-289 372.5,-289 372.5,-289 503.5,-289 503.5,-289 509.5,-289 515.5,-295 515.5,-301 515.5,-301 515.5,-341 515.5,-341 515.5,-347 509.5,-353 503.5,-353\"/>\n<text text-anchor=\"start\" x=\"410\" y=\"-338.8\" font-family=\"Helvetica,sans-Serif\" font-size=\"14.00\">x</text>\n<text text-anchor=\"start\" x=\"417\" y=\"-338.8\" font-family=\"Helvetica,sans-Serif\" baseline-shift=\"sub\" font-size=\"14.00\">1</text>\n<text text-anchor=\"start\" x=\"424\" y=\"-338.8\" font-family=\"Helvetica,sans-Serif\" font-size=\"14.00\"> ≤ 35.5</text>\n<text text-anchor=\"start\" x=\"394\" y=\"-324.8\" font-family=\"Helvetica,sans-Serif\" font-size=\"14.00\">entropy = 1.98</text>\n<text text-anchor=\"start\" x=\"393\" y=\"-310.8\" font-family=\"Helvetica,sans-Serif\" font-size=\"14.00\">samples = 198</text>\n<text text-anchor=\"start\" x=\"368.5\" y=\"-296.8\" font-family=\"Helvetica,sans-Serif\" font-size=\"14.00\">value = [54, 48, 37, 59]</text>\n</g>\n<!-- 1 -->\n<g id=\"node2\" class=\"node\">\n<title>1</title>\n<path fill=\"#f8dbfa\" stroke=\"black\" d=\"M417,-253C417,-253 301,-253 301,-253 295,-253 289,-247 289,-241 289,-241 289,-201 289,-201 289,-195 295,-189 301,-189 301,-189 417,-189 417,-189 423,-189 429,-195 429,-201 429,-201 429,-241 429,-241 429,-247 423,-253 417,-253\"/>\n<text text-anchor=\"start\" x=\"327.5\" y=\"-238.8\" font-family=\"Helvetica,sans-Serif\" font-size=\"14.00\">x</text>\n<text text-anchor=\"start\" x=\"334.5\" y=\"-238.8\" font-family=\"Helvetica,sans-Serif\" baseline-shift=\"sub\" font-size=\"14.00\">9</text>\n<text text-anchor=\"start\" x=\"341.5\" y=\"-238.8\" font-family=\"Helvetica,sans-Serif\" font-size=\"14.00\"> ≤ 41.39</text>\n<text text-anchor=\"start\" x=\"311.5\" y=\"-224.8\" font-family=\"Helvetica,sans-Serif\" font-size=\"14.00\">entropy = 1.059</text>\n<text text-anchor=\"start\" x=\"314\" y=\"-210.8\" font-family=\"Helvetica,sans-Serif\" font-size=\"14.00\">samples = 108</text>\n<text text-anchor=\"start\" x=\"297\" y=\"-196.8\" font-family=\"Helvetica,sans-Serif\" font-size=\"14.00\">value = [1, 48, 0, 59]</text>\n</g>\n<!-- 0&#45;&gt;1 -->\n<g id=\"edge1\" class=\"edge\">\n<title>0&#45;&gt;1</title>\n<path fill=\"none\" stroke=\"black\" d=\"M413,-288.99C405.87,-280.14 398.01,-270.39 390.54,-261.12\"/>\n<polygon fill=\"black\" stroke=\"black\" points=\"393.11,-258.73 384.1,-253.14 387.66,-263.12 393.11,-258.73\"/>\n<text text-anchor=\"middle\" x=\"381.44\" y=\"-274.3\" font-family=\"Helvetica,sans-Serif\" font-size=\"14.00\">True</text>\n</g>\n<!-- 8 -->\n<g id=\"node9\" class=\"node\">\n<title>8</title>\n<path fill=\"#f7d9c3\" stroke=\"black\" d=\"M575,-253C575,-253 459,-253 459,-253 453,-253 447,-247 447,-241 447,-241 447,-201 447,-201 447,-195 453,-189 459,-189 459,-189 575,-189 575,-189 581,-189 587,-195 587,-201 587,-201 587,-241 587,-241 587,-247 581,-253 575,-253\"/>\n<text text-anchor=\"start\" x=\"489\" y=\"-238.8\" font-family=\"Helvetica,sans-Serif\" font-size=\"14.00\">x</text>\n<text text-anchor=\"start\" x=\"496\" y=\"-238.8\" font-family=\"Helvetica,sans-Serif\" baseline-shift=\"sub\" font-size=\"14.00\">7</text>\n<text text-anchor=\"start\" x=\"503\" y=\"-238.8\" font-family=\"Helvetica,sans-Serif\" font-size=\"14.00\"> ≤ 28.5</text>\n<text text-anchor=\"start\" x=\"469.5\" y=\"-224.8\" font-family=\"Helvetica,sans-Serif\" font-size=\"14.00\">entropy = 0.977</text>\n<text text-anchor=\"start\" x=\"476\" y=\"-210.8\" font-family=\"Helvetica,sans-Serif\" font-size=\"14.00\">samples = 90</text>\n<text text-anchor=\"start\" x=\"455\" y=\"-196.8\" font-family=\"Helvetica,sans-Serif\" font-size=\"14.00\">value = [53, 0, 37, 0]</text>\n</g>\n<!-- 0&#45;&gt;8 -->\n<g id=\"edge8\" class=\"edge\">\n<title>0&#45;&gt;8</title>\n<path fill=\"none\" stroke=\"black\" d=\"M463,-288.99C470.13,-280.14 477.99,-270.39 485.46,-261.12\"/>\n<polygon fill=\"black\" stroke=\"black\" points=\"488.34,-263.12 491.9,-253.14 482.89,-258.73 488.34,-263.12\"/>\n<text text-anchor=\"middle\" x=\"494.56\" y=\"-274.3\" font-family=\"Helvetica,sans-Serif\" font-size=\"14.00\">False</text>\n</g>\n<!-- 2 -->\n<g id=\"node3\" class=\"node\">\n<title>2</title>\n<path fill=\"#4be63d\" stroke=\"black\" d=\"M265,-153C265,-153 157,-153 157,-153 151,-153 145,-147 145,-141 145,-141 145,-101 145,-101 145,-95 151,-89 157,-89 157,-89 265,-89 265,-89 271,-89 277,-95 277,-101 277,-101 277,-141 277,-141 277,-147 271,-153 265,-153\"/>\n<text text-anchor=\"start\" x=\"179.5\" y=\"-138.8\" font-family=\"Helvetica,sans-Serif\" font-size=\"14.00\">x</text>\n<text text-anchor=\"start\" x=\"186.5\" y=\"-138.8\" font-family=\"Helvetica,sans-Serif\" baseline-shift=\"sub\" font-size=\"14.00\">24</text>\n<text text-anchor=\"start\" x=\"200.5\" y=\"-138.8\" font-family=\"Helvetica,sans-Serif\" font-size=\"14.00\"> ≤ 0.36</text>\n<text text-anchor=\"start\" x=\"163.5\" y=\"-124.8\" font-family=\"Helvetica,sans-Serif\" font-size=\"14.00\">entropy = 0.149</text>\n<text text-anchor=\"start\" x=\"170\" y=\"-110.8\" font-family=\"Helvetica,sans-Serif\" font-size=\"14.00\">samples = 47</text>\n<text text-anchor=\"start\" x=\"153\" y=\"-96.8\" font-family=\"Helvetica,sans-Serif\" font-size=\"14.00\">value = [0, 46, 0, 1]</text>\n</g>\n<!-- 1&#45;&gt;2 -->\n<g id=\"edge2\" class=\"edge\">\n<title>1&#45;&gt;2</title>\n<path fill=\"none\" stroke=\"black\" d=\"M312.17,-188.99C297.73,-179.43 281.69,-168.81 266.71,-158.89\"/>\n<polygon fill=\"black\" stroke=\"black\" points=\"268.3,-155.75 258.03,-153.14 264.44,-161.58 268.3,-155.75\"/>\n</g>\n<!-- 5 -->\n<g id=\"node6\" class=\"node\">\n<title>5</title>\n<path fill=\"#d943e6\" stroke=\"black\" d=\"M415,-153C415,-153 307,-153 307,-153 301,-153 295,-147 295,-141 295,-141 295,-101 295,-101 295,-95 301,-89 307,-89 307,-89 415,-89 415,-89 421,-89 427,-95 427,-101 427,-101 427,-141 427,-141 427,-147 421,-153 415,-153\"/>\n<text text-anchor=\"start\" x=\"320\" y=\"-138.8\" font-family=\"Helvetica,sans-Serif\" font-size=\"14.00\">x</text>\n<text text-anchor=\"start\" x=\"327\" y=\"-138.8\" font-family=\"Helvetica,sans-Serif\" baseline-shift=\"sub\" font-size=\"14.00\">15</text>\n<text text-anchor=\"start\" x=\"341\" y=\"-138.8\" font-family=\"Helvetica,sans-Serif\" font-size=\"14.00\"> ≤ &#45;17.815</text>\n<text text-anchor=\"start\" x=\"313.5\" y=\"-124.8\" font-family=\"Helvetica,sans-Serif\" font-size=\"14.00\">entropy = 0.328</text>\n<text text-anchor=\"start\" x=\"320\" y=\"-110.8\" font-family=\"Helvetica,sans-Serif\" font-size=\"14.00\">samples = 61</text>\n<text text-anchor=\"start\" x=\"303\" y=\"-96.8\" font-family=\"Helvetica,sans-Serif\" font-size=\"14.00\">value = [1, 2, 0, 58]</text>\n</g>\n<!-- 1&#45;&gt;5 -->\n<g id=\"edge5\" class=\"edge\">\n<title>1&#45;&gt;5</title>\n<path fill=\"none\" stroke=\"black\" d=\"M359.63,-188.99C359.8,-180.86 359.98,-171.96 360.16,-163.38\"/>\n<polygon fill=\"black\" stroke=\"black\" points=\"363.66,-163.21 360.36,-153.14 356.66,-163.07 363.66,-163.21\"/>\n</g>\n<!-- 3 -->\n<g id=\"node4\" class=\"node\">\n<title>3</title>\n<path fill=\"#47e539\" stroke=\"black\" d=\"M120,-53C120,-53 12,-53 12,-53 6,-53 0,-47 0,-41 0,-41 0,-12 0,-12 0,-6 6,0 12,0 12,0 120,0 120,0 126,0 132,-6 132,-12 132,-12 132,-41 132,-41 132,-47 126,-53 120,-53\"/>\n<text text-anchor=\"start\" x=\"26\" y=\"-37.8\" font-family=\"Helvetica,sans-Serif\" font-size=\"14.00\">entropy = 0.0</text>\n<text text-anchor=\"start\" x=\"25\" y=\"-22.8\" font-family=\"Helvetica,sans-Serif\" font-size=\"14.00\">samples = 46</text>\n<text text-anchor=\"start\" x=\"8\" y=\"-7.8\" font-family=\"Helvetica,sans-Serif\" font-size=\"14.00\">value = [0, 46, 0, 0]</text>\n</g>\n<!-- 2&#45;&gt;3 -->\n<g id=\"edge3\" class=\"edge\">\n<title>2&#45;&gt;3</title>\n<path fill=\"none\" stroke=\"black\" d=\"M162.31,-88.94C147.05,-79.2 130.19,-68.45 114.91,-58.7\"/>\n<polygon fill=\"black\" stroke=\"black\" points=\"116.43,-55.52 106.12,-53.09 112.66,-61.42 116.43,-55.52\"/>\n</g>\n<!-- 4 -->\n<g id=\"node5\" class=\"node\">\n<title>4</title>\n<path fill=\"#d739e5\" stroke=\"black\" d=\"M263.5,-53C263.5,-53 162.5,-53 162.5,-53 156.5,-53 150.5,-47 150.5,-41 150.5,-41 150.5,-12 150.5,-12 150.5,-6 156.5,0 162.5,0 162.5,0 263.5,0 263.5,0 269.5,0 275.5,-6 275.5,-12 275.5,-12 275.5,-41 275.5,-41 275.5,-47 269.5,-53 263.5,-53\"/>\n<text text-anchor=\"start\" x=\"173\" y=\"-37.8\" font-family=\"Helvetica,sans-Serif\" font-size=\"14.00\">entropy = 0.0</text>\n<text text-anchor=\"start\" x=\"175.5\" y=\"-22.8\" font-family=\"Helvetica,sans-Serif\" font-size=\"14.00\">samples = 1</text>\n<text text-anchor=\"start\" x=\"158.5\" y=\"-7.8\" font-family=\"Helvetica,sans-Serif\" font-size=\"14.00\">value = [0, 0, 0, 1]</text>\n</g>\n<!-- 2&#45;&gt;4 -->\n<g id=\"edge4\" class=\"edge\">\n<title>2&#45;&gt;4</title>\n<path fill=\"none\" stroke=\"black\" d=\"M211.67,-88.94C211.85,-80.66 212.05,-71.64 212.23,-63.13\"/>\n<polygon fill=\"black\" stroke=\"black\" points=\"215.73,-63.16 212.45,-53.09 208.73,-63.01 215.73,-63.16\"/>\n</g>\n<!-- 6 -->\n<g id=\"node7\" class=\"node\">\n<title>6</title>\n<path fill=\"#47e539\" stroke=\"black\" d=\"M409.5,-53C409.5,-53 308.5,-53 308.5,-53 302.5,-53 296.5,-47 296.5,-41 296.5,-41 296.5,-12 296.5,-12 296.5,-6 302.5,0 308.5,0 308.5,0 409.5,0 409.5,0 415.5,0 421.5,-6 421.5,-12 421.5,-12 421.5,-41 421.5,-41 421.5,-47 415.5,-53 409.5,-53\"/>\n<text text-anchor=\"start\" x=\"319\" y=\"-37.8\" font-family=\"Helvetica,sans-Serif\" font-size=\"14.00\">entropy = 0.0</text>\n<text text-anchor=\"start\" x=\"321.5\" y=\"-22.8\" font-family=\"Helvetica,sans-Serif\" font-size=\"14.00\">samples = 2</text>\n<text text-anchor=\"start\" x=\"304.5\" y=\"-7.8\" font-family=\"Helvetica,sans-Serif\" font-size=\"14.00\">value = [0, 2, 0, 0]</text>\n</g>\n<!-- 5&#45;&gt;6 -->\n<g id=\"edge6\" class=\"edge\">\n<title>5&#45;&gt;6</title>\n<path fill=\"none\" stroke=\"black\" d=\"M360.33,-88.94C360.15,-80.66 359.95,-71.64 359.77,-63.13\"/>\n<polygon fill=\"black\" stroke=\"black\" points=\"363.27,-63.01 359.55,-53.09 356.27,-63.16 363.27,-63.01\"/>\n</g>\n<!-- 7 -->\n<g id=\"node8\" class=\"node\">\n<title>7</title>\n<path fill=\"#d83ce5\" stroke=\"black\" d=\"M560,-53C560,-53 452,-53 452,-53 446,-53 440,-47 440,-41 440,-41 440,-12 440,-12 440,-6 446,0 452,0 452,0 560,0 560,0 566,0 572,-6 572,-12 572,-12 572,-41 572,-41 572,-47 566,-53 560,-53\"/>\n<text text-anchor=\"start\" x=\"458.5\" y=\"-37.8\" font-family=\"Helvetica,sans-Serif\" font-size=\"14.00\">entropy = 0.124</text>\n<text text-anchor=\"start\" x=\"465\" y=\"-22.8\" font-family=\"Helvetica,sans-Serif\" font-size=\"14.00\">samples = 59</text>\n<text text-anchor=\"start\" x=\"448\" y=\"-7.8\" font-family=\"Helvetica,sans-Serif\" font-size=\"14.00\">value = [1, 0, 0, 58]</text>\n</g>\n<!-- 5&#45;&gt;7 -->\n<g id=\"edge7\" class=\"edge\">\n<title>5&#45;&gt;7</title>\n<path fill=\"none\" stroke=\"black\" d=\"M409.69,-88.94C424.95,-79.2 441.81,-68.45 457.09,-58.7\"/>\n<polygon fill=\"black\" stroke=\"black\" points=\"459.34,-61.42 465.88,-53.09 455.57,-55.52 459.34,-61.42\"/>\n</g>\n<!-- 9 -->\n<g id=\"node10\" class=\"node\">\n<title>9</title>\n<path fill=\"#e58139\" stroke=\"black\" d=\"M569,-147.5C569,-147.5 461,-147.5 461,-147.5 455,-147.5 449,-141.5 449,-135.5 449,-135.5 449,-106.5 449,-106.5 449,-100.5 455,-94.5 461,-94.5 461,-94.5 569,-94.5 569,-94.5 575,-94.5 581,-100.5 581,-106.5 581,-106.5 581,-135.5 581,-135.5 581,-141.5 575,-147.5 569,-147.5\"/>\n<text text-anchor=\"start\" x=\"475\" y=\"-132.3\" font-family=\"Helvetica,sans-Serif\" font-size=\"14.00\">entropy = 0.0</text>\n<text text-anchor=\"start\" x=\"474\" y=\"-117.3\" font-family=\"Helvetica,sans-Serif\" font-size=\"14.00\">samples = 52</text>\n<text text-anchor=\"start\" x=\"457\" y=\"-102.3\" font-family=\"Helvetica,sans-Serif\" font-size=\"14.00\">value = [52, 0, 0, 0]</text>\n</g>\n<!-- 8&#45;&gt;9 -->\n<g id=\"edge9\" class=\"edge\">\n<title>8&#45;&gt;9</title>\n<path fill=\"none\" stroke=\"black\" d=\"M516.37,-188.99C516.17,-179.09 515.94,-168.04 515.73,-157.82\"/>\n<polygon fill=\"black\" stroke=\"black\" points=\"519.22,-157.48 515.52,-147.56 512.23,-157.63 519.22,-157.48\"/>\n</g>\n<!-- 10 -->\n<g id=\"node11\" class=\"node\">\n<title>10</title>\n<path fill=\"#3ea0e6\" stroke=\"black\" d=\"M719,-153C719,-153 611,-153 611,-153 605,-153 599,-147 599,-141 599,-141 599,-101 599,-101 599,-95 605,-89 611,-89 611,-89 719,-89 719,-89 725,-89 731,-95 731,-101 731,-101 731,-141 731,-141 731,-147 725,-153 719,-153\"/>\n<text text-anchor=\"start\" x=\"631.5\" y=\"-138.8\" font-family=\"Helvetica,sans-Serif\" font-size=\"14.00\">x</text>\n<text text-anchor=\"start\" x=\"638.5\" y=\"-138.8\" font-family=\"Helvetica,sans-Serif\" baseline-shift=\"sub\" font-size=\"14.00\">20</text>\n<text text-anchor=\"start\" x=\"652.5\" y=\"-138.8\" font-family=\"Helvetica,sans-Serif\" font-size=\"14.00\"> ≤ &#45;1.83</text>\n<text text-anchor=\"start\" x=\"617.5\" y=\"-124.8\" font-family=\"Helvetica,sans-Serif\" font-size=\"14.00\">entropy = 0.176</text>\n<text text-anchor=\"start\" x=\"624\" y=\"-110.8\" font-family=\"Helvetica,sans-Serif\" font-size=\"14.00\">samples = 38</text>\n<text text-anchor=\"start\" x=\"607\" y=\"-96.8\" font-family=\"Helvetica,sans-Serif\" font-size=\"14.00\">value = [1, 0, 37, 0]</text>\n</g>\n<!-- 8&#45;&gt;10 -->\n<g id=\"edge10\" class=\"edge\">\n<title>8&#45;&gt;10</title>\n<path fill=\"none\" stroke=\"black\" d=\"M563.83,-188.99C578.27,-179.43 594.31,-168.81 609.29,-158.89\"/>\n<polygon fill=\"black\" stroke=\"black\" points=\"611.56,-161.58 617.97,-153.14 607.7,-155.75 611.56,-161.58\"/>\n</g>\n<!-- 11 -->\n<g id=\"node12\" class=\"node\">\n<title>11</title>\n<path fill=\"#399de5\" stroke=\"black\" d=\"M715,-53C715,-53 607,-53 607,-53 601,-53 595,-47 595,-41 595,-41 595,-12 595,-12 595,-6 601,0 607,0 607,0 715,0 715,0 721,0 727,-6 727,-12 727,-12 727,-41 727,-41 727,-47 721,-53 715,-53\"/>\n<text text-anchor=\"start\" x=\"621\" y=\"-37.8\" font-family=\"Helvetica,sans-Serif\" font-size=\"14.00\">entropy = 0.0</text>\n<text text-anchor=\"start\" x=\"620\" y=\"-22.8\" font-family=\"Helvetica,sans-Serif\" font-size=\"14.00\">samples = 37</text>\n<text text-anchor=\"start\" x=\"603\" y=\"-7.8\" font-family=\"Helvetica,sans-Serif\" font-size=\"14.00\">value = [0, 0, 37, 0]</text>\n</g>\n<!-- 10&#45;&gt;11 -->\n<g id=\"edge11\" class=\"edge\">\n<title>10&#45;&gt;11</title>\n<path fill=\"none\" stroke=\"black\" d=\"M663.66,-88.94C663.3,-80.66 662.91,-71.64 662.54,-63.13\"/>\n<polygon fill=\"black\" stroke=\"black\" points=\"666.04,-62.93 662.11,-53.09 659.04,-63.23 666.04,-62.93\"/>\n</g>\n<!-- 12 -->\n<g id=\"node13\" class=\"node\">\n<title>12</title>\n<path fill=\"#e58139\" stroke=\"black\" d=\"M858.5,-53C858.5,-53 757.5,-53 757.5,-53 751.5,-53 745.5,-47 745.5,-41 745.5,-41 745.5,-12 745.5,-12 745.5,-6 751.5,0 757.5,0 757.5,0 858.5,0 858.5,0 864.5,0 870.5,-6 870.5,-12 870.5,-12 870.5,-41 870.5,-41 870.5,-47 864.5,-53 858.5,-53\"/>\n<text text-anchor=\"start\" x=\"768\" y=\"-37.8\" font-family=\"Helvetica,sans-Serif\" font-size=\"14.00\">entropy = 0.0</text>\n<text text-anchor=\"start\" x=\"770.5\" y=\"-22.8\" font-family=\"Helvetica,sans-Serif\" font-size=\"14.00\">samples = 1</text>\n<text text-anchor=\"start\" x=\"753.5\" y=\"-7.8\" font-family=\"Helvetica,sans-Serif\" font-size=\"14.00\">value = [1, 0, 0, 0]</text>\n</g>\n<!-- 10&#45;&gt;12 -->\n<g id=\"edge12\" class=\"edge\">\n<title>10&#45;&gt;12</title>\n<path fill=\"none\" stroke=\"black\" d=\"M713.01,-88.94C728.07,-79.2 744.69,-68.45 759.77,-58.7\"/>\n<polygon fill=\"black\" stroke=\"black\" points=\"761.94,-61.46 768.44,-53.09 758.14,-55.58 761.94,-61.46\"/>\n</g>\n</g>\n</svg>\n",
            "text/plain": [
              "<graphviz.sources.Source at 0x7d40596533a0>"
            ]
          },
          "metadata": {},
          "execution_count": 42
        }
      ]
    },
    {
      "cell_type": "code",
      "source": [
        "clf = tree.DecisionTreeClassifier(max_depth=2)\n",
        "clf = clf.fit(X, y)\n",
        "dot_data = tree.export_graphviz(clf, out_file=None, filled=True, rounded=True, special_characters=True)\n",
        "graph = graphviz.Source(dot_data)\n",
        "graph.render('Forest Type Mapping', view=True)\n",
        "graph"
      ],
      "metadata": {
        "id": "lNIeQwfYfEkE",
        "outputId": "db8a200b-5b6f-49b2-874a-7f574fc7bc45",
        "colab": {
          "base_uri": "https://localhost:8080/",
          "height": 369
        }
      },
      "execution_count": 44,
      "outputs": [
        {
          "output_type": "execute_result",
          "data": {
            "image/svg+xml": "<?xml version=\"1.0\" encoding=\"UTF-8\" standalone=\"no\"?>\n<!DOCTYPE svg PUBLIC \"-//W3C//DTD SVG 1.1//EN\"\n \"http://www.w3.org/Graphics/SVG/1.1/DTD/svg11.dtd\">\n<!-- Generated by graphviz version 2.43.0 (0)\n -->\n<!-- Title: Tree Pages: 1 -->\n<svg width=\"594pt\" height=\"261pt\"\n viewBox=\"0.00 0.00 594.00 261.00\" xmlns=\"http://www.w3.org/2000/svg\" xmlns:xlink=\"http://www.w3.org/1999/xlink\">\n<g id=\"graph0\" class=\"graph\" transform=\"scale(1 1) rotate(0) translate(4 257)\">\n<title>Tree</title>\n<polygon fill=\"white\" stroke=\"transparent\" points=\"-4,4 -4,-257 590,-257 590,4 -4,4\"/>\n<!-- 0 -->\n<g id=\"node1\" class=\"node\">\n<title>0</title>\n<path fill=\"#fef8fe\" stroke=\"black\" d=\"M358.5,-253C358.5,-253 227.5,-253 227.5,-253 221.5,-253 215.5,-247 215.5,-241 215.5,-241 215.5,-201 215.5,-201 215.5,-195 221.5,-189 227.5,-189 227.5,-189 358.5,-189 358.5,-189 364.5,-189 370.5,-195 370.5,-201 370.5,-201 370.5,-241 370.5,-241 370.5,-247 364.5,-253 358.5,-253\"/>\n<text text-anchor=\"start\" x=\"265\" y=\"-238.8\" font-family=\"Helvetica,sans-Serif\" font-size=\"14.00\">x</text>\n<text text-anchor=\"start\" x=\"272\" y=\"-238.8\" font-family=\"Helvetica,sans-Serif\" baseline-shift=\"sub\" font-size=\"14.00\">1</text>\n<text text-anchor=\"start\" x=\"279\" y=\"-238.8\" font-family=\"Helvetica,sans-Serif\" font-size=\"14.00\"> ≤ 35.5</text>\n<text text-anchor=\"start\" x=\"257.5\" y=\"-224.8\" font-family=\"Helvetica,sans-Serif\" font-size=\"14.00\">gini = 0.743</text>\n<text text-anchor=\"start\" x=\"248\" y=\"-210.8\" font-family=\"Helvetica,sans-Serif\" font-size=\"14.00\">samples = 198</text>\n<text text-anchor=\"start\" x=\"223.5\" y=\"-196.8\" font-family=\"Helvetica,sans-Serif\" font-size=\"14.00\">value = [54, 48, 37, 59]</text>\n</g>\n<!-- 1 -->\n<g id=\"node2\" class=\"node\">\n<title>1</title>\n<path fill=\"#f8dbfa\" stroke=\"black\" d=\"M272,-153C272,-153 156,-153 156,-153 150,-153 144,-147 144,-141 144,-141 144,-101 144,-101 144,-95 150,-89 156,-89 156,-89 272,-89 272,-89 278,-89 284,-95 284,-101 284,-101 284,-141 284,-141 284,-147 278,-153 272,-153\"/>\n<text text-anchor=\"start\" x=\"182.5\" y=\"-138.8\" font-family=\"Helvetica,sans-Serif\" font-size=\"14.00\">x</text>\n<text text-anchor=\"start\" x=\"189.5\" y=\"-138.8\" font-family=\"Helvetica,sans-Serif\" baseline-shift=\"sub\" font-size=\"14.00\">9</text>\n<text text-anchor=\"start\" x=\"196.5\" y=\"-138.8\" font-family=\"Helvetica,sans-Serif\" font-size=\"14.00\"> ≤ 41.39</text>\n<text text-anchor=\"start\" x=\"178.5\" y=\"-124.8\" font-family=\"Helvetica,sans-Serif\" font-size=\"14.00\">gini = 0.504</text>\n<text text-anchor=\"start\" x=\"169\" y=\"-110.8\" font-family=\"Helvetica,sans-Serif\" font-size=\"14.00\">samples = 108</text>\n<text text-anchor=\"start\" x=\"152\" y=\"-96.8\" font-family=\"Helvetica,sans-Serif\" font-size=\"14.00\">value = [1, 48, 0, 59]</text>\n</g>\n<!-- 0&#45;&gt;1 -->\n<g id=\"edge1\" class=\"edge\">\n<title>0&#45;&gt;1</title>\n<path fill=\"none\" stroke=\"black\" d=\"M268,-188.99C260.87,-180.14 253.01,-170.39 245.54,-161.12\"/>\n<polygon fill=\"black\" stroke=\"black\" points=\"248.11,-158.73 239.1,-153.14 242.66,-163.12 248.11,-158.73\"/>\n<text text-anchor=\"middle\" x=\"236.44\" y=\"-174.3\" font-family=\"Helvetica,sans-Serif\" font-size=\"14.00\">True</text>\n</g>\n<!-- 4 -->\n<g id=\"node5\" class=\"node\">\n<title>4</title>\n<path fill=\"#f7d9c3\" stroke=\"black\" d=\"M430,-153C430,-153 314,-153 314,-153 308,-153 302,-147 302,-141 302,-141 302,-101 302,-101 302,-95 308,-89 314,-89 314,-89 430,-89 430,-89 436,-89 442,-95 442,-101 442,-101 442,-141 442,-141 442,-147 436,-153 430,-153\"/>\n<text text-anchor=\"start\" x=\"344\" y=\"-138.8\" font-family=\"Helvetica,sans-Serif\" font-size=\"14.00\">x</text>\n<text text-anchor=\"start\" x=\"351\" y=\"-138.8\" font-family=\"Helvetica,sans-Serif\" baseline-shift=\"sub\" font-size=\"14.00\">7</text>\n<text text-anchor=\"start\" x=\"358\" y=\"-138.8\" font-family=\"Helvetica,sans-Serif\" font-size=\"14.00\"> ≤ 28.5</text>\n<text text-anchor=\"start\" x=\"336.5\" y=\"-124.8\" font-family=\"Helvetica,sans-Serif\" font-size=\"14.00\">gini = 0.484</text>\n<text text-anchor=\"start\" x=\"331\" y=\"-110.8\" font-family=\"Helvetica,sans-Serif\" font-size=\"14.00\">samples = 90</text>\n<text text-anchor=\"start\" x=\"310\" y=\"-96.8\" font-family=\"Helvetica,sans-Serif\" font-size=\"14.00\">value = [53, 0, 37, 0]</text>\n</g>\n<!-- 0&#45;&gt;4 -->\n<g id=\"edge4\" class=\"edge\">\n<title>0&#45;&gt;4</title>\n<path fill=\"none\" stroke=\"black\" d=\"M318,-188.99C325.13,-180.14 332.99,-170.39 340.46,-161.12\"/>\n<polygon fill=\"black\" stroke=\"black\" points=\"343.34,-163.12 346.9,-153.14 337.89,-158.73 343.34,-163.12\"/>\n<text text-anchor=\"middle\" x=\"349.56\" y=\"-174.3\" font-family=\"Helvetica,sans-Serif\" font-size=\"14.00\">False</text>\n</g>\n<!-- 2 -->\n<g id=\"node3\" class=\"node\">\n<title>2</title>\n<path fill=\"#4be63d\" stroke=\"black\" d=\"M120,-53C120,-53 12,-53 12,-53 6,-53 0,-47 0,-41 0,-41 0,-12 0,-12 0,-6 6,0 12,0 12,0 120,0 120,0 126,0 132,-6 132,-12 132,-12 132,-41 132,-41 132,-47 126,-53 120,-53\"/>\n<text text-anchor=\"start\" x=\"30.5\" y=\"-37.8\" font-family=\"Helvetica,sans-Serif\" font-size=\"14.00\">gini = 0.042</text>\n<text text-anchor=\"start\" x=\"25\" y=\"-22.8\" font-family=\"Helvetica,sans-Serif\" font-size=\"14.00\">samples = 47</text>\n<text text-anchor=\"start\" x=\"8\" y=\"-7.8\" font-family=\"Helvetica,sans-Serif\" font-size=\"14.00\">value = [0, 46, 0, 1]</text>\n</g>\n<!-- 1&#45;&gt;2 -->\n<g id=\"edge2\" class=\"edge\">\n<title>1&#45;&gt;2</title>\n<path fill=\"none\" stroke=\"black\" d=\"M164.31,-88.94C148.58,-79.11 131.2,-68.25 115.48,-58.43\"/>\n<polygon fill=\"black\" stroke=\"black\" points=\"117.28,-55.42 106.95,-53.09 113.57,-61.36 117.28,-55.42\"/>\n</g>\n<!-- 3 -->\n<g id=\"node4\" class=\"node\">\n<title>3</title>\n<path fill=\"#d943e6\" stroke=\"black\" d=\"M270,-53C270,-53 162,-53 162,-53 156,-53 150,-47 150,-41 150,-41 150,-12 150,-12 150,-6 156,0 162,0 162,0 270,0 270,0 276,0 282,-6 282,-12 282,-12 282,-41 282,-41 282,-47 276,-53 270,-53\"/>\n<text text-anchor=\"start\" x=\"180.5\" y=\"-37.8\" font-family=\"Helvetica,sans-Serif\" font-size=\"14.00\">gini = 0.095</text>\n<text text-anchor=\"start\" x=\"175\" y=\"-22.8\" font-family=\"Helvetica,sans-Serif\" font-size=\"14.00\">samples = 61</text>\n<text text-anchor=\"start\" x=\"158\" y=\"-7.8\" font-family=\"Helvetica,sans-Serif\" font-size=\"14.00\">value = [1, 2, 0, 58]</text>\n</g>\n<!-- 1&#45;&gt;3 -->\n<g id=\"edge3\" class=\"edge\">\n<title>1&#45;&gt;3</title>\n<path fill=\"none\" stroke=\"black\" d=\"M214.67,-88.94C214.85,-80.66 215.05,-71.64 215.23,-63.13\"/>\n<polygon fill=\"black\" stroke=\"black\" points=\"218.73,-63.16 215.45,-53.09 211.73,-63.01 218.73,-63.16\"/>\n</g>\n<!-- 5 -->\n<g id=\"node6\" class=\"node\">\n<title>5</title>\n<path fill=\"#e58139\" stroke=\"black\" d=\"M424,-53C424,-53 316,-53 316,-53 310,-53 304,-47 304,-41 304,-41 304,-12 304,-12 304,-6 310,0 316,0 316,0 424,0 424,0 430,0 436,-6 436,-12 436,-12 436,-41 436,-41 436,-47 430,-53 424,-53\"/>\n<text text-anchor=\"start\" x=\"342\" y=\"-37.8\" font-family=\"Helvetica,sans-Serif\" font-size=\"14.00\">gini = 0.0</text>\n<text text-anchor=\"start\" x=\"329\" y=\"-22.8\" font-family=\"Helvetica,sans-Serif\" font-size=\"14.00\">samples = 52</text>\n<text text-anchor=\"start\" x=\"312\" y=\"-7.8\" font-family=\"Helvetica,sans-Serif\" font-size=\"14.00\">value = [52, 0, 0, 0]</text>\n</g>\n<!-- 4&#45;&gt;5 -->\n<g id=\"edge5\" class=\"edge\">\n<title>4&#45;&gt;5</title>\n<path fill=\"none\" stroke=\"black\" d=\"M371.33,-88.94C371.15,-80.66 370.95,-71.64 370.77,-63.13\"/>\n<polygon fill=\"black\" stroke=\"black\" points=\"374.27,-63.01 370.55,-53.09 367.27,-63.16 374.27,-63.01\"/>\n</g>\n<!-- 6 -->\n<g id=\"node7\" class=\"node\">\n<title>6</title>\n<path fill=\"#3ea0e6\" stroke=\"black\" d=\"M574,-53C574,-53 466,-53 466,-53 460,-53 454,-47 454,-41 454,-41 454,-12 454,-12 454,-6 460,0 466,0 466,0 574,0 574,0 580,0 586,-6 586,-12 586,-12 586,-41 586,-41 586,-47 580,-53 574,-53\"/>\n<text text-anchor=\"start\" x=\"484.5\" y=\"-37.8\" font-family=\"Helvetica,sans-Serif\" font-size=\"14.00\">gini = 0.051</text>\n<text text-anchor=\"start\" x=\"479\" y=\"-22.8\" font-family=\"Helvetica,sans-Serif\" font-size=\"14.00\">samples = 38</text>\n<text text-anchor=\"start\" x=\"462\" y=\"-7.8\" font-family=\"Helvetica,sans-Serif\" font-size=\"14.00\">value = [1, 0, 37, 0]</text>\n</g>\n<!-- 4&#45;&gt;6 -->\n<g id=\"edge6\" class=\"edge\">\n<title>4&#45;&gt;6</title>\n<path fill=\"none\" stroke=\"black\" d=\"M421.69,-88.94C437.42,-79.11 454.8,-68.25 470.52,-58.43\"/>\n<polygon fill=\"black\" stroke=\"black\" points=\"472.43,-61.36 479.05,-53.09 468.72,-55.42 472.43,-61.36\"/>\n</g>\n</g>\n</svg>\n",
            "text/plain": [
              "<graphviz.sources.Source at 0x7d404d7c3760>"
            ]
          },
          "metadata": {},
          "execution_count": 44
        }
      ]
    },
    {
      "cell_type": "code",
      "source": [
        "clf = tree.DecisionTreeClassifier(max_depth=5)\n",
        "clf = clf.fit(X, y)\n",
        "dot_data = tree.export_graphviz(clf, out_file=None, filled=True, rounded=True, special_characters=True)\n",
        "graph = graphviz.Source(dot_data)\n",
        "graph.render('Forest Type Mapping', view=True)\n",
        "graph"
      ],
      "metadata": {
        "id": "M7L0BZouhNNm",
        "outputId": "34a95d1f-367d-4e4c-e775-63c8dc0da0dd",
        "colab": {
          "base_uri": "https://localhost:8080/",
          "height": 636
        }
      },
      "execution_count": 49,
      "outputs": [
        {
          "output_type": "execute_result",
          "data": {
            "image/svg+xml": "<?xml version=\"1.0\" encoding=\"UTF-8\" standalone=\"no\"?>\n<!DOCTYPE svg PUBLIC \"-//W3C//DTD SVG 1.1//EN\"\n \"http://www.w3.org/Graphics/SVG/1.1/DTD/svg11.dtd\">\n<!-- Generated by graphviz version 2.43.0 (0)\n -->\n<!-- Title: Tree Pages: 1 -->\n<svg width=\"879pt\" height=\"461pt\"\n viewBox=\"0.00 0.00 878.50 461.00\" xmlns=\"http://www.w3.org/2000/svg\" xmlns:xlink=\"http://www.w3.org/1999/xlink\">\n<g id=\"graph0\" class=\"graph\" transform=\"scale(1 1) rotate(0) translate(4 457)\">\n<title>Tree</title>\n<polygon fill=\"white\" stroke=\"transparent\" points=\"-4,4 -4,-457 874.5,-457 874.5,4 -4,4\"/>\n<!-- 0 -->\n<g id=\"node1\" class=\"node\">\n<title>0</title>\n<path fill=\"#fef8fe\" stroke=\"black\" d=\"M503.5,-453C503.5,-453 372.5,-453 372.5,-453 366.5,-453 360.5,-447 360.5,-441 360.5,-441 360.5,-401 360.5,-401 360.5,-395 366.5,-389 372.5,-389 372.5,-389 503.5,-389 503.5,-389 509.5,-389 515.5,-395 515.5,-401 515.5,-401 515.5,-441 515.5,-441 515.5,-447 509.5,-453 503.5,-453\"/>\n<text text-anchor=\"start\" x=\"410\" y=\"-438.8\" font-family=\"Helvetica,sans-Serif\" font-size=\"14.00\">x</text>\n<text text-anchor=\"start\" x=\"417\" y=\"-438.8\" font-family=\"Helvetica,sans-Serif\" baseline-shift=\"sub\" font-size=\"14.00\">1</text>\n<text text-anchor=\"start\" x=\"424\" y=\"-438.8\" font-family=\"Helvetica,sans-Serif\" font-size=\"14.00\"> ≤ 35.5</text>\n<text text-anchor=\"start\" x=\"402.5\" y=\"-424.8\" font-family=\"Helvetica,sans-Serif\" font-size=\"14.00\">gini = 0.743</text>\n<text text-anchor=\"start\" x=\"393\" y=\"-410.8\" font-family=\"Helvetica,sans-Serif\" font-size=\"14.00\">samples = 198</text>\n<text text-anchor=\"start\" x=\"368.5\" y=\"-396.8\" font-family=\"Helvetica,sans-Serif\" font-size=\"14.00\">value = [54, 48, 37, 59]</text>\n</g>\n<!-- 1 -->\n<g id=\"node2\" class=\"node\">\n<title>1</title>\n<path fill=\"#f8dbfa\" stroke=\"black\" d=\"M417,-353C417,-353 301,-353 301,-353 295,-353 289,-347 289,-341 289,-341 289,-301 289,-301 289,-295 295,-289 301,-289 301,-289 417,-289 417,-289 423,-289 429,-295 429,-301 429,-301 429,-341 429,-341 429,-347 423,-353 417,-353\"/>\n<text text-anchor=\"start\" x=\"327.5\" y=\"-338.8\" font-family=\"Helvetica,sans-Serif\" font-size=\"14.00\">x</text>\n<text text-anchor=\"start\" x=\"334.5\" y=\"-338.8\" font-family=\"Helvetica,sans-Serif\" baseline-shift=\"sub\" font-size=\"14.00\">9</text>\n<text text-anchor=\"start\" x=\"341.5\" y=\"-338.8\" font-family=\"Helvetica,sans-Serif\" font-size=\"14.00\"> ≤ 41.39</text>\n<text text-anchor=\"start\" x=\"323.5\" y=\"-324.8\" font-family=\"Helvetica,sans-Serif\" font-size=\"14.00\">gini = 0.504</text>\n<text text-anchor=\"start\" x=\"314\" y=\"-310.8\" font-family=\"Helvetica,sans-Serif\" font-size=\"14.00\">samples = 108</text>\n<text text-anchor=\"start\" x=\"297\" y=\"-296.8\" font-family=\"Helvetica,sans-Serif\" font-size=\"14.00\">value = [1, 48, 0, 59]</text>\n</g>\n<!-- 0&#45;&gt;1 -->\n<g id=\"edge1\" class=\"edge\">\n<title>0&#45;&gt;1</title>\n<path fill=\"none\" stroke=\"black\" d=\"M413,-388.99C405.87,-380.14 398.01,-370.39 390.54,-361.12\"/>\n<polygon fill=\"black\" stroke=\"black\" points=\"393.11,-358.73 384.1,-353.14 387.66,-363.12 393.11,-358.73\"/>\n<text text-anchor=\"middle\" x=\"381.44\" y=\"-374.3\" font-family=\"Helvetica,sans-Serif\" font-size=\"14.00\">True</text>\n</g>\n<!-- 10 -->\n<g id=\"node11\" class=\"node\">\n<title>10</title>\n<path fill=\"#f7d9c3\" stroke=\"black\" d=\"M575,-353C575,-353 459,-353 459,-353 453,-353 447,-347 447,-341 447,-341 447,-301 447,-301 447,-295 453,-289 459,-289 459,-289 575,-289 575,-289 581,-289 587,-295 587,-301 587,-301 587,-341 587,-341 587,-347 581,-353 575,-353\"/>\n<text text-anchor=\"start\" x=\"489\" y=\"-338.8\" font-family=\"Helvetica,sans-Serif\" font-size=\"14.00\">x</text>\n<text text-anchor=\"start\" x=\"496\" y=\"-338.8\" font-family=\"Helvetica,sans-Serif\" baseline-shift=\"sub\" font-size=\"14.00\">8</text>\n<text text-anchor=\"start\" x=\"503\" y=\"-338.8\" font-family=\"Helvetica,sans-Serif\" font-size=\"14.00\"> ≤ 62.5</text>\n<text text-anchor=\"start\" x=\"481.5\" y=\"-324.8\" font-family=\"Helvetica,sans-Serif\" font-size=\"14.00\">gini = 0.484</text>\n<text text-anchor=\"start\" x=\"476\" y=\"-310.8\" font-family=\"Helvetica,sans-Serif\" font-size=\"14.00\">samples = 90</text>\n<text text-anchor=\"start\" x=\"455\" y=\"-296.8\" font-family=\"Helvetica,sans-Serif\" font-size=\"14.00\">value = [53, 0, 37, 0]</text>\n</g>\n<!-- 0&#45;&gt;10 -->\n<g id=\"edge10\" class=\"edge\">\n<title>0&#45;&gt;10</title>\n<path fill=\"none\" stroke=\"black\" d=\"M463,-388.99C470.13,-380.14 477.99,-370.39 485.46,-361.12\"/>\n<polygon fill=\"black\" stroke=\"black\" points=\"488.34,-363.12 491.9,-353.14 482.89,-358.73 488.34,-363.12\"/>\n<text text-anchor=\"middle\" x=\"494.56\" y=\"-374.3\" font-family=\"Helvetica,sans-Serif\" font-size=\"14.00\">False</text>\n</g>\n<!-- 2 -->\n<g id=\"node3\" class=\"node\">\n<title>2</title>\n<path fill=\"#4be63d\" stroke=\"black\" d=\"M265,-253C265,-253 157,-253 157,-253 151,-253 145,-247 145,-241 145,-241 145,-201 145,-201 145,-195 151,-189 157,-189 157,-189 265,-189 265,-189 271,-189 277,-195 277,-201 277,-201 277,-241 277,-241 277,-247 271,-253 265,-253\"/>\n<text text-anchor=\"start\" x=\"173.5\" y=\"-238.8\" font-family=\"Helvetica,sans-Serif\" font-size=\"14.00\">x</text>\n<text text-anchor=\"start\" x=\"180.5\" y=\"-238.8\" font-family=\"Helvetica,sans-Serif\" baseline-shift=\"sub\" font-size=\"14.00\">21</text>\n<text text-anchor=\"start\" x=\"194.5\" y=\"-238.8\" font-family=\"Helvetica,sans-Serif\" font-size=\"14.00\"> ≤ &#45;0.815</text>\n<text text-anchor=\"start\" x=\"175.5\" y=\"-224.8\" font-family=\"Helvetica,sans-Serif\" font-size=\"14.00\">gini = 0.042</text>\n<text text-anchor=\"start\" x=\"170\" y=\"-210.8\" font-family=\"Helvetica,sans-Serif\" font-size=\"14.00\">samples = 47</text>\n<text text-anchor=\"start\" x=\"153\" y=\"-196.8\" font-family=\"Helvetica,sans-Serif\" font-size=\"14.00\">value = [0, 46, 0, 1]</text>\n</g>\n<!-- 1&#45;&gt;2 -->\n<g id=\"edge2\" class=\"edge\">\n<title>1&#45;&gt;2</title>\n<path fill=\"none\" stroke=\"black\" d=\"M312.17,-288.99C297.73,-279.43 281.69,-268.81 266.71,-258.89\"/>\n<polygon fill=\"black\" stroke=\"black\" points=\"268.3,-255.75 258.03,-253.14 264.44,-261.58 268.3,-255.75\"/>\n</g>\n<!-- 5 -->\n<g id=\"node6\" class=\"node\">\n<title>5</title>\n<path fill=\"#d943e6\" stroke=\"black\" d=\"M415,-253C415,-253 307,-253 307,-253 301,-253 295,-247 295,-241 295,-241 295,-201 295,-201 295,-195 301,-189 307,-189 307,-189 415,-189 415,-189 421,-189 427,-195 427,-201 427,-201 427,-241 427,-241 427,-247 421,-253 415,-253\"/>\n<text text-anchor=\"start\" x=\"320\" y=\"-238.8\" font-family=\"Helvetica,sans-Serif\" font-size=\"14.00\">x</text>\n<text text-anchor=\"start\" x=\"327\" y=\"-238.8\" font-family=\"Helvetica,sans-Serif\" baseline-shift=\"sub\" font-size=\"14.00\">15</text>\n<text text-anchor=\"start\" x=\"341\" y=\"-238.8\" font-family=\"Helvetica,sans-Serif\" font-size=\"14.00\"> ≤ &#45;17.815</text>\n<text text-anchor=\"start\" x=\"325.5\" y=\"-224.8\" font-family=\"Helvetica,sans-Serif\" font-size=\"14.00\">gini = 0.095</text>\n<text text-anchor=\"start\" x=\"320\" y=\"-210.8\" font-family=\"Helvetica,sans-Serif\" font-size=\"14.00\">samples = 61</text>\n<text text-anchor=\"start\" x=\"303\" y=\"-196.8\" font-family=\"Helvetica,sans-Serif\" font-size=\"14.00\">value = [1, 2, 0, 58]</text>\n</g>\n<!-- 1&#45;&gt;5 -->\n<g id=\"edge5\" class=\"edge\">\n<title>1&#45;&gt;5</title>\n<path fill=\"none\" stroke=\"black\" d=\"M359.63,-288.99C359.8,-280.86 359.98,-271.96 360.16,-263.38\"/>\n<polygon fill=\"black\" stroke=\"black\" points=\"363.66,-263.21 360.36,-253.14 356.66,-263.07 363.66,-263.21\"/>\n</g>\n<!-- 3 -->\n<g id=\"node4\" class=\"node\">\n<title>3</title>\n<path fill=\"#47e539\" stroke=\"black\" d=\"M120,-147.5C120,-147.5 12,-147.5 12,-147.5 6,-147.5 0,-141.5 0,-135.5 0,-135.5 0,-106.5 0,-106.5 0,-100.5 6,-94.5 12,-94.5 12,-94.5 120,-94.5 120,-94.5 126,-94.5 132,-100.5 132,-106.5 132,-106.5 132,-135.5 132,-135.5 132,-141.5 126,-147.5 120,-147.5\"/>\n<text text-anchor=\"start\" x=\"38\" y=\"-132.3\" font-family=\"Helvetica,sans-Serif\" font-size=\"14.00\">gini = 0.0</text>\n<text text-anchor=\"start\" x=\"25\" y=\"-117.3\" font-family=\"Helvetica,sans-Serif\" font-size=\"14.00\">samples = 46</text>\n<text text-anchor=\"start\" x=\"8\" y=\"-102.3\" font-family=\"Helvetica,sans-Serif\" font-size=\"14.00\">value = [0, 46, 0, 0]</text>\n</g>\n<!-- 2&#45;&gt;3 -->\n<g id=\"edge3\" class=\"edge\">\n<title>2&#45;&gt;3</title>\n<path fill=\"none\" stroke=\"black\" d=\"M165.12,-188.99C148.31,-177.63 129.27,-164.76 112.41,-153.37\"/>\n<polygon fill=\"black\" stroke=\"black\" points=\"114.06,-150.26 103.81,-147.56 110.14,-156.06 114.06,-150.26\"/>\n</g>\n<!-- 4 -->\n<g id=\"node5\" class=\"node\">\n<title>4</title>\n<path fill=\"#d739e5\" stroke=\"black\" d=\"M263.5,-147.5C263.5,-147.5 162.5,-147.5 162.5,-147.5 156.5,-147.5 150.5,-141.5 150.5,-135.5 150.5,-135.5 150.5,-106.5 150.5,-106.5 150.5,-100.5 156.5,-94.5 162.5,-94.5 162.5,-94.5 263.5,-94.5 263.5,-94.5 269.5,-94.5 275.5,-100.5 275.5,-106.5 275.5,-106.5 275.5,-135.5 275.5,-135.5 275.5,-141.5 269.5,-147.5 263.5,-147.5\"/>\n<text text-anchor=\"start\" x=\"185\" y=\"-132.3\" font-family=\"Helvetica,sans-Serif\" font-size=\"14.00\">gini = 0.0</text>\n<text text-anchor=\"start\" x=\"175.5\" y=\"-117.3\" font-family=\"Helvetica,sans-Serif\" font-size=\"14.00\">samples = 1</text>\n<text text-anchor=\"start\" x=\"158.5\" y=\"-102.3\" font-family=\"Helvetica,sans-Serif\" font-size=\"14.00\">value = [0, 0, 0, 1]</text>\n</g>\n<!-- 2&#45;&gt;4 -->\n<g id=\"edge4\" class=\"edge\">\n<title>2&#45;&gt;4</title>\n<path fill=\"none\" stroke=\"black\" d=\"M211.63,-188.99C211.83,-179.09 212.06,-168.04 212.27,-157.82\"/>\n<polygon fill=\"black\" stroke=\"black\" points=\"215.77,-157.63 212.48,-147.56 208.78,-157.48 215.77,-157.63\"/>\n</g>\n<!-- 6 -->\n<g id=\"node7\" class=\"node\">\n<title>6</title>\n<path fill=\"#47e539\" stroke=\"black\" d=\"M409.5,-147.5C409.5,-147.5 308.5,-147.5 308.5,-147.5 302.5,-147.5 296.5,-141.5 296.5,-135.5 296.5,-135.5 296.5,-106.5 296.5,-106.5 296.5,-100.5 302.5,-94.5 308.5,-94.5 308.5,-94.5 409.5,-94.5 409.5,-94.5 415.5,-94.5 421.5,-100.5 421.5,-106.5 421.5,-106.5 421.5,-135.5 421.5,-135.5 421.5,-141.5 415.5,-147.5 409.5,-147.5\"/>\n<text text-anchor=\"start\" x=\"331\" y=\"-132.3\" font-family=\"Helvetica,sans-Serif\" font-size=\"14.00\">gini = 0.0</text>\n<text text-anchor=\"start\" x=\"321.5\" y=\"-117.3\" font-family=\"Helvetica,sans-Serif\" font-size=\"14.00\">samples = 2</text>\n<text text-anchor=\"start\" x=\"304.5\" y=\"-102.3\" font-family=\"Helvetica,sans-Serif\" font-size=\"14.00\">value = [0, 2, 0, 0]</text>\n</g>\n<!-- 5&#45;&gt;6 -->\n<g id=\"edge6\" class=\"edge\">\n<title>5&#45;&gt;6</title>\n<path fill=\"none\" stroke=\"black\" d=\"M360.37,-188.99C360.17,-179.09 359.94,-168.04 359.73,-157.82\"/>\n<polygon fill=\"black\" stroke=\"black\" points=\"363.22,-157.48 359.52,-147.56 356.23,-157.63 363.22,-157.48\"/>\n</g>\n<!-- 7 -->\n<g id=\"node8\" class=\"node\">\n<title>7</title>\n<path fill=\"#d83ce5\" stroke=\"black\" d=\"M560,-153C560,-153 452,-153 452,-153 446,-153 440,-147 440,-141 440,-141 440,-101 440,-101 440,-95 446,-89 452,-89 452,-89 560,-89 560,-89 566,-89 572,-95 572,-101 572,-101 572,-141 572,-141 572,-147 566,-153 560,-153\"/>\n<text text-anchor=\"start\" x=\"478\" y=\"-138.8\" font-family=\"Helvetica,sans-Serif\" font-size=\"14.00\">x</text>\n<text text-anchor=\"start\" x=\"485\" y=\"-138.8\" font-family=\"Helvetica,sans-Serif\" baseline-shift=\"sub\" font-size=\"14.00\">0</text>\n<text text-anchor=\"start\" x=\"492\" y=\"-138.8\" font-family=\"Helvetica,sans-Serif\" font-size=\"14.00\"> ≤ 37.0</text>\n<text text-anchor=\"start\" x=\"470.5\" y=\"-124.8\" font-family=\"Helvetica,sans-Serif\" font-size=\"14.00\">gini = 0.033</text>\n<text text-anchor=\"start\" x=\"465\" y=\"-110.8\" font-family=\"Helvetica,sans-Serif\" font-size=\"14.00\">samples = 59</text>\n<text text-anchor=\"start\" x=\"448\" y=\"-96.8\" font-family=\"Helvetica,sans-Serif\" font-size=\"14.00\">value = [1, 0, 0, 58]</text>\n</g>\n<!-- 5&#45;&gt;7 -->\n<g id=\"edge7\" class=\"edge\">\n<title>5&#45;&gt;7</title>\n<path fill=\"none\" stroke=\"black\" d=\"M406.88,-188.99C421.03,-179.43 436.75,-168.81 451.42,-158.89\"/>\n<polygon fill=\"black\" stroke=\"black\" points=\"453.6,-161.64 459.92,-153.14 449.68,-155.84 453.6,-161.64\"/>\n</g>\n<!-- 8 -->\n<g id=\"node9\" class=\"node\">\n<title>8</title>\n<path fill=\"#e58139\" stroke=\"black\" d=\"M482.5,-53C482.5,-53 381.5,-53 381.5,-53 375.5,-53 369.5,-47 369.5,-41 369.5,-41 369.5,-12 369.5,-12 369.5,-6 375.5,0 381.5,0 381.5,0 482.5,0 482.5,0 488.5,0 494.5,-6 494.5,-12 494.5,-12 494.5,-41 494.5,-41 494.5,-47 488.5,-53 482.5,-53\"/>\n<text text-anchor=\"start\" x=\"404\" y=\"-37.8\" font-family=\"Helvetica,sans-Serif\" font-size=\"14.00\">gini = 0.0</text>\n<text text-anchor=\"start\" x=\"394.5\" y=\"-22.8\" font-family=\"Helvetica,sans-Serif\" font-size=\"14.00\">samples = 1</text>\n<text text-anchor=\"start\" x=\"377.5\" y=\"-7.8\" font-family=\"Helvetica,sans-Serif\" font-size=\"14.00\">value = [1, 0, 0, 0]</text>\n</g>\n<!-- 7&#45;&gt;8 -->\n<g id=\"edge8\" class=\"edge\">\n<title>7&#45;&gt;8</title>\n<path fill=\"none\" stroke=\"black\" d=\"M481.15,-88.94C473.94,-79.93 466.04,-70.05 458.72,-60.9\"/>\n<polygon fill=\"black\" stroke=\"black\" points=\"461.45,-58.71 452.47,-53.09 455.99,-63.09 461.45,-58.71\"/>\n</g>\n<!-- 9 -->\n<g id=\"node10\" class=\"node\">\n<title>9</title>\n<path fill=\"#d739e5\" stroke=\"black\" d=\"M633,-53C633,-53 525,-53 525,-53 519,-53 513,-47 513,-41 513,-41 513,-12 513,-12 513,-6 519,0 525,0 525,0 633,0 633,0 639,0 645,-6 645,-12 645,-12 645,-41 645,-41 645,-47 639,-53 633,-53\"/>\n<text text-anchor=\"start\" x=\"551\" y=\"-37.8\" font-family=\"Helvetica,sans-Serif\" font-size=\"14.00\">gini = 0.0</text>\n<text text-anchor=\"start\" x=\"538\" y=\"-22.8\" font-family=\"Helvetica,sans-Serif\" font-size=\"14.00\">samples = 58</text>\n<text text-anchor=\"start\" x=\"521\" y=\"-7.8\" font-family=\"Helvetica,sans-Serif\" font-size=\"14.00\">value = [0, 0, 0, 58]</text>\n</g>\n<!-- 7&#45;&gt;9 -->\n<g id=\"edge9\" class=\"edge\">\n<title>7&#45;&gt;9</title>\n<path fill=\"none\" stroke=\"black\" d=\"M530.51,-88.94C537.55,-80.02 545.26,-70.25 552.42,-61.18\"/>\n<polygon fill=\"black\" stroke=\"black\" points=\"555.36,-63.11 558.8,-53.09 549.86,-58.77 555.36,-63.11\"/>\n</g>\n<!-- 11 -->\n<g id=\"node12\" class=\"node\">\n<title>11</title>\n<path fill=\"#e58139\" stroke=\"black\" d=\"M569,-247.5C569,-247.5 461,-247.5 461,-247.5 455,-247.5 449,-241.5 449,-235.5 449,-235.5 449,-206.5 449,-206.5 449,-200.5 455,-194.5 461,-194.5 461,-194.5 569,-194.5 569,-194.5 575,-194.5 581,-200.5 581,-206.5 581,-206.5 581,-235.5 581,-235.5 581,-241.5 575,-247.5 569,-247.5\"/>\n<text text-anchor=\"start\" x=\"487\" y=\"-232.3\" font-family=\"Helvetica,sans-Serif\" font-size=\"14.00\">gini = 0.0</text>\n<text text-anchor=\"start\" x=\"474\" y=\"-217.3\" font-family=\"Helvetica,sans-Serif\" font-size=\"14.00\">samples = 52</text>\n<text text-anchor=\"start\" x=\"457\" y=\"-202.3\" font-family=\"Helvetica,sans-Serif\" font-size=\"14.00\">value = [52, 0, 0, 0]</text>\n</g>\n<!-- 10&#45;&gt;11 -->\n<g id=\"edge11\" class=\"edge\">\n<title>10&#45;&gt;11</title>\n<path fill=\"none\" stroke=\"black\" d=\"M516.37,-288.99C516.17,-279.09 515.94,-268.04 515.73,-257.82\"/>\n<polygon fill=\"black\" stroke=\"black\" points=\"519.22,-257.48 515.52,-247.56 512.23,-257.63 519.22,-257.48\"/>\n</g>\n<!-- 12 -->\n<g id=\"node13\" class=\"node\">\n<title>12</title>\n<path fill=\"#3ea0e6\" stroke=\"black\" d=\"M719,-253C719,-253 611,-253 611,-253 605,-253 599,-247 599,-241 599,-241 599,-201 599,-201 599,-195 605,-189 611,-189 611,-189 719,-189 719,-189 725,-189 731,-195 731,-201 731,-201 731,-241 731,-241 731,-247 725,-253 719,-253\"/>\n<text text-anchor=\"start\" x=\"631.5\" y=\"-238.8\" font-family=\"Helvetica,sans-Serif\" font-size=\"14.00\">x</text>\n<text text-anchor=\"start\" x=\"638.5\" y=\"-238.8\" font-family=\"Helvetica,sans-Serif\" baseline-shift=\"sub\" font-size=\"14.00\">20</text>\n<text text-anchor=\"start\" x=\"652.5\" y=\"-238.8\" font-family=\"Helvetica,sans-Serif\" font-size=\"14.00\"> ≤ &#45;1.83</text>\n<text text-anchor=\"start\" x=\"629.5\" y=\"-224.8\" font-family=\"Helvetica,sans-Serif\" font-size=\"14.00\">gini = 0.051</text>\n<text text-anchor=\"start\" x=\"624\" y=\"-210.8\" font-family=\"Helvetica,sans-Serif\" font-size=\"14.00\">samples = 38</text>\n<text text-anchor=\"start\" x=\"607\" y=\"-196.8\" font-family=\"Helvetica,sans-Serif\" font-size=\"14.00\">value = [1, 0, 37, 0]</text>\n</g>\n<!-- 10&#45;&gt;12 -->\n<g id=\"edge12\" class=\"edge\">\n<title>10&#45;&gt;12</title>\n<path fill=\"none\" stroke=\"black\" d=\"M563.83,-288.99C578.27,-279.43 594.31,-268.81 609.29,-258.89\"/>\n<polygon fill=\"black\" stroke=\"black\" points=\"611.56,-261.58 617.97,-253.14 607.7,-255.75 611.56,-261.58\"/>\n</g>\n<!-- 13 -->\n<g id=\"node14\" class=\"node\">\n<title>13</title>\n<path fill=\"#399de5\" stroke=\"black\" d=\"M715,-147.5C715,-147.5 607,-147.5 607,-147.5 601,-147.5 595,-141.5 595,-135.5 595,-135.5 595,-106.5 595,-106.5 595,-100.5 601,-94.5 607,-94.5 607,-94.5 715,-94.5 715,-94.5 721,-94.5 727,-100.5 727,-106.5 727,-106.5 727,-135.5 727,-135.5 727,-141.5 721,-147.5 715,-147.5\"/>\n<text text-anchor=\"start\" x=\"633\" y=\"-132.3\" font-family=\"Helvetica,sans-Serif\" font-size=\"14.00\">gini = 0.0</text>\n<text text-anchor=\"start\" x=\"620\" y=\"-117.3\" font-family=\"Helvetica,sans-Serif\" font-size=\"14.00\">samples = 37</text>\n<text text-anchor=\"start\" x=\"603\" y=\"-102.3\" font-family=\"Helvetica,sans-Serif\" font-size=\"14.00\">value = [0, 0, 37, 0]</text>\n</g>\n<!-- 12&#45;&gt;13 -->\n<g id=\"edge13\" class=\"edge\">\n<title>12&#45;&gt;13</title>\n<path fill=\"none\" stroke=\"black\" d=\"M663.73,-188.99C663.33,-179.09 662.88,-168.04 662.46,-157.82\"/>\n<polygon fill=\"black\" stroke=\"black\" points=\"665.95,-157.41 662.04,-147.56 658.95,-157.69 665.95,-157.41\"/>\n</g>\n<!-- 14 -->\n<g id=\"node15\" class=\"node\">\n<title>14</title>\n<path fill=\"#e58139\" stroke=\"black\" d=\"M858.5,-147.5C858.5,-147.5 757.5,-147.5 757.5,-147.5 751.5,-147.5 745.5,-141.5 745.5,-135.5 745.5,-135.5 745.5,-106.5 745.5,-106.5 745.5,-100.5 751.5,-94.5 757.5,-94.5 757.5,-94.5 858.5,-94.5 858.5,-94.5 864.5,-94.5 870.5,-100.5 870.5,-106.5 870.5,-106.5 870.5,-135.5 870.5,-135.5 870.5,-141.5 864.5,-147.5 858.5,-147.5\"/>\n<text text-anchor=\"start\" x=\"780\" y=\"-132.3\" font-family=\"Helvetica,sans-Serif\" font-size=\"14.00\">gini = 0.0</text>\n<text text-anchor=\"start\" x=\"770.5\" y=\"-117.3\" font-family=\"Helvetica,sans-Serif\" font-size=\"14.00\">samples = 1</text>\n<text text-anchor=\"start\" x=\"753.5\" y=\"-102.3\" font-family=\"Helvetica,sans-Serif\" font-size=\"14.00\">value = [1, 0, 0, 0]</text>\n</g>\n<!-- 12&#45;&gt;14 -->\n<g id=\"edge14\" class=\"edge\">\n<title>12&#45;&gt;14</title>\n<path fill=\"none\" stroke=\"black\" d=\"M710.25,-188.99C726.83,-177.63 745.6,-164.76 762.23,-153.37\"/>\n<polygon fill=\"black\" stroke=\"black\" points=\"764.44,-156.1 770.71,-147.56 760.48,-150.32 764.44,-156.1\"/>\n</g>\n</g>\n</svg>\n",
            "text/plain": [
              "<graphviz.sources.Source at 0x7d4050f21ae0>"
            ]
          },
          "metadata": {},
          "execution_count": 49
        }
      ]
    },
    {
      "cell_type": "code",
      "source": [
        "clf = tree.DecisionTreeClassifier(max_depth=7)\n",
        "clf = clf.fit(X, y)\n",
        "dot_data = tree.export_graphviz(clf, out_file=None, filled=True, rounded=True, special_characters=True)\n",
        "graph = graphviz.Source(dot_data)\n",
        "graph.render('Forest Type Mapping', view=True)\n",
        "graph"
      ],
      "metadata": {
        "id": "IEKqVN-1e2XL",
        "outputId": "5dd650ed-0f48-4b1a-c28f-7ac887854a1b",
        "colab": {
          "base_uri": "https://localhost:8080/",
          "height": 636
        }
      },
      "execution_count": 48,
      "outputs": [
        {
          "output_type": "execute_result",
          "data": {
            "image/svg+xml": "<?xml version=\"1.0\" encoding=\"UTF-8\" standalone=\"no\"?>\n<!DOCTYPE svg PUBLIC \"-//W3C//DTD SVG 1.1//EN\"\n \"http://www.w3.org/Graphics/SVG/1.1/DTD/svg11.dtd\">\n<!-- Generated by graphviz version 2.43.0 (0)\n -->\n<!-- Title: Tree Pages: 1 -->\n<svg width=\"877pt\" height=\"461pt\"\n viewBox=\"0.00 0.00 877.00 461.00\" xmlns=\"http://www.w3.org/2000/svg\" xmlns:xlink=\"http://www.w3.org/1999/xlink\">\n<g id=\"graph0\" class=\"graph\" transform=\"scale(1 1) rotate(0) translate(4 457)\">\n<title>Tree</title>\n<polygon fill=\"white\" stroke=\"transparent\" points=\"-4,4 -4,-457 873,-457 873,4 -4,4\"/>\n<!-- 0 -->\n<g id=\"node1\" class=\"node\">\n<title>0</title>\n<path fill=\"#fef8fe\" stroke=\"black\" d=\"M639.5,-453C639.5,-453 508.5,-453 508.5,-453 502.5,-453 496.5,-447 496.5,-441 496.5,-441 496.5,-401 496.5,-401 496.5,-395 502.5,-389 508.5,-389 508.5,-389 639.5,-389 639.5,-389 645.5,-389 651.5,-395 651.5,-401 651.5,-401 651.5,-441 651.5,-441 651.5,-447 645.5,-453 639.5,-453\"/>\n<text text-anchor=\"start\" x=\"546\" y=\"-438.8\" font-family=\"Helvetica,sans-Serif\" font-size=\"14.00\">x</text>\n<text text-anchor=\"start\" x=\"553\" y=\"-438.8\" font-family=\"Helvetica,sans-Serif\" baseline-shift=\"sub\" font-size=\"14.00\">1</text>\n<text text-anchor=\"start\" x=\"560\" y=\"-438.8\" font-family=\"Helvetica,sans-Serif\" font-size=\"14.00\"> ≤ 35.5</text>\n<text text-anchor=\"start\" x=\"538.5\" y=\"-424.8\" font-family=\"Helvetica,sans-Serif\" font-size=\"14.00\">gini = 0.743</text>\n<text text-anchor=\"start\" x=\"529\" y=\"-410.8\" font-family=\"Helvetica,sans-Serif\" font-size=\"14.00\">samples = 198</text>\n<text text-anchor=\"start\" x=\"504.5\" y=\"-396.8\" font-family=\"Helvetica,sans-Serif\" font-size=\"14.00\">value = [54, 48, 37, 59]</text>\n</g>\n<!-- 1 -->\n<g id=\"node2\" class=\"node\">\n<title>1</title>\n<path fill=\"#f8dbfa\" stroke=\"black\" d=\"M487,-353C487,-353 371,-353 371,-353 365,-353 359,-347 359,-341 359,-341 359,-301 359,-301 359,-295 365,-289 371,-289 371,-289 487,-289 487,-289 493,-289 499,-295 499,-301 499,-301 499,-341 499,-341 499,-347 493,-353 487,-353\"/>\n<text text-anchor=\"start\" x=\"397.5\" y=\"-338.8\" font-family=\"Helvetica,sans-Serif\" font-size=\"14.00\">x</text>\n<text text-anchor=\"start\" x=\"404.5\" y=\"-338.8\" font-family=\"Helvetica,sans-Serif\" baseline-shift=\"sub\" font-size=\"14.00\">9</text>\n<text text-anchor=\"start\" x=\"411.5\" y=\"-338.8\" font-family=\"Helvetica,sans-Serif\" font-size=\"14.00\"> ≤ 41.39</text>\n<text text-anchor=\"start\" x=\"393.5\" y=\"-324.8\" font-family=\"Helvetica,sans-Serif\" font-size=\"14.00\">gini = 0.504</text>\n<text text-anchor=\"start\" x=\"384\" y=\"-310.8\" font-family=\"Helvetica,sans-Serif\" font-size=\"14.00\">samples = 108</text>\n<text text-anchor=\"start\" x=\"367\" y=\"-296.8\" font-family=\"Helvetica,sans-Serif\" font-size=\"14.00\">value = [1, 48, 0, 59]</text>\n</g>\n<!-- 0&#45;&gt;1 -->\n<g id=\"edge1\" class=\"edge\">\n<title>0&#45;&gt;1</title>\n<path fill=\"none\" stroke=\"black\" d=\"M528.12,-388.99C513.97,-379.43 498.25,-368.81 483.58,-358.89\"/>\n<polygon fill=\"black\" stroke=\"black\" points=\"485.32,-355.84 475.08,-353.14 481.4,-361.64 485.32,-355.84\"/>\n<text text-anchor=\"middle\" x=\"479.83\" y=\"-373.99\" font-family=\"Helvetica,sans-Serif\" font-size=\"14.00\">True</text>\n</g>\n<!-- 10 -->\n<g id=\"node11\" class=\"node\">\n<title>10</title>\n<path fill=\"#f7d9c3\" stroke=\"black\" d=\"M711,-353C711,-353 595,-353 595,-353 589,-353 583,-347 583,-341 583,-341 583,-301 583,-301 583,-295 589,-289 595,-289 595,-289 711,-289 711,-289 717,-289 723,-295 723,-301 723,-301 723,-341 723,-341 723,-347 717,-353 711,-353\"/>\n<text text-anchor=\"start\" x=\"615.5\" y=\"-338.8\" font-family=\"Helvetica,sans-Serif\" font-size=\"14.00\">x</text>\n<text text-anchor=\"start\" x=\"622.5\" y=\"-338.8\" font-family=\"Helvetica,sans-Serif\" baseline-shift=\"sub\" font-size=\"14.00\">17</text>\n<text text-anchor=\"start\" x=\"636.5\" y=\"-338.8\" font-family=\"Helvetica,sans-Serif\" font-size=\"14.00\"> ≤ &#45;7.525</text>\n<text text-anchor=\"start\" x=\"617.5\" y=\"-324.8\" font-family=\"Helvetica,sans-Serif\" font-size=\"14.00\">gini = 0.484</text>\n<text text-anchor=\"start\" x=\"612\" y=\"-310.8\" font-family=\"Helvetica,sans-Serif\" font-size=\"14.00\">samples = 90</text>\n<text text-anchor=\"start\" x=\"591\" y=\"-296.8\" font-family=\"Helvetica,sans-Serif\" font-size=\"14.00\">value = [53, 0, 37, 0]</text>\n</g>\n<!-- 0&#45;&gt;10 -->\n<g id=\"edge10\" class=\"edge\">\n<title>0&#45;&gt;10</title>\n<path fill=\"none\" stroke=\"black\" d=\"M599,-388.99C606.13,-380.14 613.99,-370.39 621.46,-361.12\"/>\n<polygon fill=\"black\" stroke=\"black\" points=\"624.34,-363.12 627.9,-353.14 618.89,-358.73 624.34,-363.12\"/>\n<text text-anchor=\"middle\" x=\"630.56\" y=\"-374.3\" font-family=\"Helvetica,sans-Serif\" font-size=\"14.00\">False</text>\n</g>\n<!-- 2 -->\n<g id=\"node3\" class=\"node\">\n<title>2</title>\n<path fill=\"#4be63d\" stroke=\"black\" d=\"M267,-253C267,-253 159,-253 159,-253 153,-253 147,-247 147,-241 147,-241 147,-201 147,-201 147,-195 153,-189 159,-189 159,-189 267,-189 267,-189 273,-189 279,-195 279,-201 279,-201 279,-241 279,-241 279,-247 273,-253 267,-253\"/>\n<text text-anchor=\"start\" x=\"179.5\" y=\"-238.8\" font-family=\"Helvetica,sans-Serif\" font-size=\"14.00\">x</text>\n<text text-anchor=\"start\" x=\"186.5\" y=\"-238.8\" font-family=\"Helvetica,sans-Serif\" baseline-shift=\"sub\" font-size=\"14.00\">18</text>\n<text text-anchor=\"start\" x=\"200.5\" y=\"-238.8\" font-family=\"Helvetica,sans-Serif\" font-size=\"14.00\"> ≤ &#45;0.76</text>\n<text text-anchor=\"start\" x=\"177.5\" y=\"-224.8\" font-family=\"Helvetica,sans-Serif\" font-size=\"14.00\">gini = 0.042</text>\n<text text-anchor=\"start\" x=\"172\" y=\"-210.8\" font-family=\"Helvetica,sans-Serif\" font-size=\"14.00\">samples = 47</text>\n<text text-anchor=\"start\" x=\"155\" y=\"-196.8\" font-family=\"Helvetica,sans-Serif\" font-size=\"14.00\">value = [0, 46, 0, 1]</text>\n</g>\n<!-- 1&#45;&gt;2 -->\n<g id=\"edge2\" class=\"edge\">\n<title>1&#45;&gt;2</title>\n<path fill=\"none\" stroke=\"black\" d=\"M360.66,-288.99C337.63,-278.55 311.82,-266.83 288.29,-256.16\"/>\n<polygon fill=\"black\" stroke=\"black\" points=\"289.61,-252.91 279.05,-251.97 286.71,-259.29 289.61,-252.91\"/>\n</g>\n<!-- 5 -->\n<g id=\"node6\" class=\"node\">\n<title>5</title>\n<path fill=\"#d943e6\" stroke=\"black\" d=\"M483,-253C483,-253 375,-253 375,-253 369,-253 363,-247 363,-241 363,-241 363,-201 363,-201 363,-195 369,-189 375,-189 375,-189 483,-189 483,-189 489,-189 495,-195 495,-201 495,-201 495,-241 495,-241 495,-247 489,-253 483,-253\"/>\n<text text-anchor=\"start\" x=\"388\" y=\"-238.8\" font-family=\"Helvetica,sans-Serif\" font-size=\"14.00\">x</text>\n<text text-anchor=\"start\" x=\"395\" y=\"-238.8\" font-family=\"Helvetica,sans-Serif\" baseline-shift=\"sub\" font-size=\"14.00\">15</text>\n<text text-anchor=\"start\" x=\"409\" y=\"-238.8\" font-family=\"Helvetica,sans-Serif\" font-size=\"14.00\"> ≤ &#45;17.815</text>\n<text text-anchor=\"start\" x=\"393.5\" y=\"-224.8\" font-family=\"Helvetica,sans-Serif\" font-size=\"14.00\">gini = 0.095</text>\n<text text-anchor=\"start\" x=\"388\" y=\"-210.8\" font-family=\"Helvetica,sans-Serif\" font-size=\"14.00\">samples = 61</text>\n<text text-anchor=\"start\" x=\"371\" y=\"-196.8\" font-family=\"Helvetica,sans-Serif\" font-size=\"14.00\">value = [1, 2, 0, 58]</text>\n</g>\n<!-- 1&#45;&gt;5 -->\n<g id=\"edge5\" class=\"edge\">\n<title>1&#45;&gt;5</title>\n<path fill=\"none\" stroke=\"black\" d=\"M429,-288.99C429,-280.86 429,-271.96 429,-263.38\"/>\n<polygon fill=\"black\" stroke=\"black\" points=\"432.5,-263.14 429,-253.14 425.5,-263.14 432.5,-263.14\"/>\n</g>\n<!-- 3 -->\n<g id=\"node4\" class=\"node\">\n<title>3</title>\n<path fill=\"#47e539\" stroke=\"black\" d=\"M120,-147.5C120,-147.5 12,-147.5 12,-147.5 6,-147.5 0,-141.5 0,-135.5 0,-135.5 0,-106.5 0,-106.5 0,-100.5 6,-94.5 12,-94.5 12,-94.5 120,-94.5 120,-94.5 126,-94.5 132,-100.5 132,-106.5 132,-106.5 132,-135.5 132,-135.5 132,-141.5 126,-147.5 120,-147.5\"/>\n<text text-anchor=\"start\" x=\"38\" y=\"-132.3\" font-family=\"Helvetica,sans-Serif\" font-size=\"14.00\">gini = 0.0</text>\n<text text-anchor=\"start\" x=\"25\" y=\"-117.3\" font-family=\"Helvetica,sans-Serif\" font-size=\"14.00\">samples = 46</text>\n<text text-anchor=\"start\" x=\"8\" y=\"-102.3\" font-family=\"Helvetica,sans-Serif\" font-size=\"14.00\">value = [0, 46, 0, 0]</text>\n</g>\n<!-- 2&#45;&gt;3 -->\n<g id=\"edge3\" class=\"edge\">\n<title>2&#45;&gt;3</title>\n<path fill=\"none\" stroke=\"black\" d=\"M166.49,-188.99C149.44,-177.63 130.14,-164.76 113.05,-153.37\"/>\n<polygon fill=\"black\" stroke=\"black\" points=\"114.6,-150.19 104.33,-147.56 110.71,-156.02 114.6,-150.19\"/>\n</g>\n<!-- 4 -->\n<g id=\"node5\" class=\"node\">\n<title>4</title>\n<path fill=\"#d739e5\" stroke=\"black\" d=\"M263.5,-147.5C263.5,-147.5 162.5,-147.5 162.5,-147.5 156.5,-147.5 150.5,-141.5 150.5,-135.5 150.5,-135.5 150.5,-106.5 150.5,-106.5 150.5,-100.5 156.5,-94.5 162.5,-94.5 162.5,-94.5 263.5,-94.5 263.5,-94.5 269.5,-94.5 275.5,-100.5 275.5,-106.5 275.5,-106.5 275.5,-135.5 275.5,-135.5 275.5,-141.5 269.5,-147.5 263.5,-147.5\"/>\n<text text-anchor=\"start\" x=\"185\" y=\"-132.3\" font-family=\"Helvetica,sans-Serif\" font-size=\"14.00\">gini = 0.0</text>\n<text text-anchor=\"start\" x=\"175.5\" y=\"-117.3\" font-family=\"Helvetica,sans-Serif\" font-size=\"14.00\">samples = 1</text>\n<text text-anchor=\"start\" x=\"158.5\" y=\"-102.3\" font-family=\"Helvetica,sans-Serif\" font-size=\"14.00\">value = [0, 0, 0, 1]</text>\n</g>\n<!-- 2&#45;&gt;4 -->\n<g id=\"edge4\" class=\"edge\">\n<title>2&#45;&gt;4</title>\n<path fill=\"none\" stroke=\"black\" d=\"M213,-188.99C213,-179.09 213,-168.04 213,-157.82\"/>\n<polygon fill=\"black\" stroke=\"black\" points=\"216.5,-157.56 213,-147.56 209.5,-157.56 216.5,-157.56\"/>\n</g>\n<!-- 6 -->\n<g id=\"node7\" class=\"node\">\n<title>6</title>\n<path fill=\"#47e539\" stroke=\"black\" d=\"M406.5,-147.5C406.5,-147.5 305.5,-147.5 305.5,-147.5 299.5,-147.5 293.5,-141.5 293.5,-135.5 293.5,-135.5 293.5,-106.5 293.5,-106.5 293.5,-100.5 299.5,-94.5 305.5,-94.5 305.5,-94.5 406.5,-94.5 406.5,-94.5 412.5,-94.5 418.5,-100.5 418.5,-106.5 418.5,-106.5 418.5,-135.5 418.5,-135.5 418.5,-141.5 412.5,-147.5 406.5,-147.5\"/>\n<text text-anchor=\"start\" x=\"328\" y=\"-132.3\" font-family=\"Helvetica,sans-Serif\" font-size=\"14.00\">gini = 0.0</text>\n<text text-anchor=\"start\" x=\"318.5\" y=\"-117.3\" font-family=\"Helvetica,sans-Serif\" font-size=\"14.00\">samples = 2</text>\n<text text-anchor=\"start\" x=\"301.5\" y=\"-102.3\" font-family=\"Helvetica,sans-Serif\" font-size=\"14.00\">value = [0, 2, 0, 0]</text>\n</g>\n<!-- 5&#45;&gt;6 -->\n<g id=\"edge6\" class=\"edge\">\n<title>5&#45;&gt;6</title>\n<path fill=\"none\" stroke=\"black\" d=\"M405.9,-188.99C397.98,-178.36 389.08,-166.41 381.01,-155.58\"/>\n<polygon fill=\"black\" stroke=\"black\" points=\"383.82,-153.49 375.04,-147.56 378.2,-157.67 383.82,-153.49\"/>\n</g>\n<!-- 7 -->\n<g id=\"node8\" class=\"node\">\n<title>7</title>\n<path fill=\"#d83ce5\" stroke=\"black\" d=\"M557,-153C557,-153 449,-153 449,-153 443,-153 437,-147 437,-141 437,-141 437,-101 437,-101 437,-95 443,-89 449,-89 449,-89 557,-89 557,-89 563,-89 569,-95 569,-101 569,-101 569,-141 569,-141 569,-147 563,-153 557,-153\"/>\n<text text-anchor=\"start\" x=\"467.5\" y=\"-138.8\" font-family=\"Helvetica,sans-Serif\" font-size=\"14.00\">x</text>\n<text text-anchor=\"start\" x=\"474.5\" y=\"-138.8\" font-family=\"Helvetica,sans-Serif\" baseline-shift=\"sub\" font-size=\"14.00\">9</text>\n<text text-anchor=\"start\" x=\"481.5\" y=\"-138.8\" font-family=\"Helvetica,sans-Serif\" font-size=\"14.00\"> ≤ 76.555</text>\n<text text-anchor=\"start\" x=\"467.5\" y=\"-124.8\" font-family=\"Helvetica,sans-Serif\" font-size=\"14.00\">gini = 0.033</text>\n<text text-anchor=\"start\" x=\"462\" y=\"-110.8\" font-family=\"Helvetica,sans-Serif\" font-size=\"14.00\">samples = 59</text>\n<text text-anchor=\"start\" x=\"445\" y=\"-96.8\" font-family=\"Helvetica,sans-Serif\" font-size=\"14.00\">value = [1, 0, 0, 58]</text>\n</g>\n<!-- 5&#45;&gt;7 -->\n<g id=\"edge7\" class=\"edge\">\n<title>5&#45;&gt;7</title>\n<path fill=\"none\" stroke=\"black\" d=\"M452.41,-188.99C459.03,-180.23 466.31,-170.58 473.25,-161.4\"/>\n<polygon fill=\"black\" stroke=\"black\" points=\"476.25,-163.23 479.48,-153.14 470.67,-159.01 476.25,-163.23\"/>\n</g>\n<!-- 8 -->\n<g id=\"node9\" class=\"node\">\n<title>8</title>\n<path fill=\"#d739e5\" stroke=\"black\" d=\"M483,-53C483,-53 375,-53 375,-53 369,-53 363,-47 363,-41 363,-41 363,-12 363,-12 363,-6 369,0 375,0 375,0 483,0 483,0 489,0 495,-6 495,-12 495,-12 495,-41 495,-41 495,-47 489,-53 483,-53\"/>\n<text text-anchor=\"start\" x=\"401\" y=\"-37.8\" font-family=\"Helvetica,sans-Serif\" font-size=\"14.00\">gini = 0.0</text>\n<text text-anchor=\"start\" x=\"388\" y=\"-22.8\" font-family=\"Helvetica,sans-Serif\" font-size=\"14.00\">samples = 58</text>\n<text text-anchor=\"start\" x=\"371\" y=\"-7.8\" font-family=\"Helvetica,sans-Serif\" font-size=\"14.00\">value = [0, 0, 0, 58]</text>\n</g>\n<!-- 7&#45;&gt;8 -->\n<g id=\"edge8\" class=\"edge\">\n<title>7&#45;&gt;8</title>\n<path fill=\"none\" stroke=\"black\" d=\"M478.15,-88.94C470.94,-79.93 463.04,-70.05 455.72,-60.9\"/>\n<polygon fill=\"black\" stroke=\"black\" points=\"458.45,-58.71 449.47,-53.09 452.99,-63.09 458.45,-58.71\"/>\n</g>\n<!-- 9 -->\n<g id=\"node10\" class=\"node\">\n<title>9</title>\n<path fill=\"#e58139\" stroke=\"black\" d=\"M626.5,-53C626.5,-53 525.5,-53 525.5,-53 519.5,-53 513.5,-47 513.5,-41 513.5,-41 513.5,-12 513.5,-12 513.5,-6 519.5,0 525.5,0 525.5,0 626.5,0 626.5,0 632.5,0 638.5,-6 638.5,-12 638.5,-12 638.5,-41 638.5,-41 638.5,-47 632.5,-53 626.5,-53\"/>\n<text text-anchor=\"start\" x=\"548\" y=\"-37.8\" font-family=\"Helvetica,sans-Serif\" font-size=\"14.00\">gini = 0.0</text>\n<text text-anchor=\"start\" x=\"538.5\" y=\"-22.8\" font-family=\"Helvetica,sans-Serif\" font-size=\"14.00\">samples = 1</text>\n<text text-anchor=\"start\" x=\"521.5\" y=\"-7.8\" font-family=\"Helvetica,sans-Serif\" font-size=\"14.00\">value = [1, 0, 0, 0]</text>\n</g>\n<!-- 7&#45;&gt;9 -->\n<g id=\"edge9\" class=\"edge\">\n<title>7&#45;&gt;9</title>\n<path fill=\"none\" stroke=\"black\" d=\"M527.51,-88.94C534.55,-80.02 542.26,-70.25 549.42,-61.18\"/>\n<polygon fill=\"black\" stroke=\"black\" points=\"552.36,-63.11 555.8,-53.09 546.86,-58.77 552.36,-63.11\"/>\n</g>\n<!-- 11 -->\n<g id=\"node12\" class=\"node\">\n<title>11</title>\n<path fill=\"#3ea0e6\" stroke=\"black\" d=\"M707,-253C707,-253 599,-253 599,-253 593,-253 587,-247 587,-241 587,-241 587,-201 587,-201 587,-195 593,-189 599,-189 599,-189 707,-189 707,-189 713,-189 719,-195 719,-201 719,-201 719,-241 719,-241 719,-247 713,-253 707,-253\"/>\n<text text-anchor=\"start\" x=\"619.5\" y=\"-238.8\" font-family=\"Helvetica,sans-Serif\" font-size=\"14.00\">x</text>\n<text text-anchor=\"start\" x=\"626.5\" y=\"-238.8\" font-family=\"Helvetica,sans-Serif\" baseline-shift=\"sub\" font-size=\"14.00\">20</text>\n<text text-anchor=\"start\" x=\"640.5\" y=\"-238.8\" font-family=\"Helvetica,sans-Serif\" font-size=\"14.00\"> ≤ &#45;1.83</text>\n<text text-anchor=\"start\" x=\"617.5\" y=\"-224.8\" font-family=\"Helvetica,sans-Serif\" font-size=\"14.00\">gini = 0.051</text>\n<text text-anchor=\"start\" x=\"612\" y=\"-210.8\" font-family=\"Helvetica,sans-Serif\" font-size=\"14.00\">samples = 38</text>\n<text text-anchor=\"start\" x=\"595\" y=\"-196.8\" font-family=\"Helvetica,sans-Serif\" font-size=\"14.00\">value = [1, 0, 37, 0]</text>\n</g>\n<!-- 10&#45;&gt;11 -->\n<g id=\"edge11\" class=\"edge\">\n<title>10&#45;&gt;11</title>\n<path fill=\"none\" stroke=\"black\" d=\"M653,-288.99C653,-280.86 653,-271.96 653,-263.38\"/>\n<polygon fill=\"black\" stroke=\"black\" points=\"656.5,-263.14 653,-253.14 649.5,-263.14 656.5,-263.14\"/>\n</g>\n<!-- 14 -->\n<g id=\"node15\" class=\"node\">\n<title>14</title>\n<path fill=\"#e58139\" stroke=\"black\" d=\"M857,-247.5C857,-247.5 749,-247.5 749,-247.5 743,-247.5 737,-241.5 737,-235.5 737,-235.5 737,-206.5 737,-206.5 737,-200.5 743,-194.5 749,-194.5 749,-194.5 857,-194.5 857,-194.5 863,-194.5 869,-200.5 869,-206.5 869,-206.5 869,-235.5 869,-235.5 869,-241.5 863,-247.5 857,-247.5\"/>\n<text text-anchor=\"start\" x=\"775\" y=\"-232.3\" font-family=\"Helvetica,sans-Serif\" font-size=\"14.00\">gini = 0.0</text>\n<text text-anchor=\"start\" x=\"762\" y=\"-217.3\" font-family=\"Helvetica,sans-Serif\" font-size=\"14.00\">samples = 52</text>\n<text text-anchor=\"start\" x=\"745\" y=\"-202.3\" font-family=\"Helvetica,sans-Serif\" font-size=\"14.00\">value = [52, 0, 0, 0]</text>\n</g>\n<!-- 10&#45;&gt;14 -->\n<g id=\"edge14\" class=\"edge\">\n<title>10&#45;&gt;14</title>\n<path fill=\"none\" stroke=\"black\" d=\"M700.46,-288.99C718.02,-277.52 737.91,-264.53 755.47,-253.05\"/>\n<polygon fill=\"black\" stroke=\"black\" points=\"757.43,-255.96 763.88,-247.56 753.6,-250.1 757.43,-255.96\"/>\n</g>\n<!-- 12 -->\n<g id=\"node13\" class=\"node\">\n<title>12</title>\n<path fill=\"#399de5\" stroke=\"black\" d=\"M707,-147.5C707,-147.5 599,-147.5 599,-147.5 593,-147.5 587,-141.5 587,-135.5 587,-135.5 587,-106.5 587,-106.5 587,-100.5 593,-94.5 599,-94.5 599,-94.5 707,-94.5 707,-94.5 713,-94.5 719,-100.5 719,-106.5 719,-106.5 719,-135.5 719,-135.5 719,-141.5 713,-147.5 707,-147.5\"/>\n<text text-anchor=\"start\" x=\"625\" y=\"-132.3\" font-family=\"Helvetica,sans-Serif\" font-size=\"14.00\">gini = 0.0</text>\n<text text-anchor=\"start\" x=\"612\" y=\"-117.3\" font-family=\"Helvetica,sans-Serif\" font-size=\"14.00\">samples = 37</text>\n<text text-anchor=\"start\" x=\"595\" y=\"-102.3\" font-family=\"Helvetica,sans-Serif\" font-size=\"14.00\">value = [0, 0, 37, 0]</text>\n</g>\n<!-- 11&#45;&gt;12 -->\n<g id=\"edge12\" class=\"edge\">\n<title>11&#45;&gt;12</title>\n<path fill=\"none\" stroke=\"black\" d=\"M653,-188.99C653,-179.09 653,-168.04 653,-157.82\"/>\n<polygon fill=\"black\" stroke=\"black\" points=\"656.5,-157.56 653,-147.56 649.5,-157.56 656.5,-157.56\"/>\n</g>\n<!-- 13 -->\n<g id=\"node14\" class=\"node\">\n<title>13</title>\n<path fill=\"#e58139\" stroke=\"black\" d=\"M850.5,-147.5C850.5,-147.5 749.5,-147.5 749.5,-147.5 743.5,-147.5 737.5,-141.5 737.5,-135.5 737.5,-135.5 737.5,-106.5 737.5,-106.5 737.5,-100.5 743.5,-94.5 749.5,-94.5 749.5,-94.5 850.5,-94.5 850.5,-94.5 856.5,-94.5 862.5,-100.5 862.5,-106.5 862.5,-106.5 862.5,-135.5 862.5,-135.5 862.5,-141.5 856.5,-147.5 850.5,-147.5\"/>\n<text text-anchor=\"start\" x=\"772\" y=\"-132.3\" font-family=\"Helvetica,sans-Serif\" font-size=\"14.00\">gini = 0.0</text>\n<text text-anchor=\"start\" x=\"762.5\" y=\"-117.3\" font-family=\"Helvetica,sans-Serif\" font-size=\"14.00\">samples = 1</text>\n<text text-anchor=\"start\" x=\"745.5\" y=\"-102.3\" font-family=\"Helvetica,sans-Serif\" font-size=\"14.00\">value = [1, 0, 0, 0]</text>\n</g>\n<!-- 11&#45;&gt;13 -->\n<g id=\"edge13\" class=\"edge\">\n<title>11&#45;&gt;13</title>\n<path fill=\"none\" stroke=\"black\" d=\"M699.51,-188.99C716.56,-177.63 735.86,-164.76 752.95,-153.37\"/>\n<polygon fill=\"black\" stroke=\"black\" points=\"755.29,-156.02 761.67,-147.56 751.4,-150.19 755.29,-156.02\"/>\n</g>\n</g>\n</svg>\n",
            "text/plain": [
              "<graphviz.sources.Source at 0x7d4090c773d0>"
            ]
          },
          "metadata": {},
          "execution_count": 48
        }
      ]
    },
    {
      "cell_type": "code",
      "source": [],
      "metadata": {
        "id": "48X2IVoce2lz"
      },
      "execution_count": null,
      "outputs": []
    },
    {
      "cell_type": "code",
      "execution_count": 21,
      "metadata": {
        "id": "x3uusiHuTEnq",
        "outputId": "450016c5-716a-49f5-dc6b-5a3c4aca4faf",
        "colab": {
          "base_uri": "https://localhost:8080/"
        }
      },
      "outputs": [
        {
          "output_type": "execute_result",
          "data": {
            "text/plain": [
              "{'ccp_alpha': 0.0,\n",
              " 'class_weight': None,\n",
              " 'criterion': 'gini',\n",
              " 'max_depth': 3,\n",
              " 'max_features': None,\n",
              " 'max_leaf_nodes': None,\n",
              " 'min_impurity_decrease': 0.0,\n",
              " 'min_samples_leaf': 1,\n",
              " 'min_samples_split': 2,\n",
              " 'min_weight_fraction_leaf': 0.0,\n",
              " 'random_state': None,\n",
              " 'splitter': 'best'}"
            ]
          },
          "metadata": {},
          "execution_count": 21
        }
      ],
      "source": [
        "clf.get_params()"
      ]
    },
    {
      "cell_type": "code",
      "execution_count": 23,
      "metadata": {
        "id": "tsYoFGOOTEnr",
        "outputId": "bc799ab8-c730-4cb8-92fd-31c22e088034",
        "colab": {
          "base_uri": "https://localhost:8080/"
        }
      },
      "outputs": [
        {
          "output_type": "execute_result",
          "data": {
            "text/plain": [
              "array(['d ', 'h ', 's ', 's ', 'd ', 'h ', 's ', 'd ', 's ', 'o ', 's ',\n",
              "       'o ', 'o ', 'd ', 's ', 'o ', 'o ', 'd ', 's ', 'h ', 'o ', 'd ',\n",
              "       's ', 'h ', 'd ', 'h ', 'o ', 'd ', 'd ', 'd ', 'd ', 's ', 'o ',\n",
              "       's ', 'd ', 'd ', 'd ', 'h ', 'o ', 'd ', 'd ', 'd ', 's ', 's ',\n",
              "       'h ', 'd ', 'd ', 'o ', 'd ', 's ', 'd ', 's ', 's ', 'h ', 'h ',\n",
              "       's ', 'o ', 'd ', 'h ', 'h ', 'd ', 'o ', 'o ', 'o ', 'h ', 's ',\n",
              "       'h ', 'd ', 'd ', 'h ', 'o ', 'o ', 'o ', 's ', 'h ', 's ', 'd ',\n",
              "       'o ', 's ', 's ', 'd ', 'd ', 'o ', 'h ', 'o ', 'h ', 'd ', 'd ',\n",
              "       's ', 'o ', 'o ', 'h ', 'o ', 'o ', 'd ', 's ', 'o ', 'h ', 'o ',\n",
              "       's ', 'd ', 'o ', 'h ', 'h ', 'h ', 'h ', 'h ', 'd ', 's ', 'h ',\n",
              "       'd ', 'd ', 'd ', 'd ', 'h ', 'o ', 's ', 'h ', 's ', 's ', 's ',\n",
              "       's ', 'o ', 's ', 'h ', 's ', 'h ', 's ', 'h ', 'd ', 's ', 's ',\n",
              "       'o ', 's ', 'h ', 's ', 'o ', 's ', 'd ', 's ', 's ', 'h ', 's ',\n",
              "       'h ', 's ', 'd ', 'd ', 's ', 'h ', 'd ', 's ', 'h ', 's ', 'd ',\n",
              "       'o ', 'd ', 's ', 'o ', 'd ', 's ', 'o ', 'd ', 'o ', 's ', 'd ',\n",
              "       'h ', 's ', 's ', 'o ', 'd ', 's ', 'h ', 'h ', 'h ', 's ', 's ',\n",
              "       'h ', 'd ', 'h ', 'd ', 's ', 's ', 'h ', 's ', 'h ', 's ', 'd ',\n",
              "       'o ', 'h ', 's ', 's ', 's ', 'h ', 'd ', 'd ', 'h ', 'h ', 'h '],\n",
              "      dtype=object)"
            ]
          },
          "metadata": {},
          "execution_count": 23
        }
      ],
      "source": [
        "predictions = clf.predict(Xt)\n",
        "predictions"
      ]
    },
    {
      "cell_type": "code",
      "execution_count": 24,
      "metadata": {
        "id": "L70LGRwNTEns",
        "outputId": "726bf170-50e7-4d9d-fc17-befb74d78bb7",
        "colab": {
          "base_uri": "https://localhost:8080/"
        }
      },
      "outputs": [
        {
          "output_type": "execute_result",
          "data": {
            "text/plain": [
              "array([[1.        , 0.        , 0.        , 0.        ],\n",
              "       [0.        , 1.        , 0.        , 0.        ],\n",
              "       [0.01694915, 0.        , 0.        , 0.98305085],\n",
              "       [0.01694915, 0.        , 0.        , 0.98305085],\n",
              "       [1.        , 0.        , 0.        , 0.        ],\n",
              "       [0.        , 1.        , 0.        , 0.        ],\n",
              "       [0.01694915, 0.        , 0.        , 0.98305085],\n",
              "       [1.        , 0.        , 0.        , 0.        ],\n",
              "       [0.01694915, 0.        , 0.        , 0.98305085],\n",
              "       [0.        , 0.        , 1.        , 0.        ],\n",
              "       [0.01694915, 0.        , 0.        , 0.98305085],\n",
              "       [0.        , 0.        , 1.        , 0.        ],\n",
              "       [0.        , 0.        , 1.        , 0.        ],\n",
              "       [1.        , 0.        , 0.        , 0.        ],\n",
              "       [0.01694915, 0.        , 0.        , 0.98305085],\n",
              "       [0.        , 0.        , 1.        , 0.        ],\n",
              "       [0.        , 0.        , 1.        , 0.        ],\n",
              "       [1.        , 0.        , 0.        , 0.        ],\n",
              "       [0.01694915, 0.        , 0.        , 0.98305085],\n",
              "       [0.        , 1.        , 0.        , 0.        ],\n",
              "       [0.        , 0.        , 1.        , 0.        ],\n",
              "       [1.        , 0.        , 0.        , 0.        ],\n",
              "       [0.01694915, 0.        , 0.        , 0.98305085],\n",
              "       [0.        , 1.        , 0.        , 0.        ],\n",
              "       [1.        , 0.        , 0.        , 0.        ],\n",
              "       [0.        , 1.        , 0.        , 0.        ],\n",
              "       [0.        , 0.        , 1.        , 0.        ],\n",
              "       [1.        , 0.        , 0.        , 0.        ],\n",
              "       [1.        , 0.        , 0.        , 0.        ],\n",
              "       [1.        , 0.        , 0.        , 0.        ],\n",
              "       [1.        , 0.        , 0.        , 0.        ],\n",
              "       [0.01694915, 0.        , 0.        , 0.98305085],\n",
              "       [0.        , 0.        , 1.        , 0.        ],\n",
              "       [0.01694915, 0.        , 0.        , 0.98305085],\n",
              "       [1.        , 0.        , 0.        , 0.        ],\n",
              "       [1.        , 0.        , 0.        , 0.        ],\n",
              "       [1.        , 0.        , 0.        , 0.        ],\n",
              "       [0.        , 1.        , 0.        , 0.        ],\n",
              "       [0.        , 0.        , 1.        , 0.        ],\n",
              "       [1.        , 0.        , 0.        , 0.        ],\n",
              "       [1.        , 0.        , 0.        , 0.        ],\n",
              "       [1.        , 0.        , 0.        , 0.        ],\n",
              "       [0.01694915, 0.        , 0.        , 0.98305085],\n",
              "       [0.01694915, 0.        , 0.        , 0.98305085],\n",
              "       [0.        , 1.        , 0.        , 0.        ],\n",
              "       [1.        , 0.        , 0.        , 0.        ],\n",
              "       [1.        , 0.        , 0.        , 0.        ],\n",
              "       [0.        , 0.        , 1.        , 0.        ],\n",
              "       [1.        , 0.        , 0.        , 0.        ],\n",
              "       [0.01694915, 0.        , 0.        , 0.98305085],\n",
              "       [1.        , 0.        , 0.        , 0.        ],\n",
              "       [0.01694915, 0.        , 0.        , 0.98305085],\n",
              "       [0.01694915, 0.        , 0.        , 0.98305085],\n",
              "       [0.        , 1.        , 0.        , 0.        ],\n",
              "       [0.        , 1.        , 0.        , 0.        ],\n",
              "       [0.01694915, 0.        , 0.        , 0.98305085],\n",
              "       [0.        , 0.        , 1.        , 0.        ],\n",
              "       [1.        , 0.        , 0.        , 0.        ],\n",
              "       [0.        , 1.        , 0.        , 0.        ],\n",
              "       [0.        , 1.        , 0.        , 0.        ],\n",
              "       [1.        , 0.        , 0.        , 0.        ],\n",
              "       [0.        , 0.        , 1.        , 0.        ],\n",
              "       [0.        , 0.        , 1.        , 0.        ],\n",
              "       [0.        , 0.        , 1.        , 0.        ],\n",
              "       [0.        , 1.        , 0.        , 0.        ],\n",
              "       [0.01694915, 0.        , 0.        , 0.98305085],\n",
              "       [0.        , 1.        , 0.        , 0.        ],\n",
              "       [1.        , 0.        , 0.        , 0.        ],\n",
              "       [1.        , 0.        , 0.        , 0.        ],\n",
              "       [0.        , 1.        , 0.        , 0.        ],\n",
              "       [0.        , 0.        , 1.        , 0.        ],\n",
              "       [0.        , 0.        , 1.        , 0.        ],\n",
              "       [0.        , 0.        , 1.        , 0.        ],\n",
              "       [0.01694915, 0.        , 0.        , 0.98305085],\n",
              "       [0.        , 1.        , 0.        , 0.        ],\n",
              "       [0.01694915, 0.        , 0.        , 0.98305085],\n",
              "       [1.        , 0.        , 0.        , 0.        ],\n",
              "       [0.        , 0.        , 1.        , 0.        ],\n",
              "       [0.        , 0.        , 0.        , 1.        ],\n",
              "       [0.01694915, 0.        , 0.        , 0.98305085],\n",
              "       [1.        , 0.        , 0.        , 0.        ],\n",
              "       [1.        , 0.        , 0.        , 0.        ],\n",
              "       [0.        , 0.        , 1.        , 0.        ],\n",
              "       [0.        , 1.        , 0.        , 0.        ],\n",
              "       [0.        , 0.        , 1.        , 0.        ],\n",
              "       [0.        , 1.        , 0.        , 0.        ],\n",
              "       [1.        , 0.        , 0.        , 0.        ],\n",
              "       [1.        , 0.        , 0.        , 0.        ],\n",
              "       [0.01694915, 0.        , 0.        , 0.98305085],\n",
              "       [0.        , 0.        , 1.        , 0.        ],\n",
              "       [0.        , 0.        , 1.        , 0.        ],\n",
              "       [0.        , 1.        , 0.        , 0.        ],\n",
              "       [0.        , 0.        , 1.        , 0.        ],\n",
              "       [0.        , 0.        , 1.        , 0.        ],\n",
              "       [1.        , 0.        , 0.        , 0.        ],\n",
              "       [0.01694915, 0.        , 0.        , 0.98305085],\n",
              "       [0.        , 0.        , 1.        , 0.        ],\n",
              "       [0.        , 1.        , 0.        , 0.        ],\n",
              "       [0.        , 0.        , 1.        , 0.        ],\n",
              "       [0.01694915, 0.        , 0.        , 0.98305085],\n",
              "       [1.        , 0.        , 0.        , 0.        ],\n",
              "       [0.        , 0.        , 1.        , 0.        ],\n",
              "       [0.        , 1.        , 0.        , 0.        ],\n",
              "       [0.        , 1.        , 0.        , 0.        ],\n",
              "       [0.        , 1.        , 0.        , 0.        ],\n",
              "       [0.        , 1.        , 0.        , 0.        ],\n",
              "       [0.        , 1.        , 0.        , 0.        ],\n",
              "       [1.        , 0.        , 0.        , 0.        ],\n",
              "       [0.01694915, 0.        , 0.        , 0.98305085],\n",
              "       [0.        , 1.        , 0.        , 0.        ],\n",
              "       [1.        , 0.        , 0.        , 0.        ],\n",
              "       [1.        , 0.        , 0.        , 0.        ],\n",
              "       [1.        , 0.        , 0.        , 0.        ],\n",
              "       [1.        , 0.        , 0.        , 0.        ],\n",
              "       [0.        , 1.        , 0.        , 0.        ],\n",
              "       [0.        , 0.        , 1.        , 0.        ],\n",
              "       [0.01694915, 0.        , 0.        , 0.98305085],\n",
              "       [0.        , 1.        , 0.        , 0.        ],\n",
              "       [0.01694915, 0.        , 0.        , 0.98305085],\n",
              "       [0.01694915, 0.        , 0.        , 0.98305085],\n",
              "       [0.01694915, 0.        , 0.        , 0.98305085],\n",
              "       [0.01694915, 0.        , 0.        , 0.98305085],\n",
              "       [0.        , 0.        , 1.        , 0.        ],\n",
              "       [0.01694915, 0.        , 0.        , 0.98305085],\n",
              "       [0.        , 1.        , 0.        , 0.        ],\n",
              "       [0.01694915, 0.        , 0.        , 0.98305085],\n",
              "       [0.        , 1.        , 0.        , 0.        ],\n",
              "       [0.01694915, 0.        , 0.        , 0.98305085],\n",
              "       [0.        , 1.        , 0.        , 0.        ],\n",
              "       [1.        , 0.        , 0.        , 0.        ],\n",
              "       [0.01694915, 0.        , 0.        , 0.98305085],\n",
              "       [0.01694915, 0.        , 0.        , 0.98305085],\n",
              "       [0.        , 0.        , 1.        , 0.        ],\n",
              "       [0.01694915, 0.        , 0.        , 0.98305085],\n",
              "       [0.        , 1.        , 0.        , 0.        ],\n",
              "       [0.01694915, 0.        , 0.        , 0.98305085],\n",
              "       [0.        , 0.        , 1.        , 0.        ],\n",
              "       [0.01694915, 0.        , 0.        , 0.98305085],\n",
              "       [1.        , 0.        , 0.        , 0.        ],\n",
              "       [0.01694915, 0.        , 0.        , 0.98305085],\n",
              "       [0.01694915, 0.        , 0.        , 0.98305085],\n",
              "       [0.        , 1.        , 0.        , 0.        ],\n",
              "       [0.01694915, 0.        , 0.        , 0.98305085],\n",
              "       [0.        , 1.        , 0.        , 0.        ],\n",
              "       [0.01694915, 0.        , 0.        , 0.98305085],\n",
              "       [1.        , 0.        , 0.        , 0.        ],\n",
              "       [1.        , 0.        , 0.        , 0.        ],\n",
              "       [0.01694915, 0.        , 0.        , 0.98305085],\n",
              "       [0.        , 1.        , 0.        , 0.        ],\n",
              "       [1.        , 0.        , 0.        , 0.        ],\n",
              "       [0.01694915, 0.        , 0.        , 0.98305085],\n",
              "       [0.        , 1.        , 0.        , 0.        ],\n",
              "       [0.01694915, 0.        , 0.        , 0.98305085],\n",
              "       [1.        , 0.        , 0.        , 0.        ],\n",
              "       [0.        , 0.        , 1.        , 0.        ],\n",
              "       [1.        , 0.        , 0.        , 0.        ],\n",
              "       [0.01694915, 0.        , 0.        , 0.98305085],\n",
              "       [0.        , 0.        , 1.        , 0.        ],\n",
              "       [1.        , 0.        , 0.        , 0.        ],\n",
              "       [0.01694915, 0.        , 0.        , 0.98305085],\n",
              "       [0.        , 0.        , 1.        , 0.        ],\n",
              "       [1.        , 0.        , 0.        , 0.        ],\n",
              "       [0.        , 0.        , 1.        , 0.        ],\n",
              "       [0.01694915, 0.        , 0.        , 0.98305085],\n",
              "       [1.        , 0.        , 0.        , 0.        ],\n",
              "       [0.        , 1.        , 0.        , 0.        ],\n",
              "       [0.01694915, 0.        , 0.        , 0.98305085],\n",
              "       [0.01694915, 0.        , 0.        , 0.98305085],\n",
              "       [0.        , 0.        , 1.        , 0.        ],\n",
              "       [1.        , 0.        , 0.        , 0.        ],\n",
              "       [0.01694915, 0.        , 0.        , 0.98305085],\n",
              "       [0.        , 1.        , 0.        , 0.        ],\n",
              "       [0.        , 1.        , 0.        , 0.        ],\n",
              "       [0.        , 1.        , 0.        , 0.        ],\n",
              "       [0.01694915, 0.        , 0.        , 0.98305085],\n",
              "       [0.01694915, 0.        , 0.        , 0.98305085],\n",
              "       [0.        , 1.        , 0.        , 0.        ],\n",
              "       [1.        , 0.        , 0.        , 0.        ],\n",
              "       [0.        , 1.        , 0.        , 0.        ],\n",
              "       [1.        , 0.        , 0.        , 0.        ],\n",
              "       [0.01694915, 0.        , 0.        , 0.98305085],\n",
              "       [0.01694915, 0.        , 0.        , 0.98305085],\n",
              "       [0.        , 1.        , 0.        , 0.        ],\n",
              "       [0.01694915, 0.        , 0.        , 0.98305085],\n",
              "       [0.        , 1.        , 0.        , 0.        ],\n",
              "       [0.01694915, 0.        , 0.        , 0.98305085],\n",
              "       [1.        , 0.        , 0.        , 0.        ],\n",
              "       [0.        , 0.        , 1.        , 0.        ],\n",
              "       [0.        , 1.        , 0.        , 0.        ],\n",
              "       [0.01694915, 0.        , 0.        , 0.98305085],\n",
              "       [0.01694915, 0.        , 0.        , 0.98305085],\n",
              "       [0.01694915, 0.        , 0.        , 0.98305085],\n",
              "       [0.        , 1.        , 0.        , 0.        ],\n",
              "       [1.        , 0.        , 0.        , 0.        ],\n",
              "       [1.        , 0.        , 0.        , 0.        ],\n",
              "       [0.        , 1.        , 0.        , 0.        ],\n",
              "       [0.        , 1.        , 0.        , 0.        ],\n",
              "       [0.        , 1.        , 0.        , 0.        ]])"
            ]
          },
          "metadata": {},
          "execution_count": 24
        }
      ],
      "source": [
        "# show difference between tree that doesn't have stopping criteria and the one that does\n",
        "clf.predict_proba(Xt)"
      ]
    },
    {
      "cell_type": "code",
      "execution_count": 25,
      "metadata": {
        "id": "3Tr4SHTPTEns",
        "outputId": "cba3f48c-8a62-4d71-884e-6f9ae4f8fa0c",
        "colab": {
          "base_uri": "https://localhost:8080/"
        }
      },
      "outputs": [
        {
          "output_type": "execute_result",
          "data": {
            "text/plain": [
              "0.9949494949494949"
            ]
          },
          "metadata": {},
          "execution_count": 25
        }
      ],
      "source": [
        "from sklearn.metrics import accuracy_score\n",
        "accuracy_score(yt, predictions)"
      ]
    },
    {
      "cell_type": "code",
      "execution_count": 26,
      "metadata": {
        "id": "1H9Www6lTEnt",
        "outputId": "b5ab187b-9c70-412f-ca90-d62603eb521f",
        "colab": {
          "base_uri": "https://localhost:8080/",
          "height": 304
        }
      },
      "outputs": [
        {
          "output_type": "error",
          "ename": "TypeError",
          "evalue": "'<' not supported between instances of 'int' and 'str'",
          "traceback": [
            "\u001b[0;31m---------------------------------------------------------------------------\u001b[0m",
            "\u001b[0;31mTypeError\u001b[0m                                 Traceback (most recent call last)",
            "\u001b[0;32m<ipython-input-26-2daf3b07d669>\u001b[0m in \u001b[0;36m<cell line: 2>\u001b[0;34m()\u001b[0m\n\u001b[1;32m      1\u001b[0m \u001b[0;32mfrom\u001b[0m \u001b[0msklearn\u001b[0m\u001b[0;34m.\u001b[0m\u001b[0mmetrics\u001b[0m \u001b[0;32mimport\u001b[0m \u001b[0mconfusion_matrix\u001b[0m\u001b[0;34m\u001b[0m\u001b[0;34m\u001b[0m\u001b[0m\n\u001b[0;32m----> 2\u001b[0;31m \u001b[0mconfusion_matrix\u001b[0m\u001b[0;34m(\u001b[0m\u001b[0myt\u001b[0m\u001b[0;34m,\u001b[0m \u001b[0mpredictions\u001b[0m\u001b[0;34m,\u001b[0m \u001b[0mlabels\u001b[0m\u001b[0;34m=\u001b[0m\u001b[0;34m[\u001b[0m\u001b[0;36m0\u001b[0m\u001b[0;34m,\u001b[0m\u001b[0;36m1\u001b[0m\u001b[0;34m]\u001b[0m\u001b[0;34m)\u001b[0m\u001b[0;34m\u001b[0m\u001b[0;34m\u001b[0m\u001b[0m\n\u001b[0m",
            "\u001b[0;32m/usr/local/lib/python3.10/dist-packages/sklearn/metrics/_classification.py\u001b[0m in \u001b[0;36mconfusion_matrix\u001b[0;34m(y_true, y_pred, labels, sample_weight, normalize)\u001b[0m\n\u001b[1;32m    328\u001b[0m         \u001b[0;32melif\u001b[0m \u001b[0my_true\u001b[0m\u001b[0;34m.\u001b[0m\u001b[0msize\u001b[0m \u001b[0;34m==\u001b[0m \u001b[0;36m0\u001b[0m\u001b[0;34m:\u001b[0m\u001b[0;34m\u001b[0m\u001b[0;34m\u001b[0m\u001b[0m\n\u001b[1;32m    329\u001b[0m             \u001b[0;32mreturn\u001b[0m \u001b[0mnp\u001b[0m\u001b[0;34m.\u001b[0m\u001b[0mzeros\u001b[0m\u001b[0;34m(\u001b[0m\u001b[0;34m(\u001b[0m\u001b[0mn_labels\u001b[0m\u001b[0;34m,\u001b[0m \u001b[0mn_labels\u001b[0m\u001b[0;34m)\u001b[0m\u001b[0;34m,\u001b[0m \u001b[0mdtype\u001b[0m\u001b[0;34m=\u001b[0m\u001b[0mint\u001b[0m\u001b[0;34m)\u001b[0m\u001b[0;34m\u001b[0m\u001b[0;34m\u001b[0m\u001b[0m\n\u001b[0;32m--> 330\u001b[0;31m         \u001b[0;32melif\u001b[0m \u001b[0mlen\u001b[0m\u001b[0;34m(\u001b[0m\u001b[0mnp\u001b[0m\u001b[0;34m.\u001b[0m\u001b[0mintersect1d\u001b[0m\u001b[0;34m(\u001b[0m\u001b[0my_true\u001b[0m\u001b[0;34m,\u001b[0m \u001b[0mlabels\u001b[0m\u001b[0;34m)\u001b[0m\u001b[0;34m)\u001b[0m \u001b[0;34m==\u001b[0m \u001b[0;36m0\u001b[0m\u001b[0;34m:\u001b[0m\u001b[0;34m\u001b[0m\u001b[0;34m\u001b[0m\u001b[0m\n\u001b[0m\u001b[1;32m    331\u001b[0m             \u001b[0;32mraise\u001b[0m \u001b[0mValueError\u001b[0m\u001b[0;34m(\u001b[0m\u001b[0;34m\"At least one label specified must be in y_true\"\u001b[0m\u001b[0;34m)\u001b[0m\u001b[0;34m\u001b[0m\u001b[0;34m\u001b[0m\u001b[0m\n\u001b[1;32m    332\u001b[0m \u001b[0;34m\u001b[0m\u001b[0m\n",
            "\u001b[0;32m/usr/local/lib/python3.10/dist-packages/numpy/lib/arraysetops.py\u001b[0m in \u001b[0;36mintersect1d\u001b[0;34m(ar1, ar2, assume_unique, return_indices)\u001b[0m\n\u001b[1;32m    453\u001b[0m         \u001b[0maux\u001b[0m \u001b[0;34m=\u001b[0m \u001b[0maux\u001b[0m\u001b[0;34m[\u001b[0m\u001b[0maux_sort_indices\u001b[0m\u001b[0;34m]\u001b[0m\u001b[0;34m\u001b[0m\u001b[0;34m\u001b[0m\u001b[0m\n\u001b[1;32m    454\u001b[0m     \u001b[0;32melse\u001b[0m\u001b[0;34m:\u001b[0m\u001b[0;34m\u001b[0m\u001b[0;34m\u001b[0m\u001b[0m\n\u001b[0;32m--> 455\u001b[0;31m         \u001b[0maux\u001b[0m\u001b[0;34m.\u001b[0m\u001b[0msort\u001b[0m\u001b[0;34m(\u001b[0m\u001b[0;34m)\u001b[0m\u001b[0;34m\u001b[0m\u001b[0;34m\u001b[0m\u001b[0m\n\u001b[0m\u001b[1;32m    456\u001b[0m \u001b[0;34m\u001b[0m\u001b[0m\n\u001b[1;32m    457\u001b[0m     \u001b[0mmask\u001b[0m \u001b[0;34m=\u001b[0m \u001b[0maux\u001b[0m\u001b[0;34m[\u001b[0m\u001b[0;36m1\u001b[0m\u001b[0;34m:\u001b[0m\u001b[0;34m]\u001b[0m \u001b[0;34m==\u001b[0m \u001b[0maux\u001b[0m\u001b[0;34m[\u001b[0m\u001b[0;34m:\u001b[0m\u001b[0;34m-\u001b[0m\u001b[0;36m1\u001b[0m\u001b[0;34m]\u001b[0m\u001b[0;34m\u001b[0m\u001b[0;34m\u001b[0m\u001b[0m\n",
            "\u001b[0;31mTypeError\u001b[0m: '<' not supported between instances of 'int' and 'str'"
          ]
        }
      ],
      "source": [
        "from sklearn.metrics import confusion_matrix\n",
        "confusion_matrix(yt, predictions, labels=[0,1])"
      ]
    },
    {
      "cell_type": "code",
      "execution_count": 27,
      "metadata": {
        "id": "vKCtkO9qTEnt",
        "outputId": "e92fb568-380b-4a81-cefb-7f4087fa8b55",
        "colab": {
          "base_uri": "https://localhost:8080/",
          "height": 304
        }
      },
      "outputs": [
        {
          "output_type": "error",
          "ename": "ValueError",
          "evalue": "Target is multiclass but average='binary'. Please choose another average setting, one of [None, 'micro', 'macro', 'weighted'].",
          "traceback": [
            "\u001b[0;31m---------------------------------------------------------------------------\u001b[0m",
            "\u001b[0;31mValueError\u001b[0m                                Traceback (most recent call last)",
            "\u001b[0;32m<ipython-input-27-dd7e113e978f>\u001b[0m in \u001b[0;36m<cell line: 2>\u001b[0;34m()\u001b[0m\n\u001b[1;32m      1\u001b[0m \u001b[0;32mfrom\u001b[0m \u001b[0msklearn\u001b[0m\u001b[0;34m.\u001b[0m\u001b[0mmetrics\u001b[0m \u001b[0;32mimport\u001b[0m \u001b[0mprecision_score\u001b[0m\u001b[0;34m\u001b[0m\u001b[0;34m\u001b[0m\u001b[0m\n\u001b[0;32m----> 2\u001b[0;31m \u001b[0mprecision_score\u001b[0m\u001b[0;34m(\u001b[0m\u001b[0myt\u001b[0m\u001b[0;34m,\u001b[0m \u001b[0mpredictions\u001b[0m\u001b[0;34m)\u001b[0m\u001b[0;34m\u001b[0m\u001b[0;34m\u001b[0m\u001b[0m\n\u001b[0m",
            "\u001b[0;32m/usr/local/lib/python3.10/dist-packages/sklearn/metrics/_classification.py\u001b[0m in \u001b[0;36mprecision_score\u001b[0;34m(y_true, y_pred, labels, pos_label, average, sample_weight, zero_division)\u001b[0m\n\u001b[1;32m   1952\u001b[0m     \u001b[0marray\u001b[0m\u001b[0;34m(\u001b[0m\u001b[0;34m[\u001b[0m\u001b[0;36m0.5\u001b[0m\u001b[0;34m,\u001b[0m \u001b[0;36m1.\u001b[0m \u001b[0;34m,\u001b[0m \u001b[0;36m1.\u001b[0m \u001b[0;34m]\u001b[0m\u001b[0;34m)\u001b[0m\u001b[0;34m\u001b[0m\u001b[0;34m\u001b[0m\u001b[0m\n\u001b[1;32m   1953\u001b[0m     \"\"\"\n\u001b[0;32m-> 1954\u001b[0;31m     p, _, _, _ = precision_recall_fscore_support(\n\u001b[0m\u001b[1;32m   1955\u001b[0m         \u001b[0my_true\u001b[0m\u001b[0;34m,\u001b[0m\u001b[0;34m\u001b[0m\u001b[0;34m\u001b[0m\u001b[0m\n\u001b[1;32m   1956\u001b[0m         \u001b[0my_pred\u001b[0m\u001b[0;34m,\u001b[0m\u001b[0;34m\u001b[0m\u001b[0;34m\u001b[0m\u001b[0m\n",
            "\u001b[0;32m/usr/local/lib/python3.10/dist-packages/sklearn/metrics/_classification.py\u001b[0m in \u001b[0;36mprecision_recall_fscore_support\u001b[0;34m(y_true, y_pred, beta, labels, pos_label, average, warn_for, sample_weight, zero_division)\u001b[0m\n\u001b[1;32m   1571\u001b[0m     \u001b[0;32mif\u001b[0m \u001b[0mbeta\u001b[0m \u001b[0;34m<\u001b[0m \u001b[0;36m0\u001b[0m\u001b[0;34m:\u001b[0m\u001b[0;34m\u001b[0m\u001b[0;34m\u001b[0m\u001b[0m\n\u001b[1;32m   1572\u001b[0m         \u001b[0;32mraise\u001b[0m \u001b[0mValueError\u001b[0m\u001b[0;34m(\u001b[0m\u001b[0;34m\"beta should be >=0 in the F-beta score\"\u001b[0m\u001b[0;34m)\u001b[0m\u001b[0;34m\u001b[0m\u001b[0;34m\u001b[0m\u001b[0m\n\u001b[0;32m-> 1573\u001b[0;31m     \u001b[0mlabels\u001b[0m \u001b[0;34m=\u001b[0m \u001b[0m_check_set_wise_labels\u001b[0m\u001b[0;34m(\u001b[0m\u001b[0my_true\u001b[0m\u001b[0;34m,\u001b[0m \u001b[0my_pred\u001b[0m\u001b[0;34m,\u001b[0m \u001b[0maverage\u001b[0m\u001b[0;34m,\u001b[0m \u001b[0mlabels\u001b[0m\u001b[0;34m,\u001b[0m \u001b[0mpos_label\u001b[0m\u001b[0;34m)\u001b[0m\u001b[0;34m\u001b[0m\u001b[0;34m\u001b[0m\u001b[0m\n\u001b[0m\u001b[1;32m   1574\u001b[0m \u001b[0;34m\u001b[0m\u001b[0m\n\u001b[1;32m   1575\u001b[0m     \u001b[0;31m# Calculate tp_sum, pred_sum, true_sum ###\u001b[0m\u001b[0;34m\u001b[0m\u001b[0;34m\u001b[0m\u001b[0m\n",
            "\u001b[0;32m/usr/local/lib/python3.10/dist-packages/sklearn/metrics/_classification.py\u001b[0m in \u001b[0;36m_check_set_wise_labels\u001b[0;34m(y_true, y_pred, average, labels, pos_label)\u001b[0m\n\u001b[1;32m   1389\u001b[0m             \u001b[0;32mif\u001b[0m \u001b[0my_type\u001b[0m \u001b[0;34m==\u001b[0m \u001b[0;34m\"multiclass\"\u001b[0m\u001b[0;34m:\u001b[0m\u001b[0;34m\u001b[0m\u001b[0;34m\u001b[0m\u001b[0m\n\u001b[1;32m   1390\u001b[0m                 \u001b[0maverage_options\u001b[0m\u001b[0;34m.\u001b[0m\u001b[0mremove\u001b[0m\u001b[0;34m(\u001b[0m\u001b[0;34m\"samples\"\u001b[0m\u001b[0;34m)\u001b[0m\u001b[0;34m\u001b[0m\u001b[0;34m\u001b[0m\u001b[0m\n\u001b[0;32m-> 1391\u001b[0;31m             raise ValueError(\n\u001b[0m\u001b[1;32m   1392\u001b[0m                 \u001b[0;34m\"Target is %s but average='binary'. Please \"\u001b[0m\u001b[0;34m\u001b[0m\u001b[0;34m\u001b[0m\u001b[0m\n\u001b[1;32m   1393\u001b[0m                 \u001b[0;34m\"choose another average setting, one of %r.\"\u001b[0m \u001b[0;34m%\u001b[0m \u001b[0;34m(\u001b[0m\u001b[0my_type\u001b[0m\u001b[0;34m,\u001b[0m \u001b[0maverage_options\u001b[0m\u001b[0;34m)\u001b[0m\u001b[0;34m\u001b[0m\u001b[0;34m\u001b[0m\u001b[0m\n",
            "\u001b[0;31mValueError\u001b[0m: Target is multiclass but average='binary'. Please choose another average setting, one of [None, 'micro', 'macro', 'weighted']."
          ]
        }
      ],
      "source": [
        "from sklearn.metrics import precision_score\n",
        "precision_score(yt, predictions)"
      ]
    },
    {
      "cell_type": "code",
      "execution_count": 28,
      "metadata": {
        "id": "W6fF7SNlTEnt",
        "outputId": "cd101d7f-59e6-4591-f39a-6da602ad1259",
        "colab": {
          "base_uri": "https://localhost:8080/",
          "height": 304
        }
      },
      "outputs": [
        {
          "output_type": "error",
          "ename": "ValueError",
          "evalue": "Target is multiclass but average='binary'. Please choose another average setting, one of [None, 'micro', 'macro', 'weighted'].",
          "traceback": [
            "\u001b[0;31m---------------------------------------------------------------------------\u001b[0m",
            "\u001b[0;31mValueError\u001b[0m                                Traceback (most recent call last)",
            "\u001b[0;32m<ipython-input-28-92ab9f156fe2>\u001b[0m in \u001b[0;36m<cell line: 2>\u001b[0;34m()\u001b[0m\n\u001b[1;32m      1\u001b[0m \u001b[0;32mfrom\u001b[0m \u001b[0msklearn\u001b[0m\u001b[0;34m.\u001b[0m\u001b[0mmetrics\u001b[0m \u001b[0;32mimport\u001b[0m \u001b[0mrecall_score\u001b[0m\u001b[0;34m\u001b[0m\u001b[0;34m\u001b[0m\u001b[0m\n\u001b[0;32m----> 2\u001b[0;31m \u001b[0mrecall_score\u001b[0m\u001b[0;34m(\u001b[0m\u001b[0myt\u001b[0m\u001b[0;34m,\u001b[0m \u001b[0mpredictions\u001b[0m\u001b[0;34m)\u001b[0m\u001b[0;34m\u001b[0m\u001b[0;34m\u001b[0m\u001b[0m\n\u001b[0m",
            "\u001b[0;32m/usr/local/lib/python3.10/dist-packages/sklearn/metrics/_classification.py\u001b[0m in \u001b[0;36mrecall_score\u001b[0;34m(y_true, y_pred, labels, pos_label, average, sample_weight, zero_division)\u001b[0m\n\u001b[1;32m   2096\u001b[0m     \u001b[0marray\u001b[0m\u001b[0;34m(\u001b[0m\u001b[0;34m[\u001b[0m\u001b[0;36m1.\u001b[0m \u001b[0;34m,\u001b[0m \u001b[0;36m1.\u001b[0m \u001b[0;34m,\u001b[0m \u001b[0;36m0.5\u001b[0m\u001b[0;34m]\u001b[0m\u001b[0;34m)\u001b[0m\u001b[0;34m\u001b[0m\u001b[0;34m\u001b[0m\u001b[0m\n\u001b[1;32m   2097\u001b[0m     \"\"\"\n\u001b[0;32m-> 2098\u001b[0;31m     _, r, _, _ = precision_recall_fscore_support(\n\u001b[0m\u001b[1;32m   2099\u001b[0m         \u001b[0my_true\u001b[0m\u001b[0;34m,\u001b[0m\u001b[0;34m\u001b[0m\u001b[0;34m\u001b[0m\u001b[0m\n\u001b[1;32m   2100\u001b[0m         \u001b[0my_pred\u001b[0m\u001b[0;34m,\u001b[0m\u001b[0;34m\u001b[0m\u001b[0;34m\u001b[0m\u001b[0m\n",
            "\u001b[0;32m/usr/local/lib/python3.10/dist-packages/sklearn/metrics/_classification.py\u001b[0m in \u001b[0;36mprecision_recall_fscore_support\u001b[0;34m(y_true, y_pred, beta, labels, pos_label, average, warn_for, sample_weight, zero_division)\u001b[0m\n\u001b[1;32m   1571\u001b[0m     \u001b[0;32mif\u001b[0m \u001b[0mbeta\u001b[0m \u001b[0;34m<\u001b[0m \u001b[0;36m0\u001b[0m\u001b[0;34m:\u001b[0m\u001b[0;34m\u001b[0m\u001b[0;34m\u001b[0m\u001b[0m\n\u001b[1;32m   1572\u001b[0m         \u001b[0;32mraise\u001b[0m \u001b[0mValueError\u001b[0m\u001b[0;34m(\u001b[0m\u001b[0;34m\"beta should be >=0 in the F-beta score\"\u001b[0m\u001b[0;34m)\u001b[0m\u001b[0;34m\u001b[0m\u001b[0;34m\u001b[0m\u001b[0m\n\u001b[0;32m-> 1573\u001b[0;31m     \u001b[0mlabels\u001b[0m \u001b[0;34m=\u001b[0m \u001b[0m_check_set_wise_labels\u001b[0m\u001b[0;34m(\u001b[0m\u001b[0my_true\u001b[0m\u001b[0;34m,\u001b[0m \u001b[0my_pred\u001b[0m\u001b[0;34m,\u001b[0m \u001b[0maverage\u001b[0m\u001b[0;34m,\u001b[0m \u001b[0mlabels\u001b[0m\u001b[0;34m,\u001b[0m \u001b[0mpos_label\u001b[0m\u001b[0;34m)\u001b[0m\u001b[0;34m\u001b[0m\u001b[0;34m\u001b[0m\u001b[0m\n\u001b[0m\u001b[1;32m   1574\u001b[0m \u001b[0;34m\u001b[0m\u001b[0m\n\u001b[1;32m   1575\u001b[0m     \u001b[0;31m# Calculate tp_sum, pred_sum, true_sum ###\u001b[0m\u001b[0;34m\u001b[0m\u001b[0;34m\u001b[0m\u001b[0m\n",
            "\u001b[0;32m/usr/local/lib/python3.10/dist-packages/sklearn/metrics/_classification.py\u001b[0m in \u001b[0;36m_check_set_wise_labels\u001b[0;34m(y_true, y_pred, average, labels, pos_label)\u001b[0m\n\u001b[1;32m   1389\u001b[0m             \u001b[0;32mif\u001b[0m \u001b[0my_type\u001b[0m \u001b[0;34m==\u001b[0m \u001b[0;34m\"multiclass\"\u001b[0m\u001b[0;34m:\u001b[0m\u001b[0;34m\u001b[0m\u001b[0;34m\u001b[0m\u001b[0m\n\u001b[1;32m   1390\u001b[0m                 \u001b[0maverage_options\u001b[0m\u001b[0;34m.\u001b[0m\u001b[0mremove\u001b[0m\u001b[0;34m(\u001b[0m\u001b[0;34m\"samples\"\u001b[0m\u001b[0;34m)\u001b[0m\u001b[0;34m\u001b[0m\u001b[0;34m\u001b[0m\u001b[0m\n\u001b[0;32m-> 1391\u001b[0;31m             raise ValueError(\n\u001b[0m\u001b[1;32m   1392\u001b[0m                 \u001b[0;34m\"Target is %s but average='binary'. Please \"\u001b[0m\u001b[0;34m\u001b[0m\u001b[0;34m\u001b[0m\u001b[0m\n\u001b[1;32m   1393\u001b[0m                 \u001b[0;34m\"choose another average setting, one of %r.\"\u001b[0m \u001b[0;34m%\u001b[0m \u001b[0;34m(\u001b[0m\u001b[0my_type\u001b[0m\u001b[0;34m,\u001b[0m \u001b[0maverage_options\u001b[0m\u001b[0;34m)\u001b[0m\u001b[0;34m\u001b[0m\u001b[0;34m\u001b[0m\u001b[0m\n",
            "\u001b[0;31mValueError\u001b[0m: Target is multiclass but average='binary'. Please choose another average setting, one of [None, 'micro', 'macro', 'weighted']."
          ]
        }
      ],
      "source": [
        "from sklearn.metrics import recall_score\n",
        "recall_score(yt, predictions)"
      ]
    },
    {
      "cell_type": "code",
      "execution_count": 29,
      "metadata": {
        "id": "s6kDdZwGTEnt",
        "outputId": "e07ce6b7-2b00-4a8c-a6ab-de94137e447a",
        "colab": {
          "base_uri": "https://localhost:8080/",
          "height": 280
        }
      },
      "outputs": [
        {
          "output_type": "error",
          "ename": "ValueError",
          "evalue": "Number of classes, 4, does not match size of target_names, 2. Try specifying the labels parameter",
          "traceback": [
            "\u001b[0;31m---------------------------------------------------------------------------\u001b[0m",
            "\u001b[0;31mValueError\u001b[0m                                Traceback (most recent call last)",
            "\u001b[0;32m<ipython-input-29-a2d2bbbe883e>\u001b[0m in \u001b[0;36m<cell line: 2>\u001b[0;34m()\u001b[0m\n\u001b[1;32m      1\u001b[0m \u001b[0;32mfrom\u001b[0m \u001b[0msklearn\u001b[0m\u001b[0;34m.\u001b[0m\u001b[0mmetrics\u001b[0m \u001b[0;32mimport\u001b[0m \u001b[0mclassification_report\u001b[0m\u001b[0;34m\u001b[0m\u001b[0;34m\u001b[0m\u001b[0m\n\u001b[0;32m----> 2\u001b[0;31m \u001b[0mprint\u001b[0m\u001b[0;34m(\u001b[0m\u001b[0mclassification_report\u001b[0m\u001b[0;34m(\u001b[0m\u001b[0myt\u001b[0m\u001b[0;34m,\u001b[0m \u001b[0mpredictions\u001b[0m\u001b[0;34m,\u001b[0m \u001b[0mtarget_names\u001b[0m\u001b[0;34m=\u001b[0m\u001b[0;34m[\u001b[0m\u001b[0;34m'malignant'\u001b[0m\u001b[0;34m,\u001b[0m \u001b[0;34m'benign'\u001b[0m\u001b[0;34m]\u001b[0m\u001b[0;34m)\u001b[0m\u001b[0;34m)\u001b[0m\u001b[0;34m\u001b[0m\u001b[0;34m\u001b[0m\u001b[0m\n\u001b[0m",
            "\u001b[0;32m/usr/local/lib/python3.10/dist-packages/sklearn/metrics/_classification.py\u001b[0m in \u001b[0;36mclassification_report\u001b[0;34m(y_true, y_pred, labels, target_names, sample_weight, digits, output_dict, zero_division)\u001b[0m\n\u001b[1;32m   2330\u001b[0m             )\n\u001b[1;32m   2331\u001b[0m         \u001b[0;32melse\u001b[0m\u001b[0;34m:\u001b[0m\u001b[0;34m\u001b[0m\u001b[0;34m\u001b[0m\u001b[0m\n\u001b[0;32m-> 2332\u001b[0;31m             raise ValueError(\n\u001b[0m\u001b[1;32m   2333\u001b[0m                 \u001b[0;34m\"Number of classes, {0}, does not match size of \"\u001b[0m\u001b[0;34m\u001b[0m\u001b[0;34m\u001b[0m\u001b[0m\n\u001b[1;32m   2334\u001b[0m                 \u001b[0;34m\"target_names, {1}. Try specifying the labels \"\u001b[0m\u001b[0;34m\u001b[0m\u001b[0;34m\u001b[0m\u001b[0m\n",
            "\u001b[0;31mValueError\u001b[0m: Number of classes, 4, does not match size of target_names, 2. Try specifying the labels parameter"
          ]
        }
      ],
      "source": [
        "from sklearn.metrics import classification_report\n",
        "print(classification_report(yt, predictions, target_names=['malignant', 'benign']))"
      ]
    },
    {
      "cell_type": "code",
      "execution_count": 30,
      "metadata": {
        "id": "ZRx4M6qcTEnt",
        "outputId": "30b18486-8933-4e56-b4e5-e6edeb559899",
        "colab": {
          "base_uri": "https://localhost:8080/"
        }
      },
      "outputs": [
        {
          "output_type": "execute_result",
          "data": {
            "text/plain": [
              "Index(['b1', 'b2', 'b3', 'b4', 'b5', 'b6', 'b7', 'b8', 'b9',\n",
              "       'pred_minus_obs_H_b1', 'pred_minus_obs_H_b2', 'pred_minus_obs_H_b3',\n",
              "       'pred_minus_obs_H_b4', 'pred_minus_obs_H_b5', 'pred_minus_obs_H_b6',\n",
              "       'pred_minus_obs_H_b7', 'pred_minus_obs_H_b8', 'pred_minus_obs_H_b9',\n",
              "       'pred_minus_obs_S_b1', 'pred_minus_obs_S_b2', 'pred_minus_obs_S_b3',\n",
              "       'pred_minus_obs_S_b4', 'pred_minus_obs_S_b5', 'pred_minus_obs_S_b6',\n",
              "       'pred_minus_obs_S_b7', 'pred_minus_obs_S_b8', 'pred_minus_obs_S_b9'],\n",
              "      dtype='object')"
            ]
          },
          "metadata": {},
          "execution_count": 30
        }
      ],
      "source": [
        "feature_names = X.columns\n",
        "feature_names"
      ]
    },
    {
      "cell_type": "code",
      "execution_count": 31,
      "metadata": {
        "id": "0zyInB8STEnu",
        "outputId": "3b606d32-db2c-4d0c-8e5b-e16034063d3f",
        "colab": {
          "base_uri": "https://localhost:8080/"
        }
      },
      "outputs": [
        {
          "output_type": "execute_result",
          "data": {
            "text/plain": [
              "array([0.        , 0.33847153, 0.        , 0.        , 0.        ,\n",
              "       0.        , 0.        , 0.        , 0.        , 0.32166617,\n",
              "       0.        , 0.        , 0.        , 0.        , 0.        ,\n",
              "       0.02620549, 0.        , 0.28675956, 0.        , 0.        ,\n",
              "       0.01341391, 0.01348333, 0.        , 0.        , 0.        ,\n",
              "       0.        , 0.        ])"
            ]
          },
          "metadata": {},
          "execution_count": 31
        }
      ],
      "source": [
        "clf.feature_importances_"
      ]
    },
    {
      "cell_type": "code",
      "execution_count": 32,
      "metadata": {
        "id": "A20VCGqNTEnu",
        "outputId": "54fe79fa-d863-4220-e8bf-c5918c4cd008",
        "colab": {
          "base_uri": "https://localhost:8080/",
          "height": 896
        }
      },
      "outputs": [
        {
          "output_type": "execute_result",
          "data": {
            "text/plain": [
              "                            0\n",
              "b2                   0.338472\n",
              "pred_minus_obs_H_b1  0.321666\n",
              "pred_minus_obs_H_b9  0.286760\n",
              "pred_minus_obs_H_b7  0.026205\n",
              "pred_minus_obs_S_b4  0.013483\n",
              "pred_minus_obs_S_b3  0.013414\n",
              "b1                   0.000000\n",
              "pred_minus_obs_S_b8  0.000000\n",
              "pred_minus_obs_S_b7  0.000000\n",
              "pred_minus_obs_S_b6  0.000000\n",
              "pred_minus_obs_S_b5  0.000000\n",
              "pred_minus_obs_S_b2  0.000000\n",
              "pred_minus_obs_S_b1  0.000000\n",
              "pred_minus_obs_H_b8  0.000000\n",
              "pred_minus_obs_H_b5  0.000000\n",
              "pred_minus_obs_H_b6  0.000000\n",
              "pred_minus_obs_H_b4  0.000000\n",
              "pred_minus_obs_H_b3  0.000000\n",
              "pred_minus_obs_H_b2  0.000000\n",
              "b9                   0.000000\n",
              "b8                   0.000000\n",
              "b7                   0.000000\n",
              "b6                   0.000000\n",
              "b5                   0.000000\n",
              "b4                   0.000000\n",
              "b3                   0.000000\n",
              "pred_minus_obs_S_b9  0.000000"
            ],
            "text/html": [
              "\n",
              "  <div id=\"df-78f0e3b5-2137-451a-a761-8f3bcfdecf4e\" class=\"colab-df-container\">\n",
              "    <div>\n",
              "<style scoped>\n",
              "    .dataframe tbody tr th:only-of-type {\n",
              "        vertical-align: middle;\n",
              "    }\n",
              "\n",
              "    .dataframe tbody tr th {\n",
              "        vertical-align: top;\n",
              "    }\n",
              "\n",
              "    .dataframe thead th {\n",
              "        text-align: right;\n",
              "    }\n",
              "</style>\n",
              "<table border=\"1\" class=\"dataframe\">\n",
              "  <thead>\n",
              "    <tr style=\"text-align: right;\">\n",
              "      <th></th>\n",
              "      <th>0</th>\n",
              "    </tr>\n",
              "  </thead>\n",
              "  <tbody>\n",
              "    <tr>\n",
              "      <th>b2</th>\n",
              "      <td>0.338472</td>\n",
              "    </tr>\n",
              "    <tr>\n",
              "      <th>pred_minus_obs_H_b1</th>\n",
              "      <td>0.321666</td>\n",
              "    </tr>\n",
              "    <tr>\n",
              "      <th>pred_minus_obs_H_b9</th>\n",
              "      <td>0.286760</td>\n",
              "    </tr>\n",
              "    <tr>\n",
              "      <th>pred_minus_obs_H_b7</th>\n",
              "      <td>0.026205</td>\n",
              "    </tr>\n",
              "    <tr>\n",
              "      <th>pred_minus_obs_S_b4</th>\n",
              "      <td>0.013483</td>\n",
              "    </tr>\n",
              "    <tr>\n",
              "      <th>pred_minus_obs_S_b3</th>\n",
              "      <td>0.013414</td>\n",
              "    </tr>\n",
              "    <tr>\n",
              "      <th>b1</th>\n",
              "      <td>0.000000</td>\n",
              "    </tr>\n",
              "    <tr>\n",
              "      <th>pred_minus_obs_S_b8</th>\n",
              "      <td>0.000000</td>\n",
              "    </tr>\n",
              "    <tr>\n",
              "      <th>pred_minus_obs_S_b7</th>\n",
              "      <td>0.000000</td>\n",
              "    </tr>\n",
              "    <tr>\n",
              "      <th>pred_minus_obs_S_b6</th>\n",
              "      <td>0.000000</td>\n",
              "    </tr>\n",
              "    <tr>\n",
              "      <th>pred_minus_obs_S_b5</th>\n",
              "      <td>0.000000</td>\n",
              "    </tr>\n",
              "    <tr>\n",
              "      <th>pred_minus_obs_S_b2</th>\n",
              "      <td>0.000000</td>\n",
              "    </tr>\n",
              "    <tr>\n",
              "      <th>pred_minus_obs_S_b1</th>\n",
              "      <td>0.000000</td>\n",
              "    </tr>\n",
              "    <tr>\n",
              "      <th>pred_minus_obs_H_b8</th>\n",
              "      <td>0.000000</td>\n",
              "    </tr>\n",
              "    <tr>\n",
              "      <th>pred_minus_obs_H_b5</th>\n",
              "      <td>0.000000</td>\n",
              "    </tr>\n",
              "    <tr>\n",
              "      <th>pred_minus_obs_H_b6</th>\n",
              "      <td>0.000000</td>\n",
              "    </tr>\n",
              "    <tr>\n",
              "      <th>pred_minus_obs_H_b4</th>\n",
              "      <td>0.000000</td>\n",
              "    </tr>\n",
              "    <tr>\n",
              "      <th>pred_minus_obs_H_b3</th>\n",
              "      <td>0.000000</td>\n",
              "    </tr>\n",
              "    <tr>\n",
              "      <th>pred_minus_obs_H_b2</th>\n",
              "      <td>0.000000</td>\n",
              "    </tr>\n",
              "    <tr>\n",
              "      <th>b9</th>\n",
              "      <td>0.000000</td>\n",
              "    </tr>\n",
              "    <tr>\n",
              "      <th>b8</th>\n",
              "      <td>0.000000</td>\n",
              "    </tr>\n",
              "    <tr>\n",
              "      <th>b7</th>\n",
              "      <td>0.000000</td>\n",
              "    </tr>\n",
              "    <tr>\n",
              "      <th>b6</th>\n",
              "      <td>0.000000</td>\n",
              "    </tr>\n",
              "    <tr>\n",
              "      <th>b5</th>\n",
              "      <td>0.000000</td>\n",
              "    </tr>\n",
              "    <tr>\n",
              "      <th>b4</th>\n",
              "      <td>0.000000</td>\n",
              "    </tr>\n",
              "    <tr>\n",
              "      <th>b3</th>\n",
              "      <td>0.000000</td>\n",
              "    </tr>\n",
              "    <tr>\n",
              "      <th>pred_minus_obs_S_b9</th>\n",
              "      <td>0.000000</td>\n",
              "    </tr>\n",
              "  </tbody>\n",
              "</table>\n",
              "</div>\n",
              "    <div class=\"colab-df-buttons\">\n",
              "\n",
              "  <div class=\"colab-df-container\">\n",
              "    <button class=\"colab-df-convert\" onclick=\"convertToInteractive('df-78f0e3b5-2137-451a-a761-8f3bcfdecf4e')\"\n",
              "            title=\"Convert this dataframe to an interactive table.\"\n",
              "            style=\"display:none;\">\n",
              "\n",
              "  <svg xmlns=\"http://www.w3.org/2000/svg\" height=\"24px\" viewBox=\"0 -960 960 960\">\n",
              "    <path d=\"M120-120v-720h720v720H120Zm60-500h600v-160H180v160Zm220 220h160v-160H400v160Zm0 220h160v-160H400v160ZM180-400h160v-160H180v160Zm440 0h160v-160H620v160ZM180-180h160v-160H180v160Zm440 0h160v-160H620v160Z\"/>\n",
              "  </svg>\n",
              "    </button>\n",
              "\n",
              "  <style>\n",
              "    .colab-df-container {\n",
              "      display:flex;\n",
              "      gap: 12px;\n",
              "    }\n",
              "\n",
              "    .colab-df-convert {\n",
              "      background-color: #E8F0FE;\n",
              "      border: none;\n",
              "      border-radius: 50%;\n",
              "      cursor: pointer;\n",
              "      display: none;\n",
              "      fill: #1967D2;\n",
              "      height: 32px;\n",
              "      padding: 0 0 0 0;\n",
              "      width: 32px;\n",
              "    }\n",
              "\n",
              "    .colab-df-convert:hover {\n",
              "      background-color: #E2EBFA;\n",
              "      box-shadow: 0px 1px 2px rgba(60, 64, 67, 0.3), 0px 1px 3px 1px rgba(60, 64, 67, 0.15);\n",
              "      fill: #174EA6;\n",
              "    }\n",
              "\n",
              "    .colab-df-buttons div {\n",
              "      margin-bottom: 4px;\n",
              "    }\n",
              "\n",
              "    [theme=dark] .colab-df-convert {\n",
              "      background-color: #3B4455;\n",
              "      fill: #D2E3FC;\n",
              "    }\n",
              "\n",
              "    [theme=dark] .colab-df-convert:hover {\n",
              "      background-color: #434B5C;\n",
              "      box-shadow: 0px 1px 3px 1px rgba(0, 0, 0, 0.15);\n",
              "      filter: drop-shadow(0px 1px 2px rgba(0, 0, 0, 0.3));\n",
              "      fill: #FFFFFF;\n",
              "    }\n",
              "  </style>\n",
              "\n",
              "    <script>\n",
              "      const buttonEl =\n",
              "        document.querySelector('#df-78f0e3b5-2137-451a-a761-8f3bcfdecf4e button.colab-df-convert');\n",
              "      buttonEl.style.display =\n",
              "        google.colab.kernel.accessAllowed ? 'block' : 'none';\n",
              "\n",
              "      async function convertToInteractive(key) {\n",
              "        const element = document.querySelector('#df-78f0e3b5-2137-451a-a761-8f3bcfdecf4e');\n",
              "        const dataTable =\n",
              "          await google.colab.kernel.invokeFunction('convertToInteractive',\n",
              "                                                    [key], {});\n",
              "        if (!dataTable) return;\n",
              "\n",
              "        const docLinkHtml = 'Like what you see? Visit the ' +\n",
              "          '<a target=\"_blank\" href=https://colab.research.google.com/notebooks/data_table.ipynb>data table notebook</a>'\n",
              "          + ' to learn more about interactive tables.';\n",
              "        element.innerHTML = '';\n",
              "        dataTable['output_type'] = 'display_data';\n",
              "        await google.colab.output.renderOutput(dataTable, element);\n",
              "        const docLink = document.createElement('div');\n",
              "        docLink.innerHTML = docLinkHtml;\n",
              "        element.appendChild(docLink);\n",
              "      }\n",
              "    </script>\n",
              "  </div>\n",
              "\n",
              "\n",
              "<div id=\"df-95fa4bbb-a286-40aa-a31d-0a328f0c3874\">\n",
              "  <button class=\"colab-df-quickchart\" onclick=\"quickchart('df-95fa4bbb-a286-40aa-a31d-0a328f0c3874')\"\n",
              "            title=\"Suggest charts\"\n",
              "            style=\"display:none;\">\n",
              "\n",
              "<svg xmlns=\"http://www.w3.org/2000/svg\" height=\"24px\"viewBox=\"0 0 24 24\"\n",
              "     width=\"24px\">\n",
              "    <g>\n",
              "        <path d=\"M19 3H5c-1.1 0-2 .9-2 2v14c0 1.1.9 2 2 2h14c1.1 0 2-.9 2-2V5c0-1.1-.9-2-2-2zM9 17H7v-7h2v7zm4 0h-2V7h2v10zm4 0h-2v-4h2v4z\"/>\n",
              "    </g>\n",
              "</svg>\n",
              "  </button>\n",
              "\n",
              "<style>\n",
              "  .colab-df-quickchart {\n",
              "      --bg-color: #E8F0FE;\n",
              "      --fill-color: #1967D2;\n",
              "      --hover-bg-color: #E2EBFA;\n",
              "      --hover-fill-color: #174EA6;\n",
              "      --disabled-fill-color: #AAA;\n",
              "      --disabled-bg-color: #DDD;\n",
              "  }\n",
              "\n",
              "  [theme=dark] .colab-df-quickchart {\n",
              "      --bg-color: #3B4455;\n",
              "      --fill-color: #D2E3FC;\n",
              "      --hover-bg-color: #434B5C;\n",
              "      --hover-fill-color: #FFFFFF;\n",
              "      --disabled-bg-color: #3B4455;\n",
              "      --disabled-fill-color: #666;\n",
              "  }\n",
              "\n",
              "  .colab-df-quickchart {\n",
              "    background-color: var(--bg-color);\n",
              "    border: none;\n",
              "    border-radius: 50%;\n",
              "    cursor: pointer;\n",
              "    display: none;\n",
              "    fill: var(--fill-color);\n",
              "    height: 32px;\n",
              "    padding: 0;\n",
              "    width: 32px;\n",
              "  }\n",
              "\n",
              "  .colab-df-quickchart:hover {\n",
              "    background-color: var(--hover-bg-color);\n",
              "    box-shadow: 0 1px 2px rgba(60, 64, 67, 0.3), 0 1px 3px 1px rgba(60, 64, 67, 0.15);\n",
              "    fill: var(--button-hover-fill-color);\n",
              "  }\n",
              "\n",
              "  .colab-df-quickchart-complete:disabled,\n",
              "  .colab-df-quickchart-complete:disabled:hover {\n",
              "    background-color: var(--disabled-bg-color);\n",
              "    fill: var(--disabled-fill-color);\n",
              "    box-shadow: none;\n",
              "  }\n",
              "\n",
              "  .colab-df-spinner {\n",
              "    border: 2px solid var(--fill-color);\n",
              "    border-color: transparent;\n",
              "    border-bottom-color: var(--fill-color);\n",
              "    animation:\n",
              "      spin 1s steps(1) infinite;\n",
              "  }\n",
              "\n",
              "  @keyframes spin {\n",
              "    0% {\n",
              "      border-color: transparent;\n",
              "      border-bottom-color: var(--fill-color);\n",
              "      border-left-color: var(--fill-color);\n",
              "    }\n",
              "    20% {\n",
              "      border-color: transparent;\n",
              "      border-left-color: var(--fill-color);\n",
              "      border-top-color: var(--fill-color);\n",
              "    }\n",
              "    30% {\n",
              "      border-color: transparent;\n",
              "      border-left-color: var(--fill-color);\n",
              "      border-top-color: var(--fill-color);\n",
              "      border-right-color: var(--fill-color);\n",
              "    }\n",
              "    40% {\n",
              "      border-color: transparent;\n",
              "      border-right-color: var(--fill-color);\n",
              "      border-top-color: var(--fill-color);\n",
              "    }\n",
              "    60% {\n",
              "      border-color: transparent;\n",
              "      border-right-color: var(--fill-color);\n",
              "    }\n",
              "    80% {\n",
              "      border-color: transparent;\n",
              "      border-right-color: var(--fill-color);\n",
              "      border-bottom-color: var(--fill-color);\n",
              "    }\n",
              "    90% {\n",
              "      border-color: transparent;\n",
              "      border-bottom-color: var(--fill-color);\n",
              "    }\n",
              "  }\n",
              "</style>\n",
              "\n",
              "  <script>\n",
              "    async function quickchart(key) {\n",
              "      const quickchartButtonEl =\n",
              "        document.querySelector('#' + key + ' button');\n",
              "      quickchartButtonEl.disabled = true;  // To prevent multiple clicks.\n",
              "      quickchartButtonEl.classList.add('colab-df-spinner');\n",
              "      try {\n",
              "        const charts = await google.colab.kernel.invokeFunction(\n",
              "            'suggestCharts', [key], {});\n",
              "      } catch (error) {\n",
              "        console.error('Error during call to suggestCharts:', error);\n",
              "      }\n",
              "      quickchartButtonEl.classList.remove('colab-df-spinner');\n",
              "      quickchartButtonEl.classList.add('colab-df-quickchart-complete');\n",
              "    }\n",
              "    (() => {\n",
              "      let quickchartButtonEl =\n",
              "        document.querySelector('#df-95fa4bbb-a286-40aa-a31d-0a328f0c3874 button');\n",
              "      quickchartButtonEl.style.display =\n",
              "        google.colab.kernel.accessAllowed ? 'block' : 'none';\n",
              "    })();\n",
              "  </script>\n",
              "</div>\n",
              "    </div>\n",
              "  </div>\n"
            ],
            "application/vnd.google.colaboratory.intrinsic+json": {
              "type": "dataframe",
              "variable_name": "feature_importance",
              "summary": "{\n  \"name\": \"feature_importance\",\n  \"rows\": 27,\n  \"fields\": [\n    {\n      \"column\": 0,\n      \"properties\": {\n        \"dtype\": \"number\",\n        \"std\": 0.10081868286182782,\n        \"min\": 0.0,\n        \"max\": 0.3384715321747218,\n        \"num_unique_values\": 7,\n        \"samples\": [\n          0.3384715321747218,\n          0.3216661740014928,\n          0.013413908936963983\n        ],\n        \"semantic_type\": \"\",\n        \"description\": \"\"\n      }\n    }\n  ]\n}"
            }
          },
          "metadata": {},
          "execution_count": 32
        }
      ],
      "source": [
        "feature_importance = pd.DataFrame(clf.feature_importances_, index = feature_names).sort_values(0, ascending=False)\n",
        "feature_importance"
      ]
    },
    {
      "cell_type": "code",
      "execution_count": 33,
      "metadata": {
        "id": "0iYGe6klTEnu",
        "outputId": "a34453d9-911b-41c3-9d7a-ca68cc4ae701",
        "colab": {
          "base_uri": "https://localhost:8080/"
        }
      },
      "outputs": [
        {
          "output_type": "execute_result",
          "data": {
            "text/plain": [
              "['b2',\n",
              " 'pred_minus_obs_H_b1',\n",
              " 'pred_minus_obs_H_b9',\n",
              " 'pred_minus_obs_H_b7',\n",
              " 'pred_minus_obs_S_b4',\n",
              " 'pred_minus_obs_S_b3']"
            ]
          },
          "metadata": {},
          "execution_count": 33
        }
      ],
      "source": [
        "features = list(feature_importance[feature_importance[0]>0].index)\n",
        "features"
      ]
    },
    {
      "cell_type": "code",
      "execution_count": 34,
      "metadata": {
        "id": "QsjtlweiTEnu",
        "outputId": "bff1e1c2-e617-4bbb-d07e-1b4b9723d02c",
        "colab": {
          "base_uri": "https://localhost:8080/",
          "height": 587
        }
      },
      "outputs": [
        {
          "output_type": "execute_result",
          "data": {
            "text/plain": [
              "<Axes: >"
            ]
          },
          "metadata": {},
          "execution_count": 34
        },
        {
          "output_type": "display_data",
          "data": {
            "text/plain": [
              "<Figure size 640x480 with 1 Axes>"
            ],
            "image/png": "[encoded data removed]"
          },
          "metadata": {}
        }
      ],
      "source": [
        "feature_importance.head(10).plot(kind='bar')"
      ]
    },
    {
      "cell_type": "code",
      "execution_count": 35,
      "metadata": {
        "id": "sk3LLbepTEnu",
        "outputId": "a62d9174-d2d8-44a5-a361-dbf5e5222558",
        "colab": {
          "base_uri": "https://localhost:8080/",
          "height": 1000
        }
      },
      "outputs": [
        {
          "output_type": "error",
          "ename": "KeyError",
          "evalue": "3",
          "traceback": [
            "\u001b[0;31m---------------------------------------------------------------------------\u001b[0m",
            "\u001b[0;31mKeyError\u001b[0m                                  Traceback (most recent call last)",
            "\u001b[0;32m<ipython-input-35-97e9b20cf55e>\u001b[0m in \u001b[0;36m<cell line: 5>\u001b[0;34m()\u001b[0m\n\u001b[1;32m      3\u001b[0m \u001b[0;34m\u001b[0m\u001b[0m\n\u001b[1;32m      4\u001b[0m \u001b[0mfig\u001b[0m \u001b[0;34m=\u001b[0m \u001b[0mplt\u001b[0m\u001b[0;34m.\u001b[0m\u001b[0mfigure\u001b[0m\u001b[0;34m(\u001b[0m\u001b[0mfigsize\u001b[0m\u001b[0;34m=\u001b[0m\u001b[0;34m(\u001b[0m\u001b[0;36m25\u001b[0m\u001b[0;34m,\u001b[0m\u001b[0;36m20\u001b[0m\u001b[0;34m)\u001b[0m\u001b[0;34m)\u001b[0m\u001b[0;34m\u001b[0m\u001b[0;34m\u001b[0m\u001b[0m\n\u001b[0;32m----> 5\u001b[0;31m _ = tree.plot_tree(clf, \n\u001b[0m\u001b[1;32m      6\u001b[0m                    \u001b[0mfeature_names\u001b[0m\u001b[0;34m=\u001b[0m\u001b[0mfeature_names\u001b[0m\u001b[0;34m,\u001b[0m\u001b[0;34m\u001b[0m\u001b[0;34m\u001b[0m\u001b[0m\n\u001b[1;32m      7\u001b[0m                    \u001b[0mclass_names\u001b[0m\u001b[0;34m=\u001b[0m\u001b[0;34m{\u001b[0m\u001b[0;36m0\u001b[0m\u001b[0;34m:\u001b[0m\u001b[0;34m'Malignant'\u001b[0m\u001b[0;34m,\u001b[0m \u001b[0;36m1\u001b[0m\u001b[0;34m:\u001b[0m\u001b[0;34m'Benign'\u001b[0m\u001b[0;34m}\u001b[0m\u001b[0;34m,\u001b[0m\u001b[0;34m\u001b[0m\u001b[0;34m\u001b[0m\u001b[0m\n",
            "\u001b[0;32m/usr/local/lib/python3.10/dist-packages/sklearn/tree/_export.py\u001b[0m in \u001b[0;36mplot_tree\u001b[0;34m(decision_tree, max_depth, feature_names, class_names, label, filled, impurity, node_ids, proportion, rounded, precision, ax, fontsize)\u001b[0m\n\u001b[1;32m    192\u001b[0m         \u001b[0mfontsize\u001b[0m\u001b[0;34m=\u001b[0m\u001b[0mfontsize\u001b[0m\u001b[0;34m,\u001b[0m\u001b[0;34m\u001b[0m\u001b[0;34m\u001b[0m\u001b[0m\n\u001b[1;32m    193\u001b[0m     )\n\u001b[0;32m--> 194\u001b[0;31m     \u001b[0;32mreturn\u001b[0m \u001b[0mexporter\u001b[0m\u001b[0;34m.\u001b[0m\u001b[0mexport\u001b[0m\u001b[0;34m(\u001b[0m\u001b[0mdecision_tree\u001b[0m\u001b[0;34m,\u001b[0m \u001b[0max\u001b[0m\u001b[0;34m=\u001b[0m\u001b[0max\u001b[0m\u001b[0;34m)\u001b[0m\u001b[0;34m\u001b[0m\u001b[0;34m\u001b[0m\u001b[0m\n\u001b[0m\u001b[1;32m    195\u001b[0m \u001b[0;34m\u001b[0m\u001b[0m\n\u001b[1;32m    196\u001b[0m \u001b[0;34m\u001b[0m\u001b[0m\n",
            "\u001b[0;32m/usr/local/lib/python3.10/dist-packages/sklearn/tree/_export.py\u001b[0m in \u001b[0;36mexport\u001b[0;34m(self, decision_tree, ax)\u001b[0m\n\u001b[1;32m    653\u001b[0m         \u001b[0max\u001b[0m\u001b[0;34m.\u001b[0m\u001b[0mclear\u001b[0m\u001b[0;34m(\u001b[0m\u001b[0;34m)\u001b[0m\u001b[0;34m\u001b[0m\u001b[0;34m\u001b[0m\u001b[0m\n\u001b[1;32m    654\u001b[0m         \u001b[0max\u001b[0m\u001b[0;34m.\u001b[0m\u001b[0mset_axis_off\u001b[0m\u001b[0;34m(\u001b[0m\u001b[0;34m)\u001b[0m\u001b[0;34m\u001b[0m\u001b[0;34m\u001b[0m\u001b[0m\n\u001b[0;32m--> 655\u001b[0;31m         \u001b[0mmy_tree\u001b[0m \u001b[0;34m=\u001b[0m \u001b[0mself\u001b[0m\u001b[0;34m.\u001b[0m\u001b[0m_make_tree\u001b[0m\u001b[0;34m(\u001b[0m\u001b[0;36m0\u001b[0m\u001b[0;34m,\u001b[0m \u001b[0mdecision_tree\u001b[0m\u001b[0;34m.\u001b[0m\u001b[0mtree_\u001b[0m\u001b[0;34m,\u001b[0m \u001b[0mdecision_tree\u001b[0m\u001b[0;34m.\u001b[0m\u001b[0mcriterion\u001b[0m\u001b[0;34m)\u001b[0m\u001b[0;34m\u001b[0m\u001b[0;34m\u001b[0m\u001b[0m\n\u001b[0m\u001b[1;32m    656\u001b[0m         \u001b[0mdraw_tree\u001b[0m \u001b[0;34m=\u001b[0m \u001b[0mbuchheim\u001b[0m\u001b[0;34m(\u001b[0m\u001b[0mmy_tree\u001b[0m\u001b[0;34m)\u001b[0m\u001b[0;34m\u001b[0m\u001b[0;34m\u001b[0m\u001b[0m\n\u001b[1;32m    657\u001b[0m \u001b[0;34m\u001b[0m\u001b[0m\n",
            "\u001b[0;32m/usr/local/lib/python3.10/dist-packages/sklearn/tree/_export.py\u001b[0m in \u001b[0;36m_make_tree\u001b[0;34m(self, node_id, et, criterion, depth)\u001b[0m\n\u001b[1;32m    629\u001b[0m         \u001b[0;31m# traverses _tree.Tree recursively, builds intermediate\u001b[0m\u001b[0;34m\u001b[0m\u001b[0;34m\u001b[0m\u001b[0m\n\u001b[1;32m    630\u001b[0m         \u001b[0;31m# \"_reingold_tilford.Tree\" object\u001b[0m\u001b[0;34m\u001b[0m\u001b[0;34m\u001b[0m\u001b[0m\n\u001b[0;32m--> 631\u001b[0;31m         \u001b[0mname\u001b[0m \u001b[0;34m=\u001b[0m \u001b[0mself\u001b[0m\u001b[0;34m.\u001b[0m\u001b[0mnode_to_str\u001b[0m\u001b[0;34m(\u001b[0m\u001b[0met\u001b[0m\u001b[0;34m,\u001b[0m \u001b[0mnode_id\u001b[0m\u001b[0;34m,\u001b[0m \u001b[0mcriterion\u001b[0m\u001b[0;34m=\u001b[0m\u001b[0mcriterion\u001b[0m\u001b[0;34m)\u001b[0m\u001b[0;34m\u001b[0m\u001b[0;34m\u001b[0m\u001b[0m\n\u001b[0m\u001b[1;32m    632\u001b[0m         if et.children_left[node_id] != _tree.TREE_LEAF and (\n\u001b[1;32m    633\u001b[0m             \u001b[0mself\u001b[0m\u001b[0;34m.\u001b[0m\u001b[0mmax_depth\u001b[0m \u001b[0;32mis\u001b[0m \u001b[0;32mNone\u001b[0m \u001b[0;32mor\u001b[0m \u001b[0mdepth\u001b[0m \u001b[0;34m<=\u001b[0m \u001b[0mself\u001b[0m\u001b[0;34m.\u001b[0m\u001b[0mmax_depth\u001b[0m\u001b[0;34m\u001b[0m\u001b[0;34m\u001b[0m\u001b[0m\n",
            "\u001b[0;32m/usr/local/lib/python3.10/dist-packages/sklearn/tree/_export.py\u001b[0m in \u001b[0;36mnode_to_str\u001b[0;34m(self, tree, node_id, criterion)\u001b[0m\n\u001b[1;32m    364\u001b[0m                 \u001b[0mnode_string\u001b[0m \u001b[0;34m+=\u001b[0m \u001b[0;34m\"class = \"\u001b[0m\u001b[0;34m\u001b[0m\u001b[0;34m\u001b[0m\u001b[0m\n\u001b[1;32m    365\u001b[0m             \u001b[0;32mif\u001b[0m \u001b[0mself\u001b[0m\u001b[0;34m.\u001b[0m\u001b[0mclass_names\u001b[0m \u001b[0;32mis\u001b[0m \u001b[0;32mnot\u001b[0m \u001b[0;32mTrue\u001b[0m\u001b[0;34m:\u001b[0m\u001b[0;34m\u001b[0m\u001b[0;34m\u001b[0m\u001b[0m\n\u001b[0;32m--> 366\u001b[0;31m                 \u001b[0mclass_name\u001b[0m \u001b[0;34m=\u001b[0m \u001b[0mself\u001b[0m\u001b[0;34m.\u001b[0m\u001b[0mclass_names\u001b[0m\u001b[0;34m[\u001b[0m\u001b[0mnp\u001b[0m\u001b[0;34m.\u001b[0m\u001b[0margmax\u001b[0m\u001b[0;34m(\u001b[0m\u001b[0mvalue\u001b[0m\u001b[0;34m)\u001b[0m\u001b[0;34m]\u001b[0m\u001b[0;34m\u001b[0m\u001b[0;34m\u001b[0m\u001b[0m\n\u001b[0m\u001b[1;32m    367\u001b[0m             \u001b[0;32melse\u001b[0m\u001b[0;34m:\u001b[0m\u001b[0;34m\u001b[0m\u001b[0;34m\u001b[0m\u001b[0m\n\u001b[1;32m    368\u001b[0m                 class_name = \"y%s%s%s\" % (\n",
            "\u001b[0;31mKeyError\u001b[0m: 3"
          ]
        },
        {
          "output_type": "display_data",
          "data": {
            "text/plain": [
              "<Figure size 2500x2000 with 1 Axes>"
            ],
            "image/png": "[encoded data removed]"
          },
          "metadata": {}
        }
      ],
      "source": [
        "from sklearn import tree\n",
        "from matplotlib import pyplot as plt\n",
        "\n",
        "fig = plt.figure(figsize=(25,20))\n",
        "_ = tree.plot_tree(clf,\n",
        "                   feature_names=feature_names,\n",
        "                   class_names={0:'Malignant', 1:'Benign'},\n",
        "                   filled=True,\n",
        "                  fontsize=12)"
      ]
    },
    {
      "cell_type": "code",
      "execution_count": null,
      "metadata": {
        "id": "W5tvZsLJTEnu",
        "outputId": "738cf9e8-73e4-441c-c5a7-c78a3e641b82"
      },
      "outputs": [
        {
          "data": {
            "text/html": [
              "<div>\n",
              "<style scoped>\n",
              "    .dataframe tbody tr th:only-of-type {\n",
              "        vertical-align: middle;\n",
              "    }\n",
              "\n",
              "    .dataframe tbody tr th {\n",
              "        vertical-align: top;\n",
              "    }\n",
              "\n",
              "    .dataframe thead th {\n",
              "        text-align: right;\n",
              "    }\n",
              "</style>\n",
              "<table border=\"1\" class=\"dataframe\">\n",
              "  <thead>\n",
              "    <tr style=\"text-align: right;\">\n",
              "      <th></th>\n",
              "      <th>mean radius</th>\n",
              "      <th>mean texture</th>\n",
              "      <th>mean perimeter</th>\n",
              "      <th>mean area</th>\n",
              "      <th>mean smoothness</th>\n",
              "      <th>mean compactness</th>\n",
              "      <th>mean concavity</th>\n",
              "      <th>mean concave points</th>\n",
              "      <th>mean symmetry</th>\n",
              "      <th>mean fractal dimension</th>\n",
              "      <th>...</th>\n",
              "      <th>worst radius</th>\n",
              "      <th>worst texture</th>\n",
              "      <th>worst perimeter</th>\n",
              "      <th>worst area</th>\n",
              "      <th>worst smoothness</th>\n",
              "      <th>worst compactness</th>\n",
              "      <th>worst concavity</th>\n",
              "      <th>worst concave points</th>\n",
              "      <th>worst symmetry</th>\n",
              "      <th>worst fractal dimension</th>\n",
              "    </tr>\n",
              "  </thead>\n",
              "  <tbody>\n",
              "    <tr>\n",
              "      <th>218</th>\n",
              "      <td>19.800</td>\n",
              "      <td>21.56</td>\n",
              "      <td>129.70</td>\n",
              "      <td>1230.0</td>\n",
              "      <td>0.09383</td>\n",
              "      <td>0.13060</td>\n",
              "      <td>0.127200</td>\n",
              "      <td>0.086910</td>\n",
              "      <td>0.2094</td>\n",
              "      <td>0.05581</td>\n",
              "      <td>...</td>\n",
              "      <td>25.73</td>\n",
              "      <td>28.64</td>\n",
              "      <td>170.30</td>\n",
              "      <td>2009.0</td>\n",
              "      <td>0.13530</td>\n",
              "      <td>0.32350</td>\n",
              "      <td>0.36170</td>\n",
              "      <td>0.18200</td>\n",
              "      <td>0.3070</td>\n",
              "      <td>0.08255</td>\n",
              "    </tr>\n",
              "    <tr>\n",
              "      <th>407</th>\n",
              "      <td>12.850</td>\n",
              "      <td>21.37</td>\n",
              "      <td>82.63</td>\n",
              "      <td>514.5</td>\n",
              "      <td>0.07551</td>\n",
              "      <td>0.08316</td>\n",
              "      <td>0.061260</td>\n",
              "      <td>0.018670</td>\n",
              "      <td>0.1580</td>\n",
              "      <td>0.06114</td>\n",
              "      <td>...</td>\n",
              "      <td>14.40</td>\n",
              "      <td>27.01</td>\n",
              "      <td>91.63</td>\n",
              "      <td>645.8</td>\n",
              "      <td>0.09402</td>\n",
              "      <td>0.19360</td>\n",
              "      <td>0.18380</td>\n",
              "      <td>0.05601</td>\n",
              "      <td>0.2488</td>\n",
              "      <td>0.08151</td>\n",
              "    </tr>\n",
              "    <tr>\n",
              "      <th>97</th>\n",
              "      <td>9.787</td>\n",
              "      <td>19.94</td>\n",
              "      <td>62.11</td>\n",
              "      <td>294.5</td>\n",
              "      <td>0.10240</td>\n",
              "      <td>0.05301</td>\n",
              "      <td>0.006829</td>\n",
              "      <td>0.007937</td>\n",
              "      <td>0.1350</td>\n",
              "      <td>0.06890</td>\n",
              "      <td>...</td>\n",
              "      <td>10.92</td>\n",
              "      <td>26.29</td>\n",
              "      <td>68.81</td>\n",
              "      <td>366.1</td>\n",
              "      <td>0.13160</td>\n",
              "      <td>0.09473</td>\n",
              "      <td>0.02049</td>\n",
              "      <td>0.02381</td>\n",
              "      <td>0.1934</td>\n",
              "      <td>0.08988</td>\n",
              "    </tr>\n",
              "    <tr>\n",
              "      <th>134</th>\n",
              "      <td>18.450</td>\n",
              "      <td>21.91</td>\n",
              "      <td>120.20</td>\n",
              "      <td>1075.0</td>\n",
              "      <td>0.09430</td>\n",
              "      <td>0.09709</td>\n",
              "      <td>0.115300</td>\n",
              "      <td>0.068470</td>\n",
              "      <td>0.1692</td>\n",
              "      <td>0.05727</td>\n",
              "      <td>...</td>\n",
              "      <td>22.52</td>\n",
              "      <td>31.39</td>\n",
              "      <td>145.60</td>\n",
              "      <td>1590.0</td>\n",
              "      <td>0.14650</td>\n",
              "      <td>0.22750</td>\n",
              "      <td>0.39650</td>\n",
              "      <td>0.13790</td>\n",
              "      <td>0.3109</td>\n",
              "      <td>0.07610</td>\n",
              "    </tr>\n",
              "    <tr>\n",
              "      <th>295</th>\n",
              "      <td>13.770</td>\n",
              "      <td>13.27</td>\n",
              "      <td>88.06</td>\n",
              "      <td>582.7</td>\n",
              "      <td>0.09198</td>\n",
              "      <td>0.06221</td>\n",
              "      <td>0.010630</td>\n",
              "      <td>0.019170</td>\n",
              "      <td>0.1592</td>\n",
              "      <td>0.05912</td>\n",
              "      <td>...</td>\n",
              "      <td>14.67</td>\n",
              "      <td>16.93</td>\n",
              "      <td>94.17</td>\n",
              "      <td>661.1</td>\n",
              "      <td>0.11700</td>\n",
              "      <td>0.10720</td>\n",
              "      <td>0.03732</td>\n",
              "      <td>0.05802</td>\n",
              "      <td>0.2823</td>\n",
              "      <td>0.06794</td>\n",
              "    </tr>\n",
              "  </tbody>\n",
              "</table>\n",
              "<p>5 rows × 30 columns</p>\n",
              "</div>"
            ],
            "text/plain": [
              "     mean radius  mean texture  mean perimeter  mean area  mean smoothness  \\\n",
              "218       19.800         21.56          129.70     1230.0          0.09383   \n",
              "407       12.850         21.37           82.63      514.5          0.07551   \n",
              "97         9.787         19.94           62.11      294.5          0.10240   \n",
              "134       18.450         21.91          120.20     1075.0          0.09430   \n",
              "295       13.770         13.27           88.06      582.7          0.09198   \n",
              "\n",
              "     mean compactness  mean concavity  mean concave points  mean symmetry  \\\n",
              "218           0.13060        0.127200             0.086910         0.2094   \n",
              "407           0.08316        0.061260             0.018670         0.1580   \n",
              "97            0.05301        0.006829             0.007937         0.1350   \n",
              "134           0.09709        0.115300             0.068470         0.1692   \n",
              "295           0.06221        0.010630             0.019170         0.1592   \n",
              "\n",
              "     mean fractal dimension  ...  worst radius  worst texture  \\\n",
              "218                 0.05581  ...         25.73          28.64   \n",
              "407                 0.06114  ...         14.40          27.01   \n",
              "97                  0.06890  ...         10.92          26.29   \n",
              "134                 0.05727  ...         22.52          31.39   \n",
              "295                 0.05912  ...         14.67          16.93   \n",
              "\n",
              "     worst perimeter  worst area  worst smoothness  worst compactness  \\\n",
              "218           170.30      2009.0           0.13530            0.32350   \n",
              "407            91.63       645.8           0.09402            0.19360   \n",
              "97             68.81       366.1           0.13160            0.09473   \n",
              "134           145.60      1590.0           0.14650            0.22750   \n",
              "295            94.17       661.1           0.11700            0.10720   \n",
              "\n",
              "     worst concavity  worst concave points  worst symmetry  \\\n",
              "218          0.36170               0.18200          0.3070   \n",
              "407          0.18380               0.05601          0.2488   \n",
              "97           0.02049               0.02381          0.1934   \n",
              "134          0.39650               0.13790          0.3109   \n",
              "295          0.03732               0.05802          0.2823   \n",
              "\n",
              "     worst fractal dimension  \n",
              "218                  0.08255  \n",
              "407                  0.08151  \n",
              "97                   0.08988  \n",
              "134                  0.07610  \n",
              "295                  0.06794  \n",
              "\n",
              "[5 rows x 30 columns]"
            ]
          },
          "execution_count": 32,
          "metadata": {},
          "output_type": "execute_result"
        }
      ],
      "source": [
        "# follow the first example on the tree to explain the decision_path function output\n",
        "X_test.head()"
      ]
    },
    {
      "cell_type": "code",
      "execution_count": null,
      "metadata": {
        "id": "xmqDyk5TTEnu",
        "outputId": "5560a9e0-35ab-4483-cfdd-3813503d8577"
      },
      "outputs": [
        {
          "data": {
            "text/plain": [
              "<188x11 sparse matrix of type '<class 'numpy.int64'>'\n",
              "\twith 582 stored elements in Compressed Sparse Row format>"
            ]
          },
          "execution_count": 33,
          "metadata": {},
          "output_type": "execute_result"
        }
      ],
      "source": [
        "clf.decision_path(X_test)"
      ]
    },
    {
      "cell_type": "code",
      "execution_count": null,
      "metadata": {
        "id": "XnU8vmtpTEnv"
      },
      "outputs": [],
      "source": [
        "sparse = clf.decision_path(X_test).toarray()[:101]"
      ]
    },
    {
      "cell_type": "code",
      "execution_count": null,
      "metadata": {
        "id": "iNS2g2M1TEnv",
        "outputId": "cd39dd8b-b5a9-4f13-ef6a-d36e51f2e4a5"
      },
      "outputs": [
        {
          "data": {
            "text/plain": [
              "<matplotlib.lines.Line2D at 0x7f9c5a162850>"
            ]
          },
          "execution_count": 36,
          "metadata": {},
          "output_type": "execute_result"
        },
        {
          "data": {
            "image/png": "[encoded data removed]",
            "text/plain": [
              "<Figure size 1440x1440 with 1 Axes>"
            ]
          },
          "metadata": {
            "needs_background": "light"
          },
          "output_type": "display_data"
        }
      ],
      "source": [
        "plt.figure(figsize=(20, 20))\n",
        "plt.spy(sparse, markersize=5)"
      ]
    },
    {
      "cell_type": "code",
      "execution_count": null,
      "metadata": {
        "id": "U7unX8oXTEnv"
      },
      "outputs": [],
      "source": []
    }
  ],
  "metadata": {
    "kernelspec": {
      "display_name": "Python 3",
      "name": "python3"
    },
    "language_info": {
      "codemirror_mode": {
        "name": "ipython",
        "version": 3
      },
      "file_extension": ".py",
      "mimetype": "text/x-python",
      "name": "python",
      "nbconvert_exporter": "python",
      "pygments_lexer": "ipython3",
      "version": "3.8.3"
    },
    "colab": {
      "provenance": [],
      "gpuType": "T4"
    }
  },
  "nbformat": 4,
  "nbformat_minor": 0
}